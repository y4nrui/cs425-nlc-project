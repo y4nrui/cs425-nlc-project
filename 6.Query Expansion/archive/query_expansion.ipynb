{
 "cells": [
  {
   "cell_type": "markdown",
   "id": "0bc4e931",
   "metadata": {},
   "source": [
    "# spaCy Finance Domain Query Expansion"
   ]
  },
  {
   "cell_type": "code",
   "execution_count": 3,
   "id": "75c7038e",
   "metadata": {},
   "outputs": [
    {
     "name": "stdout",
     "output_type": "stream",
     "text": [
      "Collecting spacy-wordnet\n",
      "  Downloading spacy_wordnet-0.0.5-py2.py3-none-any.whl (650 kB)\n",
      "\u001b[K     |████████████████████████████████| 650 kB 12.2 MB/s \n",
      "\u001b[?25hCollecting nltk<3.4,>=3.3\n",
      "  Downloading nltk-3.3.0.zip (1.4 MB)\n",
      "\u001b[K     |████████████████████████████████| 1.4 MB 45.3 MB/s \n",
      "\u001b[?25hRequirement already satisfied: six in /Users/ninja/opt/anaconda3/lib/python3.7/site-packages (from nltk<3.4,>=3.3->spacy-wordnet) (1.15.0)\n",
      "Building wheels for collected packages: nltk\n",
      "  Building wheel for nltk (setup.py) ... \u001b[?25ldone\n",
      "\u001b[?25h  Created wheel for nltk: filename=nltk-3.3-py3-none-any.whl size=1394469 sha256=624e26022ab683349d0639921ba387160764dd0a462b55187a38e932540ebeea\n",
      "  Stored in directory: /Users/ninja/Library/Caches/pip/wheels/9b/fd/0c/d92302c876e5de87ebd7fc0979d82edb93e2d8d768bf71fac4\n",
      "Successfully built nltk\n",
      "Installing collected packages: nltk, spacy-wordnet\n",
      "  Attempting uninstall: nltk\n",
      "    Found existing installation: nltk 3.6.2\n",
      "    Uninstalling nltk-3.6.2:\n",
      "      Successfully uninstalled nltk-3.6.2\n",
      "Successfully installed nltk-3.3 spacy-wordnet-0.0.5\n"
     ]
    }
   ],
   "source": [
    "#!pip install spacy-wordnet"
   ]
  },
  {
   "cell_type": "code",
   "execution_count": 1,
   "id": "52c1d497-a75b-4283-96a8-ac73b498f0ec",
   "metadata": {},
   "outputs": [],
   "source": [
    "import nltk\n",
    "from nltk.corpus import wordnet as wn\n",
    "import re\n",
    "\n",
    "import spacy\n",
    "from spacy_wordnet.wordnet_annotator import WordnetAnnotator "
   ]
  },
  {
   "cell_type": "code",
   "execution_count": 2,
   "id": "f6cd0de8",
   "metadata": {},
   "outputs": [
    {
     "data": {
      "text/plain": [
       "['book_keeping',\n",
       " 'numismatics',\n",
       " 'betting',\n",
       " 'banking',\n",
       " 'insurance',\n",
       " 'racing',\n",
       " 'social',\n",
       " 'money',\n",
       " 'finance',\n",
       " 'post',\n",
       " 'law',\n",
       " 'commerce',\n",
       " 'enterprise',\n",
       " 'telegraphy',\n",
       " 'mathematics',\n",
       " 'industry',\n",
       " 'economy',\n",
       " 'tax',\n",
       " 'free_time',\n",
       " 'jewellery',\n",
       " 'statistics',\n",
       " 'exchange',\n",
       " 'buildings',\n",
       " 'diplomacy',\n",
       " 'book_keeping',\n",
       " 'factotum',\n",
       " 'agriculture',\n",
       " 'electrotechnology',\n",
       " 'numismatics',\n",
       " 'person',\n",
       " 'telephony',\n",
       " 'metrology',\n",
       " 'politics',\n",
       " 'betting',\n",
       " 'banking',\n",
       " 'sociology',\n",
       " 'insurance',\n",
       " 'racing',\n",
       " 'publishing',\n",
       " 'social',\n",
       " 'money',\n",
       " 'card',\n",
       " 'finance',\n",
       " 'post',\n",
       " 'law',\n",
       " 'topography',\n",
       " 'tourism',\n",
       " 'commerce',\n",
       " 'philology',\n",
       " 'telegraphy',\n",
       " 'enterprise',\n",
       " 'mathematics',\n",
       " 'time_period',\n",
       " 'town_planning',\n",
       " 'animal_husbandry',\n",
       " 'pure_science',\n",
       " 'computer_science',\n",
       " 'economy',\n",
       " 'industry',\n",
       " 'tax',\n",
       " 'quality',\n",
       " 'free_time',\n",
       " 'philately',\n",
       " 'railway',\n",
       " 'jewellery',\n",
       " 'telecommunication',\n",
       " 'statistics',\n",
       " 'exchange',\n",
       " 'economy',\n",
       " 'music',\n",
       " 'social',\n",
       " 'economy',\n",
       " 'commerce',\n",
       " 'social',\n",
       " 'commerce']"
      ]
     },
     "execution_count": 2,
     "metadata": {},
     "output_type": "execute_result"
    }
   ],
   "source": [
    "# Load an spacy model (supported models are \"es\", \"en\" and \"pt\") \n",
    "nlp = spacy.load('en_core_web_sm')\n",
    "# Spacy 3.x\n",
    "nlp.add_pipe(\"spacy_wordnet\", after='tagger', config={'lang': nlp.lang})\n",
    "# Spacy 2.x\n",
    "# self.nlp_en.add_pipe(WordnetAnnotator(self.nlp_en.lang))\n",
    "token = nlp('prices')[0]\n",
    "\n",
    "# wordnet object link spacy token with nltk wordnet interface by giving acces to\n",
    "# synsets and lemmas \n",
    "token._.wordnet.synsets()\n",
    "token._.wordnet.lemmas()\n",
    "\n",
    "# And automatically tags with wordnet domains\n",
    "token._.wordnet.wordnet_domains()"
   ]
  },
  {
   "cell_type": "code",
   "execution_count": null,
   "id": "f6cd0de8",
   "metadata": {},
   "outputs": [
    {
     "data": {
      "text/plain": [
       "['book_keeping',\n",
       " 'numismatics',\n",
       " 'betting',\n",
       " 'banking',\n",
       " 'insurance',\n",
       " 'racing',\n",
       " 'social',\n",
       " 'money',\n",
       " 'finance',\n",
       " 'post',\n",
       " 'law',\n",
       " 'commerce',\n",
       " 'enterprise',\n",
       " 'telegraphy',\n",
       " 'mathematics',\n",
       " 'industry',\n",
       " 'economy',\n",
       " 'tax',\n",
       " 'free_time',\n",
       " 'jewellery',\n",
       " 'statistics',\n",
       " 'exchange',\n",
       " 'buildings',\n",
       " 'diplomacy',\n",
       " 'book_keeping',\n",
       " 'factotum',\n",
       " 'agriculture',\n",
       " 'electrotechnology',\n",
       " 'numismatics',\n",
       " 'person',\n",
       " 'telephony',\n",
       " 'metrology',\n",
       " 'politics',\n",
       " 'betting',\n",
       " 'banking',\n",
       " 'sociology',\n",
       " 'insurance',\n",
       " 'racing',\n",
       " 'publishing',\n",
       " 'social',\n",
       " 'money',\n",
       " 'card',\n",
       " 'finance',\n",
       " 'post',\n",
       " 'law',\n",
       " 'topography',\n",
       " 'tourism',\n",
       " 'commerce',\n",
       " 'philology',\n",
       " 'telegraphy',\n",
       " 'enterprise',\n",
       " 'mathematics',\n",
       " 'time_period',\n",
       " 'town_planning',\n",
       " 'animal_husbandry',\n",
       " 'pure_science',\n",
       " 'computer_science',\n",
       " 'economy',\n",
       " 'industry',\n",
       " 'tax',\n",
       " 'quality',\n",
       " 'free_time',\n",
       " 'philately',\n",
       " 'railway',\n",
       " 'jewellery',\n",
       " 'telecommunication',\n",
       " 'statistics',\n",
       " 'exchange',\n",
       " 'economy',\n",
       " 'music',\n",
       " 'social',\n",
       " 'economy',\n",
       " 'commerce',\n",
       " 'social',\n",
       " 'commerce']"
      ]
     },
     "metadata": {},
     "output_type": "display_data"
    }
   ],
   "source": [
    "# Load an spacy model (supported models are \"es\", \"en\" and \"pt\") \n",
    "nlp = spacy.load('en_core_web_sm')\n",
    "# Spacy 3.x\n",
    "nlp.add_pipe(\"spacy_wordnet\", after='tagger', config={'lang': nlp.lang})\n",
    "# Spacy 2.x\n",
    "# self.nlp_en.add_pipe(WordnetAnnotator(self.nlp_en.lang))\n",
    "token = nlp('prices')[0]\n",
    "\n",
    "# wordnet object link spacy token with nltk wordnet interface by giving acces to\n",
    "# synsets and lemmas \n",
    "token._.wordnet.synsets()\n",
    "token._.wordnet.lemmas()\n",
    "\n",
    "# And automatically tags with wordnet domains\n",
    "token._.wordnet.wordnet_domains()"
   ]
  },
  {
   "cell_type": "code",
   "execution_count": 11,
   "id": "c55a209c",
   "metadata": {},
   "outputs": [
    {
     "name": "stdout",
     "output_type": "stream",
     "text": [
      "I (deprivation|neediness|lack|need|deficiency|privation|want|require) to (withdraw|draw_off|take_out|draw) 5,000 euros and (invest|commit|put|place) it in the (stock) (market_place|market|marketplace) and (buy|purchase) (equity)\n"
     ]
    }
   ],
   "source": [
    "enriched_sentence = []\n",
    "economy_domains = ['finance', 'banking', 'investment']\n",
    "sentence = nlp('I want to withdraw 5,000 euros and invest it in the stock market and buy equities')\n",
    "\n",
    "# For each token in the sentence\n",
    "for token in sentence:\n",
    "    # We get those synsets within the desired domains\n",
    "    synsets = token._.wordnet.wordnet_synsets_for_domain(economy_domains)\n",
    "    if not synsets:\n",
    "        enriched_sentence.append(token.text)\n",
    "    else:\n",
    "        lemmas_for_synset = [lemma for s in synsets for lemma in s.lemma_names()]\n",
    "        # If we found a synset in the economy domains\n",
    "        # we get the variants and add them to the enriched sentence\n",
    "        enriched_sentence.append('({})'.format('|'.join(set(lemmas_for_synset))))\n",
    "\n",
    "# Let's see our enriched sentence\n",
    "print(' '.join(enriched_sentence))\n",
    "# >> I (need|want|require) to (draw|withdraw|draw_off|take_out) 5,000 euros"
   ]
  },
  {
   "cell_type": "markdown",
   "id": "c2323f0a",
   "metadata": {},
   "source": [
    "# Archive"
   ]
  },
  {
   "cell_type": "code",
   "execution_count": 15,
   "id": "fd776cd6-320a-415b-a51b-fecbf5054e1b",
   "metadata": {},
   "outputs": [
    {
     "data": {
      "text/plain": [
       "'What are the ins/outs of writing equipment purchases off as business expenses in a home based business?'"
      ]
     },
     "execution_count": 15,
     "metadata": {},
     "output_type": "execute_result"
    }
   ],
   "source": [
    "query = \"What are the ins/outs of writing equipment purchases off as business expenses in a home based business?\"\n",
    "query"
   ]
  },
  {
   "cell_type": "code",
   "execution_count": 16,
   "id": "154c7441-116d-4ef2-a318-8e7c969ec6fb",
   "metadata": {},
   "outputs": [],
   "source": [
    "def basic_cleaning(query):\n",
    "    \"\"\"\n",
    "    Standardize cleaning process -> lowercase, remove punctuations, remove redundant whitespaces\n",
    "    \"\"\"\n",
    "    query = str(query)\n",
    "    query = query.lower()\n",
    "    query = re.sub(r'[^\\w\\s]','',query)\n",
    "    query = ' '.join(query.split())\n",
    "    return query"
   ]
  },
  {
   "cell_type": "code",
   "execution_count": 17,
   "id": "366173bf-338d-4c35-a504-409f26fcf164",
   "metadata": {},
   "outputs": [],
   "source": [
    "def nouns_only(query):\n",
    "    \"\"\"\n",
    "    Takes in a query and returns list of nouns in that query\n",
    "    \"\"\"\n",
    "    try:\n",
    "        tagged_text = nltk.tag.pos_tag(query.split())\n",
    "        nouns_list = [word for word,tag in tagged_text if  tag == 'NNP' or tag == 'NNPS' or tag==\"NN\" or tag==\"NNS\"]\n",
    "        return list(set(nouns_list))\n",
    "    except:\n",
    "        return []"
   ]
  },
  {
   "cell_type": "code",
   "execution_count": 18,
   "id": "fed37def-321f-43ca-85d8-637c7f269ed8",
   "metadata": {},
   "outputs": [],
   "source": [
    "def query_noun_mapping(query_nouns):\n",
    "    \"\"\"\n",
    "    takes in list of nouns and returns closest synonym to each nount\n",
    "    \"\"\"\n",
    "    synonym_dict = {}\n",
    "    for query_noun in query_nouns:\n",
    "        try:\n",
    "            closest_noun = wn.synsets(query_noun)[0].lemmas()[1].name()\n",
    "            synonym_dict[query_noun] = closest_noun\n",
    "        except:\n",
    "            pass\n",
    "    return synonym_dict"
   ]
  },
  {
   "cell_type": "code",
   "execution_count": 19,
   "id": "ccf2f2ca-3e62-49ce-b475-3cd044fac638",
   "metadata": {},
   "outputs": [],
   "source": [
    "def query_expansion(query):\n",
    "    \"\"\"\n",
    "    End to end process for expanding query by including synonyms of nouns to query\n",
    "    Takes in query string and returns expanded query string\n",
    "    \"\"\"\n",
    "    clean_query = basic_cleaning(query)\n",
    "    query_nouns_list = nouns_only(clean_query)\n",
    "    if len(query_nouns_list)==0:\n",
    "        return query\n",
    "    else:\n",
    "        synonym_dict = query_noun_mapping(query_nouns_list)\n",
    "    if len(synonym_dict.keys()) == 0:\n",
    "        return query\n",
    "    else:\n",
    "        for k,v in synonym_dict.items():\n",
    "            idx = query.lower().index(k)\n",
    "            query = query[:idx] + f\"{v} and \" + query[idx:]\n",
    "    return query"
   ]
  },
  {
   "cell_type": "code",
   "execution_count": 20,
   "id": "ed3fc304-8fa3-4df9-8af7-1c81d7d1eafd",
   "metadata": {},
   "outputs": [
    {
     "data": {
      "text/plain": [
       "'What are the ins/outs of writing equipment purchases off as concern and business disbursal and expenses in a place and home based business?'"
      ]
     },
     "execution_count": 20,
     "metadata": {},
     "output_type": "execute_result"
    }
   ],
   "source": [
    "query_expansion(query)"
   ]
  },
  {
   "cell_type": "code",
   "execution_count": null,
   "id": "b5fe5c81-e68d-4390-99da-2f56c989a7aa",
   "metadata": {},
   "outputs": [],
   "source": []
  },
  {
   "cell_type": "code",
   "execution_count": null,
   "id": "1456d120-4e47-483b-9066-1882d6eb6d86",
   "metadata": {},
   "outputs": [],
   "source": []
  },
  {
   "cell_type": "code",
   "execution_count": null,
   "id": "9e34f8b5-b8dc-4a5e-8db9-e778119d0334",
   "metadata": {},
   "outputs": [],
   "source": []
  },
  {
   "cell_type": "code",
   "execution_count": null,
   "id": "17ebfd03-079c-401a-a43d-92913259240a",
   "metadata": {},
   "outputs": [],
   "source": []
  }
 ],
 "metadata": {
  "kernelspec": {
   "display_name": "Python 3",
   "language": "python",
   "name": "python3"
  },
  "language_info": {
   "codemirror_mode": {
    "name": "ipython",
    "version": 3
   },
   "file_extension": ".py",
   "mimetype": "text/x-python",
   "name": "python",
   "nbconvert_exporter": "python",
   "pygments_lexer": "ipython3",
   "version": "3.7.5"
  }
 },
 "nbformat": 4,
 "nbformat_minor": 5
}
