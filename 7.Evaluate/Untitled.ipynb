{
 "cells": [
  {
   "cell_type": "code",
   "execution_count": 1,
   "id": "1e83a432-d538-4134-bf91-db7807ad9cc9",
   "metadata": {},
   "outputs": [],
   "source": [
    "def metric_calculation(predictions, labels):\n",
    "    sum_recall_1 = 0\n",
    "    sum_precision_1 = 0\n",
    "    num_test_data = len(predictions)\n",
    "    # make sure that predictions and labels lists have the same length\n",
    "    for i in range(len(predictions)):\n",
    "        correct_prediction = 0\n",
    "        actual_label = labels[i]\n",
    "        # k = 1\n",
    "        if predictions[i][0] in actual_label:\n",
    "            correct_prediction += 1\n",
    "        sum_precision_1 += (correct_prediction / 1)\n",
    "        sum_recall_1 += (correct_prediction / len(actual_label))\n",
    "\n",
    "    # Divide by numer of test data\n",
    "    precision_1 = sum_precision_1 / num_test_data\n",
    "    recall_1 = sum_recall_1 / num_test_data\n",
    "    f1_1 = 2 * precision_1 * recall_1 / (precision_1 + recall_1)\n",
    "\n",
    "    print(\"K = 1\")\n",
    "    print(\"P@1 = \" + precision_1.__str__())\n",
    "    print(\"R@1 = \" + recall_1.__str__())\n",
    "    print(\"F@1 = \" + f1_1.__str__())"
   ]
  },
  {
   "cell_type": "code",
   "execution_count": null,
   "id": "16c796fd-ee16-408f-af12-a4f036b9f036",
   "metadata": {},
   "outputs": [],
   "source": []
  }
 ],
 "metadata": {
  "kernelspec": {
   "display_name": "Python 3",
   "language": "python",
   "name": "python3"
  },
  "language_info": {
   "codemirror_mode": {
    "name": "ipython",
    "version": 3
   },
   "file_extension": ".py",
   "mimetype": "text/x-python",
   "name": "python",
   "nbconvert_exporter": "python",
   "pygments_lexer": "ipython3",
   "version": "3.8.8"
  }
 },
 "nbformat": 4,
 "nbformat_minor": 5
}
