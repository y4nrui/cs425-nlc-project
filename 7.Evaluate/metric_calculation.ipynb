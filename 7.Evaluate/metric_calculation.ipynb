{
 "cells": [
  {
   "cell_type": "code",
   "execution_count": 1,
   "id": "1e83a432-d538-4134-bf91-db7807ad9cc9",
   "metadata": {},
   "outputs": [],
   "source": [
    "import pickle"
   ]
  },
  {
   "cell_type": "code",
   "execution_count": 2,
   "id": "f9bae8a6-db18-46b6-b93e-35a8b94758de",
   "metadata": {},
   "outputs": [],
   "source": [
    "def metric_calculation(predictions, labels):\n",
    "    sum_recall_1 = 0\n",
    "    sum_precision_1 = 0\n",
    "    num_test_data = len(predictions)\n",
    "    # make sure that predictions and labels lists have the same length\n",
    "    for i in range(len(predictions)):\n",
    "        correct_prediction = 0\n",
    "        actual_label = labels[i]\n",
    "        # k = 1\n",
    "        if predictions[i][0] in actual_label:\n",
    "            correct_prediction += 1\n",
    "        sum_precision_1 += (correct_prediction / 1)\n",
    "        sum_recall_1 += (correct_prediction / len(actual_label))\n",
    "\n",
    "    # Divide by numer of test data\n",
    "    precision_1 = sum_precision_1 / num_test_data\n",
    "    recall_1 = sum_recall_1 / num_test_data\n",
    "    f1_1 = 2 * precision_1 * recall_1 / (precision_1 + recall_1)\n",
    "\n",
    "    print(\"K = 1\")\n",
    "    print(\"P@1 = \" + precision_1.__str__())\n",
    "    print(\"R@1 = \" + recall_1.__str__())\n",
    "    print(\"F@1 = \" + f1_1.__str__())"
   ]
  },
  {
   "cell_type": "code",
   "execution_count": 3,
   "id": "16c796fd-ee16-408f-af12-a4f036b9f036",
   "metadata": {},
   "outputs": [],
   "source": [
    "pickled_results = [\"finetuned_bertbase_results.pkl\",\"finetuned_distilbert_results.pkl\",\"untuned_bertbase_results.pkl\",\"untuned_distilbert_results.pkl\"]"
   ]
  },
  {
   "cell_type": "code",
   "execution_count": 6,
   "id": "f28618b4-2afa-4458-a62e-4286c6ba501a",
   "metadata": {},
   "outputs": [
    {
     "name": "stdout",
     "output_type": "stream",
     "text": [
      "======== METRICS FOR finetuned_bertbase_results.pkl ============\n",
      "K = 1\n",
      "P@1 = 0.3464103570027462\n",
      "R@1 = 0.2841870761643221\n",
      "F@1 = 0.3122288208983802\n",
      "======== METRICS FOR finetuned_distilbert_results.pkl ============\n",
      "K = 1\n",
      "P@1 = 0.33150255001961554\n",
      "R@1 = 0.27078312690317397\n",
      "F@1 = 0.2980821245137956\n",
      "======== METRICS FOR untuned_bertbase_results.pkl ============\n",
      "K = 1\n",
      "P@1 = 0.32091016084739116\n",
      "R@1 = 0.2613900876160584\n",
      "F@1 = 0.28810818914169917\n",
      "======== METRICS FOR untuned_distilbert_results.pkl ============\n",
      "K = 1\n",
      "P@1 = 0.3052177324440957\n",
      "R@1 = 0.24765641054381732\n",
      "F@1 = 0.27344063385898115\n"
     ]
    }
   ],
   "source": [
    "for item in pickled_results:\n",
    "    # Read embeddings\n",
    "    results = pickle.load(open(f\"./{item}\", 'rb'))\n",
    "    labels = results[\"labels\"]\n",
    "    predictions = results[\"predictions\"]\n",
    "    print(f\"======== METRICS FOR {item} ============\")\n",
    "    metric_calculation(predictions,labels)"
   ]
  },
  {
   "cell_type": "code",
   "execution_count": null,
   "id": "9b67683c-5d9a-4ad7-b0a3-da3ee5ef71fd",
   "metadata": {},
   "outputs": [],
   "source": []
  }
 ],
 "metadata": {
  "kernelspec": {
   "display_name": "Python 3",
   "language": "python",
   "name": "python3"
  },
  "language_info": {
   "codemirror_mode": {
    "name": "ipython",
    "version": 3
   },
   "file_extension": ".py",
   "mimetype": "text/x-python",
   "name": "python",
   "nbconvert_exporter": "python",
   "pygments_lexer": "ipython3",
   "version": "3.8.8"
  }
 },
 "nbformat": 4,
 "nbformat_minor": 5
}
