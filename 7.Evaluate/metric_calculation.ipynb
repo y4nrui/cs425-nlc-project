{
 "cells": [
  {
   "cell_type": "code",
   "execution_count": 8,
   "id": "1e83a432-d538-4134-bf91-db7807ad9cc9",
   "metadata": {},
   "outputs": [],
   "source": [
    "import pickle\n",
    "import pandas as pd"
   ]
  },
  {
   "cell_type": "code",
   "execution_count": 2,
   "id": "f9bae8a6-db18-46b6-b93e-35a8b94758de",
   "metadata": {},
   "outputs": [],
   "source": [
    "def metric_calculation(predictions, labels):\n",
    "    sum_recall_1 = 0\n",
    "    sum_precision_1 = 0\n",
    "    num_test_data = len(predictions)\n",
    "    # make sure that predictions and labels lists have the same length\n",
    "    for i in range(len(predictions)):\n",
    "        correct_prediction = 0\n",
    "        actual_label = labels[i]\n",
    "        # k = 1\n",
    "        if predictions[i][0] in actual_label:\n",
    "            correct_prediction += 1\n",
    "        sum_precision_1 += (correct_prediction / 1)\n",
    "        sum_recall_1 += (correct_prediction / len(actual_label))\n",
    "\n",
    "    # Divide by numer of test data\n",
    "    precision_1 = sum_precision_1 / num_test_data\n",
    "    recall_1 = sum_recall_1 / num_test_data\n",
    "    f1_1 = 2 * precision_1 * recall_1 / (precision_1 + recall_1)\n",
    "\n",
    "    print(\"K = 1\")\n",
    "    print(\"P@1 = \" + precision_1.__str__())\n",
    "    print(\"R@1 = \" + recall_1.__str__())\n",
    "    print(\"F@1 = \" + f1_1.__str__())"
   ]
  },
  {
   "cell_type": "code",
   "execution_count": 3,
   "id": "16c796fd-ee16-408f-af12-a4f036b9f036",
   "metadata": {},
   "outputs": [],
   "source": [
    "pickled_results = [\"finetuned_bertbase_results.pkl\",\"finetuned_distilbert_results.pkl\",\"untuned_bertbase_results.pkl\",\"untuned_distilbert_results.pkl\"]"
   ]
  },
  {
   "cell_type": "code",
   "execution_count": 6,
   "id": "f28618b4-2afa-4458-a62e-4286c6ba501a",
   "metadata": {},
   "outputs": [
    {
     "name": "stdout",
     "output_type": "stream",
     "text": [
      "======== METRICS FOR finetuned_bertbase_results.pkl ============\n",
      "K = 1\n",
      "P@1 = 0.3464103570027462\n",
      "R@1 = 0.2841870761643221\n",
      "F@1 = 0.3122288208983802\n",
      "======== METRICS FOR finetuned_distilbert_results.pkl ============\n",
      "K = 1\n",
      "P@1 = 0.33150255001961554\n",
      "R@1 = 0.27078312690317397\n",
      "F@1 = 0.2980821245137956\n",
      "======== METRICS FOR untuned_bertbase_results.pkl ============\n",
      "K = 1\n",
      "P@1 = 0.32091016084739116\n",
      "R@1 = 0.2613900876160584\n",
      "F@1 = 0.28810818914169917\n",
      "======== METRICS FOR untuned_distilbert_results.pkl ============\n",
      "K = 1\n",
      "P@1 = 0.3052177324440957\n",
      "R@1 = 0.24765641054381732\n",
      "F@1 = 0.27344063385898115\n"
     ]
    }
   ],
   "source": [
    "for item in pickled_results:\n",
    "    # Read embeddings\n",
    "    results = pickle.load(open(f\"./{item}\", 'rb'))\n",
    "    labels = results[\"labels\"]\n",
    "    predictions = results[\"predictions\"]\n",
    "    print(f\"======== METRICS FOR {item} ============\")\n",
    "    metric_calculation(predictions,labels)"
   ]
  },
  {
   "cell_type": "markdown",
   "id": "6a6c4186-ac57-4f60-b682-11948c51292f",
   "metadata": {},
   "source": [
    "# Qualitative results"
   ]
  },
  {
   "cell_type": "code",
   "execution_count": 9,
   "id": "e6a98a70-3a37-4159-85f6-e9fae4496ebc",
   "metadata": {},
   "outputs": [],
   "source": [
    "test_df = pd.read_csv(\"../0.Datasets/train_test_split/test.csv\")"
   ]
  },
  {
   "cell_type": "code",
   "execution_count": 13,
   "id": "038ee006-f89d-4fc2-940f-c694dd711e07",
   "metadata": {},
   "outputs": [
    {
     "data": {
      "text/html": [
       "<div>\n",
       "<style scoped>\n",
       "    .dataframe tbody tr th:only-of-type {\n",
       "        vertical-align: middle;\n",
       "    }\n",
       "\n",
       "    .dataframe tbody tr th {\n",
       "        vertical-align: top;\n",
       "    }\n",
       "\n",
       "    .dataframe thead th {\n",
       "        text-align: right;\n",
       "    }\n",
       "</style>\n",
       "<table border=\"1\" class=\"dataframe\">\n",
       "  <thead>\n",
       "    <tr style=\"text-align: right;\">\n",
       "      <th></th>\n",
       "      <th>qid</th>\n",
       "      <th>docid</th>\n",
       "      <th>question</th>\n",
       "      <th>answer</th>\n",
       "    </tr>\n",
       "  </thead>\n",
       "  <tbody>\n",
       "    <tr>\n",
       "      <th>0</th>\n",
       "      <td>7817</td>\n",
       "      <td>31330</td>\n",
       "      <td>Can you have a positive return with a balance ...</td>\n",
       "      <td>Have you owned the stock for longer than 2015?...</td>\n",
       "    </tr>\n",
       "    <tr>\n",
       "      <th>1</th>\n",
       "      <td>6304</td>\n",
       "      <td>105557</td>\n",
       "      <td>Oversimplify it for me: the correct order of i...</td>\n",
       "      <td>Great questions -- the fact that you're thinki...</td>\n",
       "    </tr>\n",
       "    <tr>\n",
       "      <th>2</th>\n",
       "      <td>7115</td>\n",
       "      <td>43508</td>\n",
       "      <td>Definition of “U.S. source” for US non-residen...</td>\n",
       "      <td>The examples you provide in the question are c...</td>\n",
       "    </tr>\n",
       "    <tr>\n",
       "      <th>3</th>\n",
       "      <td>5716</td>\n",
       "      <td>287327</td>\n",
       "      <td>Are car buying services worth it?</td>\n",
       "      <td>I have used car buying services through Costco...</td>\n",
       "    </tr>\n",
       "    <tr>\n",
       "      <th>4</th>\n",
       "      <td>9016</td>\n",
       "      <td>580920</td>\n",
       "      <td>What makes a Company's Stock prices go up or d...</td>\n",
       "      <td>Here are some significant factors affect the c...</td>\n",
       "    </tr>\n",
       "  </tbody>\n",
       "</table>\n",
       "</div>"
      ],
      "text/plain": [
       "    qid   docid                                           question  \\\n",
       "0  7817   31330  Can you have a positive return with a balance ...   \n",
       "1  6304  105557  Oversimplify it for me: the correct order of i...   \n",
       "2  7115   43508  Definition of “U.S. source” for US non-residen...   \n",
       "3  5716  287327                  Are car buying services worth it?   \n",
       "4  9016  580920  What makes a Company's Stock prices go up or d...   \n",
       "\n",
       "                                              answer  \n",
       "0  Have you owned the stock for longer than 2015?...  \n",
       "1  Great questions -- the fact that you're thinki...  \n",
       "2  The examples you provide in the question are c...  \n",
       "3  I have used car buying services through Costco...  \n",
       "4  Here are some significant factors affect the c...  "
      ]
     },
     "execution_count": 13,
     "metadata": {},
     "output_type": "execute_result"
    }
   ],
   "source": [
    "test_df.head().drop(columns=[\"Unnamed: 0\"])"
   ]
  },
  {
   "cell_type": "code",
   "execution_count": 10,
   "id": "efa8622d-6b07-42b9-8a6f-edadc59fb7ad",
   "metadata": {},
   "outputs": [],
   "source": [
    "question_answer_index_map = {}\n",
    "for _,row in test_df.iterrows():\n",
    "    if row[\"qid\"] not in question_answer_index_map:\n",
    "        question_answer_index_map[row[\"qid\"]]= []\n",
    "        question_answer_index_map[row[\"qid\"]].append(row[\"docid\"])\n",
    "    else:\n",
    "        question_answer_index_map[row[\"qid\"]].append(row[\"docid\"])\n",
    "\n",
    "        \n",
    "x = pickle.load(open(\"finetuned_bertbase_results.pkl\", 'rb'))\n",
    "finetuned_bertbase_predictions = x[\"predictions\"]\n",
    "\n",
    "# question_answer_index_map gives a dictionary where\n",
    "# key: qid, value: list of docid\n",
    "# e.g.    {qid: [docid1, docid2]}\n",
    "\n",
    "# finetuned_bertbase_predictions give the fintuned bertbase's\n",
    "# prediction for each qid in question_answer_index_map.\n",
    "# same structure for the other pickle files"
   ]
  },
  {
   "cell_type": "code",
   "execution_count": 26,
   "id": "97d5c0eb-24fe-47e5-9b6a-8919597aa699",
   "metadata": {},
   "outputs": [],
   "source": []
  },
  {
   "cell_type": "code",
   "execution_count": null,
   "id": "17c3af3f-d28a-4d30-8cd6-8be8e107af96",
   "metadata": {},
   "outputs": [],
   "source": []
  }
 ],
 "metadata": {
  "kernelspec": {
   "display_name": "Python 3",
   "language": "python",
   "name": "python3"
  },
  "language_info": {
   "codemirror_mode": {
    "name": "ipython",
    "version": 3
   },
   "file_extension": ".py",
   "mimetype": "text/x-python",
   "name": "python",
   "nbconvert_exporter": "python",
   "pygments_lexer": "ipython3",
   "version": "3.8.8"
  }
 },
 "nbformat": 4,
 "nbformat_minor": 5
}
