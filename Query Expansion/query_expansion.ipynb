{
 "cells": [
  {
   "cell_type": "code",
   "execution_count": 144,
   "id": "52c1d497-a75b-4283-96a8-ac73b498f0ec",
   "metadata": {},
   "outputs": [],
   "source": [
    "import nltk\n",
    "from nltk.corpus import wordnet as wn\n",
    "import re"
   ]
  },
  {
   "cell_type": "code",
   "execution_count": 145,
   "id": "fd776cd6-320a-415b-a51b-fecbf5054e1b",
   "metadata": {},
   "outputs": [
    {
     "data": {
      "text/plain": [
       "'What are the ins/outs of writing equipment purchases off as business expenses in a home based business?'"
      ]
     },
     "execution_count": 145,
     "metadata": {},
     "output_type": "execute_result"
    }
   ],
   "source": [
    "query = \"What are the ins/outs of writing equipment purchases off as business expenses in a home based business?\"\n",
    "synonym_dict = {}\n",
    "query"
   ]
  },
  {
   "cell_type": "code",
   "execution_count": 146,
   "id": "154c7441-116d-4ef2-a318-8e7c969ec6fb",
   "metadata": {},
   "outputs": [],
   "source": [
    "#Performs basic data cleaning on query: standardize capitalization to lower, remove punctuations, remove redundant whitespaces\n",
    "def basic_cleaning(query):\n",
    "    query = str(query)\n",
    "    query = query.lower()\n",
    "    query = re.sub(r'[^\\w\\s]','',query)\n",
    "    query = ' '.join(query.split())\n",
    "    return query"
   ]
  },
  {
   "cell_type": "code",
   "execution_count": 147,
   "id": "366173bf-338d-4c35-a504-409f26fcf164",
   "metadata": {},
   "outputs": [],
   "source": [
    "def nouns_only(query):\n",
    "    try:\n",
    "        tagged_text = nltk.tag.pos_tag(query.split())\n",
    "        nouns_list = [word for word,tag in tagged_text if  tag == 'NNP' or tag == 'NNPS' or tag==\"NN\" or tag==\"NNS\"]\n",
    "        return list(set(nouns_list))\n",
    "    except:\n",
    "        return []"
   ]
  },
  {
   "cell_type": "code",
   "execution_count": 148,
   "id": "fed37def-321f-43ca-85d8-637c7f269ed8",
   "metadata": {},
   "outputs": [],
   "source": [
    "def query_noun_mapping(query_nouns):\n",
    "    for query_noun in query_nouns:\n",
    "        try:\n",
    "            closest_noun = wn.synsets(query_noun)[0].lemmas()[1].name()\n",
    "            synonym_dict[query_noun] = closest_noun\n",
    "        except:\n",
    "            pass\n",
    "    return synonym_dict"
   ]
  },
  {
   "cell_type": "code",
   "execution_count": 149,
   "id": "ccf2f2ca-3e62-49ce-b475-3cd044fac638",
   "metadata": {},
   "outputs": [],
   "source": [
    "def query_expansion(query):\n",
    "    clean_query = basic_cleaning(query)\n",
    "    query_nouns_list = nouns_only(clean_query)\n",
    "    if len(query_nouns_list)==0:\n",
    "        return query\n",
    "    else:\n",
    "        synonym_dict = query_noun_mapping(query_nouns_list)\n",
    "    if len(synonym_dict.keys()) == 0:\n",
    "        return query\n",
    "    else:\n",
    "        for k,v in synonym_dict.items():\n",
    "            idx = query.lower().index(k)\n",
    "            query = query[:idx] + f\"{v} and \" + query[idx:]\n",
    "    return query"
   ]
  },
  {
   "cell_type": "code",
   "execution_count": 150,
   "id": "ed3fc304-8fa3-4df9-8af7-1c81d7d1eafd",
   "metadata": {},
   "outputs": [
    {
     "data": {
      "text/plain": [
       "'What are the ins/outs of writing equipment purchases off as concern and business disbursal and expenses in a place and home based business?'"
      ]
     },
     "execution_count": 150,
     "metadata": {},
     "output_type": "execute_result"
    }
   ],
   "source": [
    "query_expansion(query)"
   ]
  },
  {
   "cell_type": "code",
   "execution_count": null,
   "id": "b5fe5c81-e68d-4390-99da-2f56c989a7aa",
   "metadata": {},
   "outputs": [],
   "source": []
  },
  {
   "cell_type": "code",
   "execution_count": null,
   "id": "1456d120-4e47-483b-9066-1882d6eb6d86",
   "metadata": {},
   "outputs": [],
   "source": []
  },
  {
   "cell_type": "code",
   "execution_count": null,
   "id": "9e34f8b5-b8dc-4a5e-8db9-e778119d0334",
   "metadata": {},
   "outputs": [],
   "source": []
  },
  {
   "cell_type": "code",
   "execution_count": null,
   "id": "17ebfd03-079c-401a-a43d-92913259240a",
   "metadata": {},
   "outputs": [],
   "source": []
  }
 ],
 "metadata": {
  "kernelspec": {
   "display_name": "Python 3",
   "language": "python",
   "name": "python3"
  },
  "language_info": {
   "codemirror_mode": {
    "name": "ipython",
    "version": 3
   },
   "file_extension": ".py",
   "mimetype": "text/x-python",
   "name": "python",
   "nbconvert_exporter": "python",
   "pygments_lexer": "ipython3",
   "version": "3.8.8"
  }
 },
 "nbformat": 4,
 "nbformat_minor": 5
}
