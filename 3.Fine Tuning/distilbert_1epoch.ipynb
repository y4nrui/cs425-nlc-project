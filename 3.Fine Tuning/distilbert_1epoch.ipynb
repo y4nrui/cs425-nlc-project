{
 "cells": [
  {
   "cell_type": "code",
   "execution_count": 8,
   "id": "9a90d81b-4b2a-48e1-acc5-9affd02fb393",
   "metadata": {},
   "outputs": [],
   "source": [
    "!pip install -U sentence-transformers"
   ]
  },
  {
   "cell_type": "code",
   "execution_count": 17,
   "id": "9abf28d1-d5bb-4870-ac3c-04cba0763949",
   "metadata": {},
   "outputs": [
    {
     "name": "stdout",
     "output_type": "stream",
     "text": [
      "4.11.0\n"
     ]
    }
   ],
   "source": [
    "import pandas as pd\n",
    "from sentence_transformers import SentenceTransformer\n",
    "from sentence_transformers import models\n",
    "from sentence_transformers import losses\n",
    "from sentence_transformers import datasets\n",
    "from sentence_transformers import InputExample\n",
    "import transformers\n",
    "print(transformers.__version__)"
   ]
  },
  {
   "cell_type": "code",
   "execution_count": 10,
   "id": "da3b88c1-a31f-4e8b-ae63-8c5230c7713b",
   "metadata": {},
   "outputs": [],
   "source": [
    "word_emb = models.Transformer('sentence-transformers/msmarco-distilbert-dot-v5')\n",
    "pooling = models.Pooling(word_emb.get_word_embedding_dimension())\n",
    "model = SentenceTransformer(modules = [word_emb, pooling])"
   ]
  },
  {
   "cell_type": "markdown",
   "id": "b2d3316d-c05a-4871-9759-751d7cdc0de5",
   "metadata": {},
   "source": [
    "We use <b>MultipleNegativesRankingLoss</b> as our loss function for fine-tuning as we only have positive pairs in our dataset <br>(e.g. question->answer pairs)"
   ]
  },
  {
   "cell_type": "code",
   "execution_count": 18,
   "id": "a0b7f7d0-da67-44c2-9283-d3c56a8f5018",
   "metadata": {},
   "outputs": [
    {
     "data": {
      "text/html": [
       "<div>\n",
       "<style scoped>\n",
       "    .dataframe tbody tr th:only-of-type {\n",
       "        vertical-align: middle;\n",
       "    }\n",
       "\n",
       "    .dataframe tbody tr th {\n",
       "        vertical-align: top;\n",
       "    }\n",
       "\n",
       "    .dataframe thead th {\n",
       "        text-align: right;\n",
       "    }\n",
       "</style>\n",
       "<table border=\"1\" class=\"dataframe\">\n",
       "  <thead>\n",
       "    <tr style=\"text-align: right;\">\n",
       "      <th></th>\n",
       "      <th>Unnamed: 0</th>\n",
       "      <th>qid</th>\n",
       "      <th>docid</th>\n",
       "      <th>question</th>\n",
       "      <th>answer</th>\n",
       "    </tr>\n",
       "  </thead>\n",
       "  <tbody>\n",
       "    <tr>\n",
       "      <th>0</th>\n",
       "      <td>13558</td>\n",
       "      <td>7658</td>\n",
       "      <td>171072</td>\n",
       "      <td>Are RSUs ever taxed as long term capital gains?</td>\n",
       "      <td>I don't know the legal framework for RSUs, so ...</td>\n",
       "    </tr>\n",
       "    <tr>\n",
       "      <th>1</th>\n",
       "      <td>7820</td>\n",
       "      <td>4290</td>\n",
       "      <td>403701</td>\n",
       "      <td>Are there special exceptions to the rule that ...</td>\n",
       "      <td>This is really an extended comment on the last...</td>\n",
       "    </tr>\n",
       "    <tr>\n",
       "      <th>2</th>\n",
       "      <td>15356</td>\n",
       "      <td>9298</td>\n",
       "      <td>481203</td>\n",
       "      <td>Info about managment compansation schemes in p...</td>\n",
       "      <td>Converting the comment from @MD-Tech into answ...</td>\n",
       "    </tr>\n",
       "    <tr>\n",
       "      <th>3</th>\n",
       "      <td>12640</td>\n",
       "      <td>7058</td>\n",
       "      <td>416007</td>\n",
       "      <td>Using stop-loss as risk management: Is it safe?</td>\n",
       "      <td>A stop-loss order becomes a market order when ...</td>\n",
       "    </tr>\n",
       "    <tr>\n",
       "      <th>4</th>\n",
       "      <td>11509</td>\n",
       "      <td>6319</td>\n",
       "      <td>331722</td>\n",
       "      <td>Making a big purchase over $2500. I have the m...</td>\n",
       "      <td>There are a couple of things to consider here ...</td>\n",
       "    </tr>\n",
       "  </tbody>\n",
       "</table>\n",
       "</div>"
      ],
      "text/plain": [
       "   Unnamed: 0   qid   docid  \\\n",
       "0       13558  7658  171072   \n",
       "1        7820  4290  403701   \n",
       "2       15356  9298  481203   \n",
       "3       12640  7058  416007   \n",
       "4       11509  6319  331722   \n",
       "\n",
       "                                            question  \\\n",
       "0    Are RSUs ever taxed as long term capital gains?   \n",
       "1  Are there special exceptions to the rule that ...   \n",
       "2  Info about managment compansation schemes in p...   \n",
       "3    Using stop-loss as risk management: Is it safe?   \n",
       "4  Making a big purchase over $2500. I have the m...   \n",
       "\n",
       "                                              answer  \n",
       "0  I don't know the legal framework for RSUs, so ...  \n",
       "1  This is really an extended comment on the last...  \n",
       "2  Converting the comment from @MD-Tech into answ...  \n",
       "3  A stop-loss order becomes a market order when ...  \n",
       "4  There are a couple of things to consider here ...  "
      ]
     },
     "execution_count": 18,
     "metadata": {},
     "output_type": "execute_result"
    }
   ],
   "source": [
    "train_df = pd.read_csv(\"../0.Datasets/train_test_split/train.csv\")\n",
    "train_df.head()"
   ]
  },
  {
   "cell_type": "code",
   "execution_count": 20,
   "id": "f0a2bdb9-5b73-4471-b604-ae27b7b339b7",
   "metadata": {},
   "outputs": [],
   "source": [
    "fine_tune_examples = []\n",
    "for _,row in train_df.iterrows():\n",
    "    question = row[\"question\"]\n",
    "    answer = row[\"answer\"]\n",
    "    fine_tune_examples.append(InputExample(texts=[question,answer]))"
   ]
  },
  {
   "cell_type": "code",
   "execution_count": 26,
   "id": "1a073d13-6552-40a0-9d01-b12603dacc88",
   "metadata": {},
   "outputs": [],
   "source": [
    "train_dataloader = datasets.NoDuplicatesDataLoader(fine_tune_examples, batch_size=128)"
   ]
  },
  {
   "cell_type": "code",
   "execution_count": 27,
   "id": "f4610627-5a01-441d-b8dd-f754259909c5",
   "metadata": {},
   "outputs": [],
   "source": [
    "train_loss = losses.MultipleNegativesRankingLoss(model)"
   ]
  },
  {
   "cell_type": "code",
   "execution_count": null,
   "id": "2cb0e229-12c3-43f9-8047-351e7197c5fb",
   "metadata": {},
   "outputs": [
    {
     "data": {
      "application/vnd.jupyter.widget-view+json": {
       "model_id": "5953040fa6884677b5998310a19998cf",
       "version_major": 2,
       "version_minor": 0
      },
      "text/plain": [
       "Epoch:   0%|          | 0/1 [00:00<?, ?it/s]"
      ]
     },
     "metadata": {},
     "output_type": "display_data"
    },
    {
     "data": {
      "application/vnd.jupyter.widget-view+json": {
       "model_id": "2d9c717b296c45a4b40405eb906e3db6",
       "version_major": 2,
       "version_minor": 0
      },
      "text/plain": [
       "Iteration:   0%|          | 0/106 [00:00<?, ?it/s]"
      ]
     },
     "metadata": {},
     "output_type": "display_data"
    },
    {
     "name": "stderr",
     "output_type": "stream",
     "text": [
      "C:\\Users\\yiehy\\anaconda3\\lib\\site-packages\\transformers\\tokenization_utils_base.py:2227: UserWarning: `max_length` is ignored when `padding`=`True`.\n",
      "  warnings.warn(\"`max_length` is ignored when `padding`=`True`.\")\n"
     ]
    }
   ],
   "source": [
    "model.fit(\n",
    "    train_objectives=[(train_dataloader, train_loss)],\n",
    "    epochs=1,\n",
    "    show_progress_bar=True\n",
    ")"
   ]
  },
  {
   "cell_type": "code",
   "execution_count": null,
   "id": "aea3ec9d-89fe-491c-98d3-221392c9119c",
   "metadata": {},
   "outputs": [],
   "source": [
    "model.save('./finetuned-distilbert-1epoch')"
   ]
  },
  {
   "cell_type": "code",
   "execution_count": null,
   "id": "6a284342-9d4a-46b6-ae79-9a7d3a1f32e4",
   "metadata": {},
   "outputs": [],
   "source": [
    "!zip -r ./finetuned-distilbert-1epoch.zip ./finetuned-distilbert-1epoch"
   ]
  },
  {
   "cell_type": "code",
   "execution_count": null,
   "id": "f120dcef-ff1b-44a1-b09e-ee322ec7a560",
   "metadata": {},
   "outputs": [],
   "source": [
    "from google.colab import files\n",
    "files.download(\"./finetuned-distilbert-1epoch.zip\")"
   ]
  }
 ],
 "metadata": {
  "kernelspec": {
   "display_name": "Python 3",
   "language": "python",
   "name": "python3"
  },
  "language_info": {
   "codemirror_mode": {
    "name": "ipython",
    "version": 3
   },
   "file_extension": ".py",
   "mimetype": "text/x-python",
   "name": "python",
   "nbconvert_exporter": "python",
   "pygments_lexer": "ipython3",
   "version": "3.8.8"
  }
 },
 "nbformat": 4,
 "nbformat_minor": 5
}
