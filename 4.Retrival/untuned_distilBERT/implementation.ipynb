{
 "cells": [
  {
   "cell_type": "markdown",
   "id": "43e9870d-aad2-438e-bb2b-a973321c97a2",
   "metadata": {},
   "source": [
    "# Install/import relevant libraries"
   ]
  },
  {
   "cell_type": "code",
   "execution_count": 28,
   "id": "2233f771-d792-4d3d-94ba-dcdc1267eb35",
   "metadata": {},
   "outputs": [
    {
     "name": "stdout",
     "output_type": "stream",
     "text": [
      "C:\\Users\\yiehy\\OneDrive\\Desktop\\cs425-nlc-project\\4.Retrival\\untuned_distilBERT\n"
     ]
    }
   ],
   "source": [
    "import pandas as pd\n",
    "import numpy as np\n",
    "from sentence_transformers import SentenceTransformer\n",
    "import pickle\n",
    "import os\n",
    "print(os.getcwd())"
   ]
  },
  {
   "cell_type": "markdown",
   "id": "cc09ee0c-4299-4e7d-9708-bce2ae974d41",
   "metadata": {},
   "source": [
    "# Get embeddings for distilbert"
   ]
  },
  {
   "cell_type": "code",
   "execution_count": 2,
   "id": "8eefe87f-e501-4251-a300-1c6576878a72",
   "metadata": {},
   "outputs": [],
   "source": [
    "qna_df = pd.read_csv(\"../../0.Datasets/QnA.csv\")"
   ]
  },
  {
   "cell_type": "code",
   "execution_count": 3,
   "id": "83fc19b4-c6f3-46f0-9d10-c5c5b398eaa4",
   "metadata": {},
   "outputs": [
    {
     "data": {
      "text/html": [
       "<div>\n",
       "<style scoped>\n",
       "    .dataframe tbody tr th:only-of-type {\n",
       "        vertical-align: middle;\n",
       "    }\n",
       "\n",
       "    .dataframe tbody tr th {\n",
       "        vertical-align: top;\n",
       "    }\n",
       "\n",
       "    .dataframe thead th {\n",
       "        text-align: right;\n",
       "    }\n",
       "</style>\n",
       "<table border=\"1\" class=\"dataframe\">\n",
       "  <thead>\n",
       "    <tr style=\"text-align: right;\">\n",
       "      <th></th>\n",
       "      <th>Unnamed: 0</th>\n",
       "      <th>qid</th>\n",
       "      <th>docid</th>\n",
       "      <th>question</th>\n",
       "      <th>answer</th>\n",
       "    </tr>\n",
       "  </thead>\n",
       "  <tbody>\n",
       "    <tr>\n",
       "      <th>0</th>\n",
       "      <td>0</td>\n",
       "      <td>0</td>\n",
       "      <td>18850</td>\n",
       "      <td>What is considered a business expense on a bus...</td>\n",
       "      <td>What is considered a business expense on a bus...</td>\n",
       "    </tr>\n",
       "    <tr>\n",
       "      <th>1</th>\n",
       "      <td>1</td>\n",
       "      <td>1</td>\n",
       "      <td>14255</td>\n",
       "      <td>Claiming business expenses for a business with...</td>\n",
       "      <td>Claiming business expenses for a business with...</td>\n",
       "    </tr>\n",
       "    <tr>\n",
       "      <th>2</th>\n",
       "      <td>2</td>\n",
       "      <td>2</td>\n",
       "      <td>308938</td>\n",
       "      <td>Transferring money from One business checking ...</td>\n",
       "      <td>Transferring money from One business checking ...</td>\n",
       "    </tr>\n",
       "    <tr>\n",
       "      <th>3</th>\n",
       "      <td>3</td>\n",
       "      <td>3</td>\n",
       "      <td>296717</td>\n",
       "      <td>Having a separate bank account for business/in...</td>\n",
       "      <td>Having a separate bank account for business/in...</td>\n",
       "    </tr>\n",
       "    <tr>\n",
       "      <th>4</th>\n",
       "      <td>4</td>\n",
       "      <td>3</td>\n",
       "      <td>100764</td>\n",
       "      <td>Having a separate bank account for business/in...</td>\n",
       "      <td>Having a separate bank account for business/in...</td>\n",
       "    </tr>\n",
       "  </tbody>\n",
       "</table>\n",
       "</div>"
      ],
      "text/plain": [
       "   Unnamed: 0  qid   docid                                           question  \\\n",
       "0           0    0   18850  What is considered a business expense on a bus...   \n",
       "1           1    1   14255  Claiming business expenses for a business with...   \n",
       "2           2    2  308938  Transferring money from One business checking ...   \n",
       "3           3    3  296717  Having a separate bank account for business/in...   \n",
       "4           4    3  100764  Having a separate bank account for business/in...   \n",
       "\n",
       "                                              answer  \n",
       "0  What is considered a business expense on a bus...  \n",
       "1  Claiming business expenses for a business with...  \n",
       "2  Transferring money from One business checking ...  \n",
       "3  Having a separate bank account for business/in...  \n",
       "4  Having a separate bank account for business/in...  "
      ]
     },
     "execution_count": 3,
     "metadata": {},
     "output_type": "execute_result"
    }
   ],
   "source": [
    "qna_df.head()"
   ]
  },
  {
   "cell_type": "code",
   "execution_count": 6,
   "id": "ddd9f8a8-45f7-446a-832e-4b163c62f010",
   "metadata": {},
   "outputs": [
    {
     "name": "stdout",
     "output_type": "stream",
     "text": [
      "<class 'pandas.core.frame.DataFrame'>\n",
      "RangeIndex: 17072 entries, 0 to 17071\n",
      "Data columns (total 5 columns):\n",
      " #   Column      Non-Null Count  Dtype \n",
      "---  ------      --------------  ----- \n",
      " 0   Unnamed: 0  17072 non-null  int64 \n",
      " 1   qid         17072 non-null  int64 \n",
      " 2   docid       17072 non-null  int64 \n",
      " 3   question    17072 non-null  object\n",
      " 4   answer      17072 non-null  object\n",
      "dtypes: int64(3), object(2)\n",
      "memory usage: 667.0+ KB\n"
     ]
    }
   ],
   "source": [
    "qna_df.info()"
   ]
  },
  {
   "cell_type": "code",
   "execution_count": 5,
   "id": "ca21d9fc-4c47-4d0b-b4be-91dbe63c4473",
   "metadata": {},
   "outputs": [
    {
     "name": "stderr",
     "output_type": "stream",
     "text": [
      "C:\\Users\\yiehy\\anaconda3\\lib\\site-packages\\transformers\\configuration_utils.py:336: UserWarning: Passing `gradient_checkpointing` to a config initialization is deprecated and will be removed in v5 Transformers. Using `model.gradient_checkpointing_enable()` instead, or if you are using the `Trainer` API, pass `gradient_checkpointing=True` in your `TrainingArguments`.\n",
      "  warnings.warn(\n"
     ]
    }
   ],
   "source": [
    "model = SentenceTransformer(\"sentence-transformers/msmarco-distilbert-dot-v5\")"
   ]
  },
  {
   "cell_type": "code",
   "execution_count": 23,
   "id": "1566ce53-d032-4575-b7d2-6cdc15c57700",
   "metadata": {},
   "outputs": [
    {
     "data": {
      "text/plain": [
       "1708"
      ]
     },
     "execution_count": 23,
     "metadata": {},
     "output_type": "execute_result"
    }
   ],
   "source": [
    "# split answers to chunks for model to encode\n",
    "answers_list = qna_df[\"answer\"].tolist()\n",
    "chunk_size = 10\n",
    "chunks = [answers_list[i:(i+chunk_size)] for i in range(0, len(answers_list), chunk_size)]"
   ]
  },
  {
   "cell_type": "code",
   "execution_count": 24,
   "id": "e90f0829-1b21-4b58-b941-e6a6494edc61",
   "metadata": {},
   "outputs": [
    {
     "name": "stdout",
     "output_type": "stream",
     "text": [
      "0\n",
      "100\n",
      "200\n",
      "300\n",
      "400\n",
      "500\n",
      "600\n",
      "700\n",
      "800\n",
      "900\n",
      "1000\n",
      "1100\n",
      "1200\n",
      "1300\n",
      "1400\n",
      "1500\n",
      "1600\n",
      "1700\n",
      "1800\n",
      "1900\n",
      "2000\n",
      "2100\n",
      "2200\n",
      "2300\n",
      "2400\n",
      "2500\n",
      "2600\n",
      "2700\n",
      "2800\n",
      "2900\n",
      "3000\n",
      "3100\n",
      "3200\n",
      "3300\n",
      "3400\n",
      "3500\n",
      "3600\n",
      "3700\n",
      "3800\n",
      "3900\n",
      "4000\n",
      "4100\n",
      "4200\n",
      "4300\n",
      "4400\n",
      "4500\n",
      "4600\n",
      "4700\n",
      "4800\n",
      "4900\n",
      "5000\n",
      "5100\n",
      "5200\n",
      "5300\n",
      "5400\n",
      "5500\n",
      "5600\n",
      "5700\n",
      "5800\n",
      "5900\n",
      "6000\n",
      "6100\n",
      "6200\n",
      "6300\n",
      "6400\n",
      "6500\n",
      "6600\n",
      "6700\n",
      "6800\n",
      "6900\n",
      "7000\n",
      "7100\n",
      "7200\n",
      "7300\n",
      "7400\n",
      "7500\n",
      "7600\n",
      "7700\n",
      "7800\n",
      "7900\n",
      "8000\n",
      "8100\n",
      "8200\n",
      "8300\n",
      "8400\n",
      "8500\n",
      "8600\n",
      "8700\n",
      "8800\n",
      "8900\n",
      "9000\n",
      "9100\n",
      "9200\n",
      "9300\n",
      "9400\n",
      "9500\n",
      "9600\n",
      "9700\n",
      "9800\n",
      "9900\n",
      "10000\n",
      "10100\n",
      "10200\n",
      "10300\n",
      "10400\n",
      "10500\n",
      "10600\n",
      "10700\n",
      "10800\n",
      "10900\n",
      "11000\n",
      "11100\n",
      "11200\n",
      "11300\n",
      "11400\n",
      "11500\n",
      "11600\n",
      "11700\n",
      "11800\n",
      "11900\n",
      "12000\n",
      "12100\n",
      "12200\n",
      "12300\n",
      "12400\n",
      "12500\n",
      "12600\n",
      "12700\n",
      "12800\n",
      "12900\n",
      "13000\n",
      "13100\n",
      "13200\n",
      "13300\n",
      "13400\n",
      "13500\n",
      "13600\n",
      "13700\n",
      "13800\n",
      "13900\n",
      "14000\n",
      "14100\n",
      "14200\n",
      "14300\n",
      "14400\n",
      "14500\n",
      "14600\n",
      "14700\n",
      "14800\n",
      "14900\n",
      "15000\n",
      "15100\n",
      "15200\n",
      "15300\n",
      "15400\n",
      "15500\n",
      "15600\n",
      "15700\n",
      "15800\n",
      "15900\n",
      "16000\n",
      "16100\n",
      "16200\n",
      "16300\n",
      "16400\n",
      "16500\n",
      "16600\n",
      "16700\n",
      "16800\n",
      "16900\n",
      "17000\n"
     ]
    }
   ],
   "source": [
    "dimension_size = 768 # embedding dimensions from msmarco distilbert documentation\n",
    "sentence_embeddings = np.empty([0,dimension_size], dtype=np.float32)\n",
    "for i,chunk in enumerate(chunks):\n",
    "    if i% chunk_size == 0:\n",
    "        print(i* chunk_size)\n",
    "    # stack it to sentence_embeddings numpy array\n",
    "    sentence_embeddings = np.vstack((sentence_embeddings, model.encode(chunk)))"
   ]
  },
  {
   "cell_type": "code",
   "execution_count": 26,
   "id": "fb3a8472-aeda-431e-a6c4-2568cbf624c2",
   "metadata": {},
   "outputs": [
    {
     "data": {
      "text/plain": [
       "17072"
      ]
     },
     "execution_count": 26,
     "metadata": {},
     "output_type": "execute_result"
    }
   ],
   "source": [
    "len(sentence_embeddings)"
   ]
  },
  {
   "cell_type": "code",
   "execution_count": 29,
   "id": "f944bdfe-43a4-4c2d-a4d6-92a8852bfb02",
   "metadata": {},
   "outputs": [],
   "source": [
    "#save model embeddings\n",
    "with open(\"./embeddings.pkl\", 'wb') as f:\n",
    "    pickle.dump(sentence_embeddings, f, pickle.HIGHEST_PROTOCOL)"
   ]
  },
  {
   "cell_type": "code",
   "execution_count": null,
   "id": "f66de8f1-a85a-40d9-8222-a2d6a69514d9",
   "metadata": {},
   "outputs": [],
   "source": []
  }
 ],
 "metadata": {
  "kernelspec": {
   "display_name": "Python 3",
   "language": "python",
   "name": "python3"
  },
  "language_info": {
   "codemirror_mode": {
    "name": "ipython",
    "version": 3
   },
   "file_extension": ".py",
   "mimetype": "text/x-python",
   "name": "python",
   "nbconvert_exporter": "python",
   "pygments_lexer": "ipython3",
   "version": "3.8.8"
  }
 },
 "nbformat": 4,
 "nbformat_minor": 5
}
