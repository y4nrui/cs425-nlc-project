{
 "cells": [
  {
   "cell_type": "markdown",
   "id": "60bdaabf-cf7a-4033-8966-d12b60941df3",
   "metadata": {},
   "source": [
    "# Implementation of BM25 results as baseline"
   ]
  },
  {
   "cell_type": "markdown",
   "id": "f36c0f69-5071-4831-b366-f3698631b189",
   "metadata": {},
   "source": [
    "Since this is just a benchmark, we will just be doing a basic implementation of Okapi BM25, not the lucene implementation"
   ]
  },
  {
   "cell_type": "markdown",
   "id": "6ac8e957-df57-4091-8776-19752d41af22",
   "metadata": {},
   "source": [
    "## Install and import relevant libraries"
   ]
  },
  {
   "cell_type": "code",
   "execution_count": 3,
   "id": "ac6ae3a5-212c-4137-a2ff-2f3d5c7ea8e5",
   "metadata": {},
   "outputs": [],
   "source": [
    "# !pip install rank_bm25\n",
    "# !pip install texthero"
   ]
  },
  {
   "cell_type": "code",
   "execution_count": 5,
   "id": "3a2d4415-f54e-4e17-9c4b-b8407ae95d8c",
   "metadata": {},
   "outputs": [],
   "source": [
    "import texthero as hero\n",
    "from rank_bm25 import BM25Okapi\n",
    "import pandas as pd\n",
    "import numpy as np"
   ]
  },
  {
   "cell_type": "markdown",
   "id": "4281a879-a171-4d60-ac45-354b07f7061e",
   "metadata": {},
   "source": [
    "## Import test dataset"
   ]
  },
  {
   "cell_type": "code",
   "execution_count": 6,
   "id": "555851fc-ba23-4bd6-8cae-eea9fc077274",
   "metadata": {},
   "outputs": [],
   "source": [
    "test_df = pd.read_csv(\"../0.Datasets/train_test_split/test.csv\")"
   ]
  },
  {
   "cell_type": "code",
   "execution_count": 7,
   "id": "a1c2d9a9-21ce-4b93-8664-7bc166a8affe",
   "metadata": {},
   "outputs": [
    {
     "name": "stdout",
     "output_type": "stream",
     "text": [
      "<class 'pandas.core.frame.DataFrame'>\n",
      "RangeIndex: 3415 entries, 0 to 3414\n",
      "Data columns (total 5 columns):\n",
      " #   Column      Non-Null Count  Dtype \n",
      "---  ------      --------------  ----- \n",
      " 0   Unnamed: 0  3415 non-null   int64 \n",
      " 1   qid         3415 non-null   int64 \n",
      " 2   docid       3415 non-null   int64 \n",
      " 3   question    3415 non-null   object\n",
      " 4   answer      3415 non-null   object\n",
      "dtypes: int64(3), object(2)\n",
      "memory usage: 133.5+ KB\n"
     ]
    }
   ],
   "source": [
    "test_df.info()"
   ]
  },
  {
   "cell_type": "code",
   "execution_count": 8,
   "id": "ef35fc7d-0642-4ddb-9e35-e18c2e2de6f6",
   "metadata": {},
   "outputs": [
    {
     "data": {
      "text/html": [
       "<div>\n",
       "<style scoped>\n",
       "    .dataframe tbody tr th:only-of-type {\n",
       "        vertical-align: middle;\n",
       "    }\n",
       "\n",
       "    .dataframe tbody tr th {\n",
       "        vertical-align: top;\n",
       "    }\n",
       "\n",
       "    .dataframe thead th {\n",
       "        text-align: right;\n",
       "    }\n",
       "</style>\n",
       "<table border=\"1\" class=\"dataframe\">\n",
       "  <thead>\n",
       "    <tr style=\"text-align: right;\">\n",
       "      <th></th>\n",
       "      <th>qid</th>\n",
       "      <th>docid</th>\n",
       "      <th>question</th>\n",
       "      <th>answer</th>\n",
       "    </tr>\n",
       "  </thead>\n",
       "  <tbody>\n",
       "    <tr>\n",
       "      <th>0</th>\n",
       "      <td>7817</td>\n",
       "      <td>31330</td>\n",
       "      <td>Can you have a positive return with a balance ...</td>\n",
       "      <td>Have you owned the stock for longer than 2015?...</td>\n",
       "    </tr>\n",
       "    <tr>\n",
       "      <th>1</th>\n",
       "      <td>6304</td>\n",
       "      <td>105557</td>\n",
       "      <td>Oversimplify it for me: the correct order of i...</td>\n",
       "      <td>Great questions -- the fact that you're thinki...</td>\n",
       "    </tr>\n",
       "    <tr>\n",
       "      <th>2</th>\n",
       "      <td>7115</td>\n",
       "      <td>43508</td>\n",
       "      <td>Definition of “U.S. source” for US non-residen...</td>\n",
       "      <td>The examples you provide in the question are c...</td>\n",
       "    </tr>\n",
       "    <tr>\n",
       "      <th>3</th>\n",
       "      <td>5716</td>\n",
       "      <td>287327</td>\n",
       "      <td>Are car buying services worth it?</td>\n",
       "      <td>I have used car buying services through Costco...</td>\n",
       "    </tr>\n",
       "    <tr>\n",
       "      <th>4</th>\n",
       "      <td>9016</td>\n",
       "      <td>580920</td>\n",
       "      <td>What makes a Company's Stock prices go up or d...</td>\n",
       "      <td>Here are some significant factors affect the c...</td>\n",
       "    </tr>\n",
       "  </tbody>\n",
       "</table>\n",
       "</div>"
      ],
      "text/plain": [
       "    qid   docid                                           question  \\\n",
       "0  7817   31330  Can you have a positive return with a balance ...   \n",
       "1  6304  105557  Oversimplify it for me: the correct order of i...   \n",
       "2  7115   43508  Definition of “U.S. source” for US non-residen...   \n",
       "3  5716  287327                  Are car buying services worth it?   \n",
       "4  9016  580920  What makes a Company's Stock prices go up or d...   \n",
       "\n",
       "                                              answer  \n",
       "0  Have you owned the stock for longer than 2015?...  \n",
       "1  Great questions -- the fact that you're thinki...  \n",
       "2  The examples you provide in the question are c...  \n",
       "3  I have used car buying services through Costco...  \n",
       "4  Here are some significant factors affect the c...  "
      ]
     },
     "execution_count": 8,
     "metadata": {},
     "output_type": "execute_result"
    }
   ],
   "source": [
    "test_df.head().drop(columns=[\"Unnamed: 0\"])"
   ]
  },
  {
   "cell_type": "markdown",
   "id": "434702d0-16e3-4e7a-983d-bd34d46a6725",
   "metadata": {},
   "source": [
    "## Data cleaning"
   ]
  },
  {
   "cell_type": "code",
   "execution_count": 21,
   "id": "90e98416-20d0-419b-8305-bc378f68eff2",
   "metadata": {},
   "outputs": [],
   "source": [
    "test_df[\"question\"] =  hero.clean(test_df[\"question\"])\n",
    "test_df[\"answer\"] =  hero.clean(test_df[\"answer\"])"
   ]
  },
  {
   "cell_type": "code",
   "execution_count": 22,
   "id": "f1654f5c-69e3-4b2c-b546-95451f041329",
   "metadata": {},
   "outputs": [
    {
     "data": {
      "text/html": [
       "<div>\n",
       "<style scoped>\n",
       "    .dataframe tbody tr th:only-of-type {\n",
       "        vertical-align: middle;\n",
       "    }\n",
       "\n",
       "    .dataframe tbody tr th {\n",
       "        vertical-align: top;\n",
       "    }\n",
       "\n",
       "    .dataframe thead th {\n",
       "        text-align: right;\n",
       "    }\n",
       "</style>\n",
       "<table border=\"1\" class=\"dataframe\">\n",
       "  <thead>\n",
       "    <tr style=\"text-align: right;\">\n",
       "      <th></th>\n",
       "      <th>qid</th>\n",
       "      <th>docid</th>\n",
       "      <th>question</th>\n",
       "      <th>answer</th>\n",
       "    </tr>\n",
       "  </thead>\n",
       "  <tbody>\n",
       "    <tr>\n",
       "      <th>0</th>\n",
       "      <td>7817</td>\n",
       "      <td>31330</td>\n",
       "      <td>positive return balance cost basis</td>\n",
       "      <td>owned stock longer stock appears grown value s...</td>\n",
       "    </tr>\n",
       "    <tr>\n",
       "      <th>1</th>\n",
       "      <td>6304</td>\n",
       "      <td>105557</td>\n",
       "      <td>oversimplify correct order investing</td>\n",
       "      <td>great questions fact thinking important think ...</td>\n",
       "    </tr>\n",
       "    <tr>\n",
       "      <th>2</th>\n",
       "      <td>7115</td>\n",
       "      <td>43508</td>\n",
       "      <td>definition u source us non resident alien capi...</td>\n",
       "      <td>examples provide question completely irrelevan...</td>\n",
       "    </tr>\n",
       "    <tr>\n",
       "      <th>3</th>\n",
       "      <td>5716</td>\n",
       "      <td>287327</td>\n",
       "      <td>car buying services worth</td>\n",
       "      <td>used car buying services costco usaa twice for...</td>\n",
       "    </tr>\n",
       "    <tr>\n",
       "      <th>4</th>\n",
       "      <td>9016</td>\n",
       "      <td>580920</td>\n",
       "      <td>makes company stock prices go</td>\n",
       "      <td>significant factors affect company stock price...</td>\n",
       "    </tr>\n",
       "  </tbody>\n",
       "</table>\n",
       "</div>"
      ],
      "text/plain": [
       "    qid   docid                                           question  \\\n",
       "0  7817   31330                 positive return balance cost basis   \n",
       "1  6304  105557               oversimplify correct order investing   \n",
       "2  7115   43508  definition u source us non resident alien capi...   \n",
       "3  5716  287327                          car buying services worth   \n",
       "4  9016  580920                      makes company stock prices go   \n",
       "\n",
       "                                              answer  \n",
       "0  owned stock longer stock appears grown value s...  \n",
       "1  great questions fact thinking important think ...  \n",
       "2  examples provide question completely irrelevan...  \n",
       "3  used car buying services costco usaa twice for...  \n",
       "4  significant factors affect company stock price...  "
      ]
     },
     "execution_count": 22,
     "metadata": {},
     "output_type": "execute_result"
    }
   ],
   "source": [
    "test_answers_list = test_df[\"answer\"].tolist()\n",
    "test_df.head().drop(columns=[\"Unnamed: 0\"])"
   ]
  },
  {
   "cell_type": "code",
   "execution_count": 23,
   "id": "212d3039-1ef4-4545-b308-66732d93fab1",
   "metadata": {},
   "outputs": [],
   "source": [
    "question_answer_index_map = {}\n",
    "for _,row in test_df.iterrows():\n",
    "    if row[\"qid\"] not in question_answer_index_map:\n",
    "        question_answer_index_map[row[\"qid\"]]= []\n",
    "        question_answer_index_map[row[\"qid\"]].append(row[\"docid\"])\n",
    "    else:\n",
    "        question_answer_index_map[row[\"qid\"]].append(row[\"docid\"])"
   ]
  },
  {
   "cell_type": "code",
   "execution_count": 24,
   "id": "9411a94a-259e-49d3-9a1e-33973ad7e60c",
   "metadata": {},
   "outputs": [],
   "source": [
    "labels = []\n",
    "for v in question_answer_index_map.values():\n",
    "    labels.append(v)"
   ]
  },
  {
   "cell_type": "code",
   "execution_count": 25,
   "id": "d976a2f8-f0b9-4b0e-8bbb-c798cd26d469",
   "metadata": {},
   "outputs": [],
   "source": [
    "question_map = {}\n",
    "label_map = {}\n",
    "for _,row in test_df.iterrows():\n",
    "    if row[\"qid\"] not in question_map:\n",
    "        question_map[row[\"qid\"]] = row[\"question\"]\n",
    "    if row[\"answer\"] not in label_map:\n",
    "        label_map[row[\"answer\"]] = row[\"docid\"]"
   ]
  },
  {
   "cell_type": "markdown",
   "id": "ac90ede9-56bc-4d9f-96bc-e8e643c2278e",
   "metadata": {},
   "source": [
    "## Evaluate results"
   ]
  },
  {
   "cell_type": "code",
   "execution_count": 26,
   "id": "97e9c4dd-8e04-4424-b769-a4341646475a",
   "metadata": {},
   "outputs": [],
   "source": [
    "tokenized_corpus = [doc.split(\" \") for doc in test_answers_list]\n",
    "bm25 = BM25Okapi(tokenized_corpus)"
   ]
  },
  {
   "cell_type": "code",
   "execution_count": 33,
   "id": "8fad33cc-ff84-4679-88d0-cf57153af528",
   "metadata": {},
   "outputs": [],
   "source": [
    "predictions = []\n",
    "for k,v in question_map.items():\n",
    "    tokenized_query = v.split(\" \")\n",
    "    doc_scores = bm25.get_scores(tokenized_query)\n",
    "    top_response = bm25.get_top_n(tokenized_query,test_answers_list,n=1)[0]\n",
    "    label_index = label_map[top_response]\n",
    "    predictions.append([label_index])"
   ]
  },
  {
   "cell_type": "code",
   "execution_count": 1,
   "id": "233864e0-f088-4afc-92e0-51012a7babd2",
   "metadata": {},
   "outputs": [],
   "source": [
    "#save prediction and results\n",
    "results = {\"labels\":labels,\"predictions\":predictions}\n",
    "with open(\"../7.Evaluate/bm25_baseline.pkl\", 'wb') as f:\n",
    "    pickle.dump(results, f, pickle.HIGHEST_PROTOCOL)"
   ]
  },
  {
   "cell_type": "code",
   "execution_count": null,
   "id": "b4541183-3849-4efb-b9bd-43eb4814a542",
   "metadata": {},
   "outputs": [],
   "source": []
  }
 ],
 "metadata": {
  "kernelspec": {
   "display_name": "Python 3",
   "language": "python",
   "name": "python3"
  },
  "language_info": {
   "codemirror_mode": {
    "name": "ipython",
    "version": 3
   },
   "file_extension": ".py",
   "mimetype": "text/x-python",
   "name": "python",
   "nbconvert_exporter": "python",
   "pygments_lexer": "ipython3",
   "version": "3.8.8"
  }
 },
 "nbformat": 4,
 "nbformat_minor": 5
}
