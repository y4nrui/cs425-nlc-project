{
 "cells": [
  {
   "cell_type": "code",
   "execution_count": 1,
   "id": "d7d2b8a2",
   "metadata": {},
   "outputs": [],
   "source": [
    "import pandas as pd\n",
    "import numpy as np\n",
    "import matplotlib.pyplot as plt\n",
    "import seaborn as sns\n",
    "\n",
    "# For text cleaner function\n",
    "from nltk.corpus import stopwords\n",
    "import string\n",
    "from nltk.stem import WordNetLemmatizer\n",
    "from string import punctuation\n",
    "import re"
   ]
  },
  {
   "cell_type": "code",
   "execution_count": 2,
   "id": "ae19ad12",
   "metadata": {},
   "outputs": [],
   "source": [
    "# import DFs\n",
    "question_df = pd.read_csv('../0.Datasets/raw/FiQA_train_question_final.tsv', sep = '\\t', index_col = 0)\n",
    "map_df = pd.read_csv('../0.Datasets/raw/FiQA_train_question_doc_final.tsv', sep = '\\t', index_col = 0)\n",
    "doc_df = pd.read_csv('../0.Datasets/raw/FiQA_train_doc_final.tsv', sep = '\\t', index_col = 0)"
   ]
  },
  {
   "cell_type": "markdown",
   "id": "82001394",
   "metadata": {},
   "source": [
    "# Consolidated dataset findings (explanation below):\n",
    "- Number of documents: 57638, Number of mappings: 17110, Number of questions: 6648\n",
    "- docid starts from 3 and ends at 599987, but there are only 57638 documents - there are some docid-s that are missing from the running sequence\n",
    "- 1 question can be mapped to multiple documents\n",
    "- 1 document is only mapped to 1 question"
   ]
  },
  {
   "cell_type": "markdown",
   "id": "f194df65",
   "metadata": {},
   "source": [
    "# Investigate mapping btw questions and docs"
   ]
  },
  {
   "cell_type": "code",
   "execution_count": 7,
   "id": "5f27322e",
   "metadata": {},
   "outputs": [
    {
     "name": "stdout",
     "output_type": "stream",
     "text": [
      "Number of documents: 57638\n",
      "Number of mappings: 17110\n",
      "Number of questions: 6648\n"
     ]
    },
    {
     "data": {
      "image/png": "[encoded data removed]",
      "text/plain": [
       "<Figure size 432x288 with 1 Axes>"
      ]
     },
     "metadata": {
      "needs_background": "light"
     },
     "output_type": "display_data"
    }
   ],
   "source": [
    "# Count of Documents and Questions\n",
    "print(f'Number of documents: {doc_df.shape[0]}')\n",
    "print(f'Number of mappings: {map_df.shape[0]}')\n",
    "print(f'Number of questions: {question_df.shape[0]}')\n",
    "\n",
    "objects = ('Documents', 'Mappings','Questions')\n",
    "y_pos = np.arange(len(objects))\n",
    "performance = [doc_df.shape[0], map_df.shape[0], question_df.shape[0]]\n",
    "\n",
    "plt.bar(y_pos, performance, align='center', alpha=0.5)\n",
    "plt.xticks(y_pos, objects)\n",
    "plt.ylabel('Count')\n",
    "plt.title('Count of Documents, Mappings and Questions')\n",
    "\n",
    "plt.show()"
   ]
  },
  {
   "cell_type": "markdown",
   "id": "b3869c9e",
   "metadata": {},
   "source": [
    "Significantly more documents than mappings - this means that some questions are mapped to multiple documents."
   ]
  },
  {
   "cell_type": "code",
   "execution_count": 8,
   "id": "b8c8a504",
   "metadata": {},
   "outputs": [
    {
     "data": {
      "image/png": "[encoded data removed]",
      "text/plain": [
       "<Figure size 432x288 with 1 Axes>"
      ]
     },
     "metadata": {
      "needs_background": "light"
     },
     "output_type": "display_data"
    }
   ],
   "source": [
    "# Distribution of questions to number of documents mapped\n",
    "qn_num_docmaps = {}\n",
    "for v in dict(map_df['qid'].value_counts()).values():\n",
    "    if v not in qn_num_docmaps:\n",
    "        qn_num_docmaps[v] = 1\n",
    "    else:\n",
    "        qn_num_docmaps[v] += 1\n",
    "\n",
    "\n",
    "objects = [k for k in qn_num_docmaps.keys()]\n",
    "y_pos = np.arange(len(objects))\n",
    "performance = [v for v in qn_num_docmaps.values()]\n",
    "\n",
    "plt.bar(y_pos, performance, align='center', alpha=0.5)\n",
    "plt.xticks(y_pos, objects)\n",
    "plt.ylabel('Number of Questions')\n",
    "plt.xlabel('Number of Documents Mapped')\n",
    "plt.title('Distribution of Questions to Documents Mapped')\n",
    "\n",
    "plt.show()"
   ]
  },
  {
   "cell_type": "markdown",
   "id": "a46dad4c",
   "metadata": {},
   "source": [
    "From the graph above, we can see that out of 6648 questions, ~2500 of them are mapped to 1 document. Some questions are mapped to multiple documents, spanning from being mapped to 1 document all the way to 23 documents."
   ]
  },
  {
   "cell_type": "code",
   "execution_count": 9,
   "id": "c6b54284",
   "metadata": {},
   "outputs": [
    {
     "data": {
      "text/plain": [
       "559105    1\n",
       "542321    1\n",
       "345410    1\n",
       "118083    1\n",
       "331598    1\n",
       "         ..\n",
       "231727    1\n",
       "201447    1\n",
       "431459    1\n",
       "324331    1\n",
       "77818     1\n",
       "Name: docid, Length: 17110, dtype: int64"
      ]
     },
     "execution_count": 9,
     "metadata": {},
     "output_type": "execute_result"
    }
   ],
   "source": [
    "# Distribution of documents to questions mapped\n",
    "map_df['docid'].value_counts()"
   ]
  },
  {
   "cell_type": "markdown",
   "id": "c15ff739",
   "metadata": {},
   "source": [
    "We can see from above that all documents only have 1 question mapped to it."
   ]
  },
  {
   "cell_type": "code",
   "execution_count": 10,
   "id": "667aa38d",
   "metadata": {},
   "outputs": [
    {
     "data": {
      "text/plain": [
       "559105    1\n",
       "542321    1\n",
       "345410    1\n",
       "118083    1\n",
       "331598    1\n",
       "         ..\n",
       "231727    1\n",
       "201447    1\n",
       "431459    1\n",
       "324331    1\n",
       "77818     1\n",
       "Name: docid, Length: 17110, dtype: int64"
      ]
     },
     "execution_count": 10,
     "metadata": {},
     "output_type": "execute_result"
    }
   ],
   "source": [
    "map_df['docid'].value_counts()"
   ]
  },
  {
   "cell_type": "markdown",
   "id": "7047653b",
   "metadata": {},
   "source": [
    "# Investigate questions df"
   ]
  },
  {
   "cell_type": "markdown",
   "id": "7306d53a",
   "metadata": {},
   "source": [
    "I just used a random text cleaner function from an old project, can replace it when we finalize what we want to include in our cleaner function."
   ]
  },
  {
   "cell_type": "code",
   "execution_count": 11,
   "id": "c34f629e",
   "metadata": {},
   "outputs": [],
   "source": [
    "# Stop word list to filter noise in bag of words\n",
    "stop_list = stopwords.words('english')\n",
    "\n",
    "WNL = WordNetLemmatizer()\n",
    "\n",
    "punct_list = [punctuation[p] for p in range(len(punctuation))]\n",
    "add_stop_words = ['class', 'div', 'description__text', 'ul', \n",
    "                  'li', 'br', 'ul', 'job', 'description', 'rich', \n",
    "                  'strong', 'to', 'apply', 'visit', 'the', 'and',\n",
    "                  'make', 'at', 'you', 'we', 'our', 'would', 'via',\n",
    "                  'pte', 'ltd', 'us', 'please', 'lt', 'weight', 'gt',\n",
    "                  'span', 'em']\n",
    "\n",
    "stop_list += punct_list + add_stop_words\n",
    "\n",
    "def cleaner(x):\n",
    "    output = []\n",
    "    x = re.sub(r'<[\\sa-zA-Z0-9=\\-_/\"]+>', ' ', x)\n",
    "    for w in x.split():\n",
    "        curr_word = WNL.lemmatize(w)\n",
    "        curr_word = curr_word.lower()\n",
    "        curr_word = re.sub(r'[^\\w\\s]', '', curr_word)\n",
    "        if curr_word not in stop_list:\n",
    "            output.append(curr_word)\n",
    "    return ' '.join(output)"
   ]
  },
  {
   "cell_type": "code",
   "execution_count": 12,
   "id": "9a516a1e",
   "metadata": {},
   "outputs": [
    {
     "data": {
      "text/html": [
       "<div>\n",
       "<style scoped>\n",
       "    .dataframe tbody tr th:only-of-type {\n",
       "        vertical-align: middle;\n",
       "    }\n",
       "\n",
       "    .dataframe tbody tr th {\n",
       "        vertical-align: top;\n",
       "    }\n",
       "\n",
       "    .dataframe thead th {\n",
       "        text-align: right;\n",
       "    }\n",
       "</style>\n",
       "<table border=\"1\" class=\"dataframe\">\n",
       "  <thead>\n",
       "    <tr style=\"text-align: right;\">\n",
       "      <th></th>\n",
       "      <th>qid</th>\n",
       "      <th>question</th>\n",
       "      <th>timestamp</th>\n",
       "      <th>clean_question</th>\n",
       "      <th>question_length</th>\n",
       "    </tr>\n",
       "  </thead>\n",
       "  <tbody>\n",
       "    <tr>\n",
       "      <th>0</th>\n",
       "      <td>0</td>\n",
       "      <td>What is considered a business expense on a bus...</td>\n",
       "      <td>Nov 8 '11 at 15:14</td>\n",
       "      <td>considered business expense business trip</td>\n",
       "      <td>5</td>\n",
       "    </tr>\n",
       "    <tr>\n",
       "      <th>1</th>\n",
       "      <td>1</td>\n",
       "      <td>Claiming business expenses for a business with...</td>\n",
       "      <td>May 13 '14 at 13:17</td>\n",
       "      <td>claiming business expense business income</td>\n",
       "      <td>5</td>\n",
       "    </tr>\n",
       "    <tr>\n",
       "      <th>2</th>\n",
       "      <td>2</td>\n",
       "      <td>Transferring money from One business checking ...</td>\n",
       "      <td>Jan 20 '16 at 20:31</td>\n",
       "      <td>transferring money one business checking anoth...</td>\n",
       "      <td>8</td>\n",
       "    </tr>\n",
       "    <tr>\n",
       "      <th>3</th>\n",
       "      <td>3</td>\n",
       "      <td>Having a separate bank account for business/in...</td>\n",
       "      <td>Mar 1 at 0:24</td>\n",
       "      <td>separate bank account businessinvesting busine...</td>\n",
       "      <td>6</td>\n",
       "    </tr>\n",
       "    <tr>\n",
       "      <th>4</th>\n",
       "      <td>4</td>\n",
       "      <td>Business Expense - Car Insurance Deductible Fo...</td>\n",
       "      <td>Mar 4 at 0:26</td>\n",
       "      <td>business expense  car insurance deductible acc...</td>\n",
       "      <td>9</td>\n",
       "    </tr>\n",
       "  </tbody>\n",
       "</table>\n",
       "</div>"
      ],
      "text/plain": [
       "   qid                                           question  \\\n",
       "0    0  What is considered a business expense on a bus...   \n",
       "1    1  Claiming business expenses for a business with...   \n",
       "2    2  Transferring money from One business checking ...   \n",
       "3    3  Having a separate bank account for business/in...   \n",
       "4    4  Business Expense - Car Insurance Deductible Fo...   \n",
       "\n",
       "             timestamp                                     clean_question  \\\n",
       "0   Nov 8 '11 at 15:14          considered business expense business trip   \n",
       "1  May 13 '14 at 13:17          claiming business expense business income   \n",
       "2  Jan 20 '16 at 20:31  transferring money one business checking anoth...   \n",
       "3        Mar 1 at 0:24  separate bank account businessinvesting busine...   \n",
       "4        Mar 4 at 0:26  business expense  car insurance deductible acc...   \n",
       "\n",
       "   question_length  \n",
       "0                5  \n",
       "1                5  \n",
       "2                8  \n",
       "3                6  \n",
       "4                9  "
      ]
     },
     "execution_count": 12,
     "metadata": {},
     "output_type": "execute_result"
    }
   ],
   "source": [
    "# Clean questions\n",
    "question_df['clean_question'] = question_df.apply(lambda x: cleaner(x['question']), axis = 1)\n",
    "\n",
    "# Get length of cleaned questions\n",
    "question_df['question_length'] = question_df.apply(lambda x: len([i for i in x['clean_question'].split()]), axis = 1)\n",
    "question_df.head()"
   ]
  },
  {
   "cell_type": "code",
   "execution_count": 13,
   "id": "1536ef3c",
   "metadata": {},
   "outputs": [
    {
     "data": {
      "image/png": "[encoded data removed]",
      "text/plain": [
       "<Figure size 360x360 with 1 Axes>"
      ]
     },
     "metadata": {
      "needs_background": "light"
     },
     "output_type": "display_data"
    }
   ],
   "source": [
    "# Distribution of question length\n",
    "sns.displot(question_df['question_length'])\n",
    "plt.ylabel('Number of Questions')\n",
    "plt.xlabel('Question length')\n",
    "plt.title('Distribution of question length')\n",
    "plt.show()"
   ]
  },
  {
   "cell_type": "markdown",
   "id": "9dfa0be7",
   "metadata": {},
   "source": [
    "Most questions fall between 4 to 8 words."
   ]
  }
 ],
 "metadata": {
  "kernelspec": {
   "display_name": "Python 3",
   "language": "python",
   "name": "python3"
  },
  "language_info": {
   "codemirror_mode": {
    "name": "ipython",
    "version": 3
   },
   "file_extension": ".py",
   "mimetype": "text/x-python",
   "name": "python",
   "nbconvert_exporter": "python",
   "pygments_lexer": "ipython3",
   "version": "3.8.8"
  }
 },
 "nbformat": 4,
 "nbformat_minor": 5
}
