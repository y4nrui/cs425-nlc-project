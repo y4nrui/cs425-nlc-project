{
 "cells": [
  {
   "cell_type": "markdown",
   "id": "a1b08985-aa3d-467a-9943-23435bb0f47c",
   "metadata": {},
   "source": [
    "# 1. Import relevant libraries"
   ]
  },
  {
   "cell_type": "code",
   "execution_count": 1,
   "id": "0f7c5abf-6758-45ac-94c8-c9fe5887b4fe",
   "metadata": {},
   "outputs": [],
   "source": [
    "import pandas as pd\n",
    "import numpy as np\n",
    "from sklearn.model_selection import train_test_split"
   ]
  },
  {
   "cell_type": "markdown",
   "id": "dbc69653-c2db-42bb-810b-f831096114a1",
   "metadata": {},
   "source": [
    "# 2. Data Processing"
   ]
  },
  {
   "cell_type": "code",
   "execution_count": 2,
   "id": "30eb8087-c86c-4cb0-aeb7-faa48d1e1210",
   "metadata": {},
   "outputs": [],
   "source": [
    "# import DFs\n",
    "question_df = pd.read_csv('../0.Datasets/raw/FiQA_train_question_final.tsv', sep = '\\t', index_col = 0)\n",
    "map_df = pd.read_csv('../0.Datasets/raw/FiQA_train_question_doc_final.tsv', sep = '\\t', index_col = 0)\n",
    "doc_df = pd.read_csv('../0.Datasets/raw/FiQA_train_doc_final.tsv', sep = '\\t', index_col = 0)"
   ]
  },
  {
   "cell_type": "code",
   "execution_count": 3,
   "id": "6a713bff-14a2-46df-a65e-3aa006a52008",
   "metadata": {},
   "outputs": [
    {
     "data": {
      "text/html": [
       "<div>\n",
       "<style scoped>\n",
       "    .dataframe tbody tr th:only-of-type {\n",
       "        vertical-align: middle;\n",
       "    }\n",
       "\n",
       "    .dataframe tbody tr th {\n",
       "        vertical-align: top;\n",
       "    }\n",
       "\n",
       "    .dataframe thead th {\n",
       "        text-align: right;\n",
       "    }\n",
       "</style>\n",
       "<table border=\"1\" class=\"dataframe\">\n",
       "  <thead>\n",
       "    <tr style=\"text-align: right;\">\n",
       "      <th></th>\n",
       "      <th>qid</th>\n",
       "      <th>question</th>\n",
       "      <th>timestamp</th>\n",
       "    </tr>\n",
       "  </thead>\n",
       "  <tbody>\n",
       "    <tr>\n",
       "      <th>0</th>\n",
       "      <td>0</td>\n",
       "      <td>What is considered a business expense on a bus...</td>\n",
       "      <td>Nov 8 '11 at 15:14</td>\n",
       "    </tr>\n",
       "    <tr>\n",
       "      <th>1</th>\n",
       "      <td>1</td>\n",
       "      <td>Claiming business expenses for a business with...</td>\n",
       "      <td>May 13 '14 at 13:17</td>\n",
       "    </tr>\n",
       "    <tr>\n",
       "      <th>2</th>\n",
       "      <td>2</td>\n",
       "      <td>Transferring money from One business checking ...</td>\n",
       "      <td>Jan 20 '16 at 20:31</td>\n",
       "    </tr>\n",
       "    <tr>\n",
       "      <th>3</th>\n",
       "      <td>3</td>\n",
       "      <td>Having a separate bank account for business/in...</td>\n",
       "      <td>Mar 1 at 0:24</td>\n",
       "    </tr>\n",
       "    <tr>\n",
       "      <th>4</th>\n",
       "      <td>4</td>\n",
       "      <td>Business Expense - Car Insurance Deductible Fo...</td>\n",
       "      <td>Mar 4 at 0:26</td>\n",
       "    </tr>\n",
       "  </tbody>\n",
       "</table>\n",
       "</div>"
      ],
      "text/plain": [
       "   qid                                           question            timestamp\n",
       "0    0  What is considered a business expense on a bus...   Nov 8 '11 at 15:14\n",
       "1    1  Claiming business expenses for a business with...  May 13 '14 at 13:17\n",
       "2    2  Transferring money from One business checking ...  Jan 20 '16 at 20:31\n",
       "3    3  Having a separate bank account for business/in...        Mar 1 at 0:24\n",
       "4    4  Business Expense - Car Insurance Deductible Fo...        Mar 4 at 0:26"
      ]
     },
     "execution_count": 3,
     "metadata": {},
     "output_type": "execute_result"
    }
   ],
   "source": [
    "question_df.head()"
   ]
  },
  {
   "cell_type": "code",
   "execution_count": 4,
   "id": "481d844c-113d-4174-a831-b114482bd50f",
   "metadata": {},
   "outputs": [
    {
     "name": "stdout",
     "output_type": "stream",
     "text": [
      "<class 'pandas.core.frame.DataFrame'>\n",
      "Int64Index: 6648 entries, 0 to 6647\n",
      "Data columns (total 3 columns):\n",
      " #   Column     Non-Null Count  Dtype \n",
      "---  ------     --------------  ----- \n",
      " 0   qid        6648 non-null   int64 \n",
      " 1   question   6648 non-null   object\n",
      " 2   timestamp  6648 non-null   object\n",
      "dtypes: int64(1), object(2)\n",
      "memory usage: 207.8+ KB\n"
     ]
    }
   ],
   "source": [
    "question_df.info()"
   ]
  },
  {
   "cell_type": "code",
   "execution_count": 5,
   "id": "aada31ca-3aca-40e8-85b7-1068d7129477",
   "metadata": {},
   "outputs": [
    {
     "data": {
      "text/html": [
       "<div>\n",
       "<style scoped>\n",
       "    .dataframe tbody tr th:only-of-type {\n",
       "        vertical-align: middle;\n",
       "    }\n",
       "\n",
       "    .dataframe tbody tr th {\n",
       "        vertical-align: top;\n",
       "    }\n",
       "\n",
       "    .dataframe thead th {\n",
       "        text-align: right;\n",
       "    }\n",
       "</style>\n",
       "<table border=\"1\" class=\"dataframe\">\n",
       "  <thead>\n",
       "    <tr style=\"text-align: right;\">\n",
       "      <th></th>\n",
       "      <th>qid</th>\n",
       "      <th>docid</th>\n",
       "    </tr>\n",
       "  </thead>\n",
       "  <tbody>\n",
       "    <tr>\n",
       "      <th>0</th>\n",
       "      <td>0</td>\n",
       "      <td>18850</td>\n",
       "    </tr>\n",
       "    <tr>\n",
       "      <th>1</th>\n",
       "      <td>1</td>\n",
       "      <td>14255</td>\n",
       "    </tr>\n",
       "    <tr>\n",
       "      <th>2</th>\n",
       "      <td>2</td>\n",
       "      <td>308938</td>\n",
       "    </tr>\n",
       "    <tr>\n",
       "      <th>3</th>\n",
       "      <td>3</td>\n",
       "      <td>296717</td>\n",
       "    </tr>\n",
       "    <tr>\n",
       "      <th>4</th>\n",
       "      <td>3</td>\n",
       "      <td>100764</td>\n",
       "    </tr>\n",
       "  </tbody>\n",
       "</table>\n",
       "</div>"
      ],
      "text/plain": [
       "   qid   docid\n",
       "0    0   18850\n",
       "1    1   14255\n",
       "2    2  308938\n",
       "3    3  296717\n",
       "4    3  100764"
      ]
     },
     "execution_count": 5,
     "metadata": {},
     "output_type": "execute_result"
    }
   ],
   "source": [
    "map_df.head()"
   ]
  },
  {
   "cell_type": "code",
   "execution_count": 6,
   "id": "359eb2af-e69b-42d1-9f79-0ace461332a6",
   "metadata": {},
   "outputs": [
    {
     "name": "stdout",
     "output_type": "stream",
     "text": [
      "<class 'pandas.core.frame.DataFrame'>\n",
      "Int64Index: 17110 entries, 0 to 17109\n",
      "Data columns (total 2 columns):\n",
      " #   Column  Non-Null Count  Dtype\n",
      "---  ------  --------------  -----\n",
      " 0   qid     17110 non-null  int64\n",
      " 1   docid   17110 non-null  int64\n",
      "dtypes: int64(2)\n",
      "memory usage: 401.0 KB\n"
     ]
    }
   ],
   "source": [
    "map_df.info()"
   ]
  },
  {
   "cell_type": "code",
   "execution_count": 7,
   "id": "027c1ce8-3f72-435d-ac0c-549571af7344",
   "metadata": {},
   "outputs": [
    {
     "data": {
      "text/html": [
       "<div>\n",
       "<style scoped>\n",
       "    .dataframe tbody tr th:only-of-type {\n",
       "        vertical-align: middle;\n",
       "    }\n",
       "\n",
       "    .dataframe tbody tr th {\n",
       "        vertical-align: top;\n",
       "    }\n",
       "\n",
       "    .dataframe thead th {\n",
       "        text-align: right;\n",
       "    }\n",
       "</style>\n",
       "<table border=\"1\" class=\"dataframe\">\n",
       "  <thead>\n",
       "    <tr style=\"text-align: right;\">\n",
       "      <th></th>\n",
       "      <th>docid</th>\n",
       "      <th>doc</th>\n",
       "      <th>timestamp</th>\n",
       "    </tr>\n",
       "  </thead>\n",
       "  <tbody>\n",
       "    <tr>\n",
       "      <th>0</th>\n",
       "      <td>3</td>\n",
       "      <td>I'm not saying I don't like the idea of on-the...</td>\n",
       "      <td>Oct 03 '12 at 14:56</td>\n",
       "    </tr>\n",
       "    <tr>\n",
       "      <th>1</th>\n",
       "      <td>31</td>\n",
       "      <td>So nothing preventing false ratings besides ad...</td>\n",
       "      <td>Sep 01 '17 at 13:36</td>\n",
       "    </tr>\n",
       "    <tr>\n",
       "      <th>2</th>\n",
       "      <td>56</td>\n",
       "      <td>You can never use a health FSA for individual ...</td>\n",
       "      <td>Jun 9 '14 at 17:37</td>\n",
       "    </tr>\n",
       "    <tr>\n",
       "      <th>3</th>\n",
       "      <td>59</td>\n",
       "      <td>Samsung created the LCD and other flat screen ...</td>\n",
       "      <td>Dec 27 at 01:37</td>\n",
       "    </tr>\n",
       "    <tr>\n",
       "      <th>4</th>\n",
       "      <td>63</td>\n",
       "      <td>Here are the SEC requirements: The federal sec...</td>\n",
       "      <td>Jul 14 '14 at 8:10</td>\n",
       "    </tr>\n",
       "  </tbody>\n",
       "</table>\n",
       "</div>"
      ],
      "text/plain": [
       "   docid                                                doc  \\\n",
       "0      3  I'm not saying I don't like the idea of on-the...   \n",
       "1     31  So nothing preventing false ratings besides ad...   \n",
       "2     56  You can never use a health FSA for individual ...   \n",
       "3     59  Samsung created the LCD and other flat screen ...   \n",
       "4     63  Here are the SEC requirements: The federal sec...   \n",
       "\n",
       "             timestamp  \n",
       "0  Oct 03 '12 at 14:56  \n",
       "1  Sep 01 '17 at 13:36  \n",
       "2   Jun 9 '14 at 17:37  \n",
       "3      Dec 27 at 01:37  \n",
       "4   Jul 14 '14 at 8:10  "
      ]
     },
     "execution_count": 7,
     "metadata": {},
     "output_type": "execute_result"
    }
   ],
   "source": [
    "doc_df.head()"
   ]
  },
  {
   "cell_type": "markdown",
   "id": "a43cdfcf-b379-431c-8d9c-86ce52ddd4b1",
   "metadata": {},
   "source": [
    "# Create mapped dataframe"
   ]
  },
  {
   "cell_type": "code",
   "execution_count": 8,
   "id": "352c73ed-d408-4c11-ac19-335ca4d50579",
   "metadata": {},
   "outputs": [],
   "source": [
    "question_mapping_dict = {}\n",
    "for _,row in question_df.iterrows():\n",
    "    question_mapping_dict[int(row[\"qid\"])] = row[\"question\"]\n",
    "    \n",
    "answer_mapping_dict = {}\n",
    "for _,row in doc_df.iterrows():\n",
    "    answer_mapping_dict[int(row[\"docid\"])] = row[\"doc\"]"
   ]
  },
  {
   "cell_type": "code",
   "execution_count": 9,
   "id": "f094329e-7e68-415c-9f0e-34dd2904c050",
   "metadata": {},
   "outputs": [],
   "source": [
    "def get_question(index):\n",
    "    return question_mapping_dict[int(index)]\n",
    "\n",
    "def get_answer(index):\n",
    "    return answer_mapping_dict[int(index)]"
   ]
  },
  {
   "cell_type": "code",
   "execution_count": 10,
   "id": "a3be6c80-9996-4d8f-ae97-d19631fe26d7",
   "metadata": {},
   "outputs": [],
   "source": [
    "map_df[\"question\"] = map_df[\"qid\"].apply(get_question)\n",
    "map_df[\"answer\"] = map_df[\"docid\"].apply(get_answer)"
   ]
  },
  {
   "cell_type": "code",
   "execution_count": 11,
   "id": "51bef1fa-6ae5-4c37-9513-02cc1b40be6b",
   "metadata": {},
   "outputs": [
    {
     "data": {
      "text/html": [
       "<div>\n",
       "<style scoped>\n",
       "    .dataframe tbody tr th:only-of-type {\n",
       "        vertical-align: middle;\n",
       "    }\n",
       "\n",
       "    .dataframe tbody tr th {\n",
       "        vertical-align: top;\n",
       "    }\n",
       "\n",
       "    .dataframe thead th {\n",
       "        text-align: right;\n",
       "    }\n",
       "</style>\n",
       "<table border=\"1\" class=\"dataframe\">\n",
       "  <thead>\n",
       "    <tr style=\"text-align: right;\">\n",
       "      <th></th>\n",
       "      <th>qid</th>\n",
       "      <th>docid</th>\n",
       "      <th>question</th>\n",
       "      <th>answer</th>\n",
       "    </tr>\n",
       "  </thead>\n",
       "  <tbody>\n",
       "    <tr>\n",
       "      <th>0</th>\n",
       "      <td>0</td>\n",
       "      <td>18850</td>\n",
       "      <td>What is considered a business expense on a bus...</td>\n",
       "      <td>The IRS Guidance pertaining to the subject.  I...</td>\n",
       "    </tr>\n",
       "    <tr>\n",
       "      <th>1</th>\n",
       "      <td>1</td>\n",
       "      <td>14255</td>\n",
       "      <td>Claiming business expenses for a business with...</td>\n",
       "      <td>Yes you can claim your business deductions if ...</td>\n",
       "    </tr>\n",
       "    <tr>\n",
       "      <th>2</th>\n",
       "      <td>2</td>\n",
       "      <td>308938</td>\n",
       "      <td>Transferring money from One business checking ...</td>\n",
       "      <td>You should have separate files for each of the...</td>\n",
       "    </tr>\n",
       "    <tr>\n",
       "      <th>3</th>\n",
       "      <td>3</td>\n",
       "      <td>296717</td>\n",
       "      <td>Having a separate bank account for business/in...</td>\n",
       "      <td>Having a separate checking account for the bus...</td>\n",
       "    </tr>\n",
       "    <tr>\n",
       "      <th>4</th>\n",
       "      <td>3</td>\n",
       "      <td>100764</td>\n",
       "      <td>Having a separate bank account for business/in...</td>\n",
       "      <td>You don't specify which country you are in, so...</td>\n",
       "    </tr>\n",
       "    <tr>\n",
       "      <th>...</th>\n",
       "      <td>...</td>\n",
       "      <td>...</td>\n",
       "      <td>...</td>\n",
       "      <td>...</td>\n",
       "    </tr>\n",
       "    <tr>\n",
       "      <th>17105</th>\n",
       "      <td>11096</td>\n",
       "      <td>407726</td>\n",
       "      <td>Pensions, annuities, and “retirement”</td>\n",
       "      <td>An annuity is a product. In simple terms, you ...</td>\n",
       "    </tr>\n",
       "    <tr>\n",
       "      <th>17106</th>\n",
       "      <td>11097</td>\n",
       "      <td>131224</td>\n",
       "      <td>What does it mean to a life insurance policy h...</td>\n",
       "      <td>A stock insurance company is structured like a...</td>\n",
       "    </tr>\n",
       "    <tr>\n",
       "      <th>17107</th>\n",
       "      <td>11099</td>\n",
       "      <td>424427</td>\n",
       "      <td>Can capital loss in traditional IRA and Roth I...</td>\n",
       "      <td>Edited in response to JoeTaxpayer's comment an...</td>\n",
       "    </tr>\n",
       "    <tr>\n",
       "      <th>17108</th>\n",
       "      <td>11099</td>\n",
       "      <td>150878</td>\n",
       "      <td>Can capital loss in traditional IRA and Roth I...</td>\n",
       "      <td>No, you cannot. If you withdraw everything fro...</td>\n",
       "    </tr>\n",
       "    <tr>\n",
       "      <th>17109</th>\n",
       "      <td>11104</td>\n",
       "      <td>518310</td>\n",
       "      <td>Selling a stock for gain to offset other stock...</td>\n",
       "      <td>Long term gains are taxed at 15% maximum.  Los...</td>\n",
       "    </tr>\n",
       "  </tbody>\n",
       "</table>\n",
       "<p>17110 rows × 4 columns</p>\n",
       "</div>"
      ],
      "text/plain": [
       "         qid   docid                                           question  \\\n",
       "0          0   18850  What is considered a business expense on a bus...   \n",
       "1          1   14255  Claiming business expenses for a business with...   \n",
       "2          2  308938  Transferring money from One business checking ...   \n",
       "3          3  296717  Having a separate bank account for business/in...   \n",
       "4          3  100764  Having a separate bank account for business/in...   \n",
       "...      ...     ...                                                ...   \n",
       "17105  11096  407726              Pensions, annuities, and “retirement”   \n",
       "17106  11097  131224  What does it mean to a life insurance policy h...   \n",
       "17107  11099  424427  Can capital loss in traditional IRA and Roth I...   \n",
       "17108  11099  150878  Can capital loss in traditional IRA and Roth I...   \n",
       "17109  11104  518310  Selling a stock for gain to offset other stock...   \n",
       "\n",
       "                                                  answer  \n",
       "0      The IRS Guidance pertaining to the subject.  I...  \n",
       "1      Yes you can claim your business deductions if ...  \n",
       "2      You should have separate files for each of the...  \n",
       "3      Having a separate checking account for the bus...  \n",
       "4      You don't specify which country you are in, so...  \n",
       "...                                                  ...  \n",
       "17105  An annuity is a product. In simple terms, you ...  \n",
       "17106  A stock insurance company is structured like a...  \n",
       "17107  Edited in response to JoeTaxpayer's comment an...  \n",
       "17108  No, you cannot. If you withdraw everything fro...  \n",
       "17109  Long term gains are taxed at 15% maximum.  Los...  \n",
       "\n",
       "[17110 rows x 4 columns]"
      ]
     },
     "execution_count": 11,
     "metadata": {},
     "output_type": "execute_result"
    }
   ],
   "source": [
    "map_df"
   ]
  },
  {
   "cell_type": "code",
   "execution_count": 12,
   "id": "94cab508-bd44-4d87-8401-3f25bb26a658",
   "metadata": {},
   "outputs": [],
   "source": [
    "map_df=map_df.dropna()"
   ]
  },
  {
   "cell_type": "code",
   "execution_count": 13,
   "id": "d11cf109-c68e-4f8b-9712-e8bfcf618a0d",
   "metadata": {},
   "outputs": [
    {
     "data": {
      "text/html": [
       "<div>\n",
       "<style scoped>\n",
       "    .dataframe tbody tr th:only-of-type {\n",
       "        vertical-align: middle;\n",
       "    }\n",
       "\n",
       "    .dataframe tbody tr th {\n",
       "        vertical-align: top;\n",
       "    }\n",
       "\n",
       "    .dataframe thead th {\n",
       "        text-align: right;\n",
       "    }\n",
       "</style>\n",
       "<table border=\"1\" class=\"dataframe\">\n",
       "  <thead>\n",
       "    <tr style=\"text-align: right;\">\n",
       "      <th></th>\n",
       "      <th>qid</th>\n",
       "      <th>docid</th>\n",
       "      <th>question</th>\n",
       "      <th>answer</th>\n",
       "    </tr>\n",
       "  </thead>\n",
       "  <tbody>\n",
       "    <tr>\n",
       "      <th>0</th>\n",
       "      <td>0</td>\n",
       "      <td>18850</td>\n",
       "      <td>What is considered a business expense on a bus...</td>\n",
       "      <td>The IRS Guidance pertaining to the subject.  I...</td>\n",
       "    </tr>\n",
       "    <tr>\n",
       "      <th>1</th>\n",
       "      <td>1</td>\n",
       "      <td>14255</td>\n",
       "      <td>Claiming business expenses for a business with...</td>\n",
       "      <td>Yes you can claim your business deductions if ...</td>\n",
       "    </tr>\n",
       "    <tr>\n",
       "      <th>2</th>\n",
       "      <td>2</td>\n",
       "      <td>308938</td>\n",
       "      <td>Transferring money from One business checking ...</td>\n",
       "      <td>You should have separate files for each of the...</td>\n",
       "    </tr>\n",
       "    <tr>\n",
       "      <th>3</th>\n",
       "      <td>3</td>\n",
       "      <td>296717</td>\n",
       "      <td>Having a separate bank account for business/in...</td>\n",
       "      <td>Having a separate checking account for the bus...</td>\n",
       "    </tr>\n",
       "    <tr>\n",
       "      <th>4</th>\n",
       "      <td>3</td>\n",
       "      <td>100764</td>\n",
       "      <td>Having a separate bank account for business/in...</td>\n",
       "      <td>You don't specify which country you are in, so...</td>\n",
       "    </tr>\n",
       "    <tr>\n",
       "      <th>...</th>\n",
       "      <td>...</td>\n",
       "      <td>...</td>\n",
       "      <td>...</td>\n",
       "      <td>...</td>\n",
       "    </tr>\n",
       "    <tr>\n",
       "      <th>17105</th>\n",
       "      <td>11096</td>\n",
       "      <td>407726</td>\n",
       "      <td>Pensions, annuities, and “retirement”</td>\n",
       "      <td>An annuity is a product. In simple terms, you ...</td>\n",
       "    </tr>\n",
       "    <tr>\n",
       "      <th>17106</th>\n",
       "      <td>11097</td>\n",
       "      <td>131224</td>\n",
       "      <td>What does it mean to a life insurance policy h...</td>\n",
       "      <td>A stock insurance company is structured like a...</td>\n",
       "    </tr>\n",
       "    <tr>\n",
       "      <th>17107</th>\n",
       "      <td>11099</td>\n",
       "      <td>424427</td>\n",
       "      <td>Can capital loss in traditional IRA and Roth I...</td>\n",
       "      <td>Edited in response to JoeTaxpayer's comment an...</td>\n",
       "    </tr>\n",
       "    <tr>\n",
       "      <th>17108</th>\n",
       "      <td>11099</td>\n",
       "      <td>150878</td>\n",
       "      <td>Can capital loss in traditional IRA and Roth I...</td>\n",
       "      <td>No, you cannot. If you withdraw everything fro...</td>\n",
       "    </tr>\n",
       "    <tr>\n",
       "      <th>17109</th>\n",
       "      <td>11104</td>\n",
       "      <td>518310</td>\n",
       "      <td>Selling a stock for gain to offset other stock...</td>\n",
       "      <td>Long term gains are taxed at 15% maximum.  Los...</td>\n",
       "    </tr>\n",
       "  </tbody>\n",
       "</table>\n",
       "<p>17072 rows × 4 columns</p>\n",
       "</div>"
      ],
      "text/plain": [
       "         qid   docid                                           question  \\\n",
       "0          0   18850  What is considered a business expense on a bus...   \n",
       "1          1   14255  Claiming business expenses for a business with...   \n",
       "2          2  308938  Transferring money from One business checking ...   \n",
       "3          3  296717  Having a separate bank account for business/in...   \n",
       "4          3  100764  Having a separate bank account for business/in...   \n",
       "...      ...     ...                                                ...   \n",
       "17105  11096  407726              Pensions, annuities, and “retirement”   \n",
       "17106  11097  131224  What does it mean to a life insurance policy h...   \n",
       "17107  11099  424427  Can capital loss in traditional IRA and Roth I...   \n",
       "17108  11099  150878  Can capital loss in traditional IRA and Roth I...   \n",
       "17109  11104  518310  Selling a stock for gain to offset other stock...   \n",
       "\n",
       "                                                  answer  \n",
       "0      The IRS Guidance pertaining to the subject.  I...  \n",
       "1      Yes you can claim your business deductions if ...  \n",
       "2      You should have separate files for each of the...  \n",
       "3      Having a separate checking account for the bus...  \n",
       "4      You don't specify which country you are in, so...  \n",
       "...                                                  ...  \n",
       "17105  An annuity is a product. In simple terms, you ...  \n",
       "17106  A stock insurance company is structured like a...  \n",
       "17107  Edited in response to JoeTaxpayer's comment an...  \n",
       "17108  No, you cannot. If you withdraw everything fro...  \n",
       "17109  Long term gains are taxed at 15% maximum.  Los...  \n",
       "\n",
       "[17072 rows x 4 columns]"
      ]
     },
     "execution_count": 13,
     "metadata": {},
     "output_type": "execute_result"
    }
   ],
   "source": [
    "map_df"
   ]
  },
  {
   "cell_type": "code",
   "execution_count": 14,
   "id": "c1568d48-90b2-4ea6-a12b-f6f436155dda",
   "metadata": {},
   "outputs": [],
   "source": [
    "# Some documents are not tagged to any answers. We will save them in a seperate dataframe for future use\n",
    "is_NaN = map_df.isnull()\n",
    "row_has_NaN = is_NaN.any(axis=1)\n",
    "no_answers_df = map_df[row_has_NaN]"
   ]
  },
  {
   "cell_type": "code",
   "execution_count": 15,
   "id": "56389243-3b39-457a-b76b-ddaaa24414d4",
   "metadata": {},
   "outputs": [],
   "source": [
    "map_df_2 = map_df.copy(deep=True)"
   ]
  },
  {
   "cell_type": "markdown",
   "id": "9b42e3c5-bd5b-4736-a691-8597294cbc95",
   "metadata": {},
   "source": [
    "# Save to new csv"
   ]
  },
  {
   "cell_type": "code",
   "execution_count": 16,
   "id": "81ba118d-4ad7-441a-8886-0c4a14b45bcf",
   "metadata": {},
   "outputs": [],
   "source": [
    "no_answers_df.to_csv(\"../0.Datasets/no_answers.csv\",index=False)"
   ]
  },
  {
   "cell_type": "code",
   "execution_count": 17,
   "id": "15e3ed8a-2840-44e2-9ac9-fb52908b7950",
   "metadata": {},
   "outputs": [],
   "source": [
    "map_df_2.to_csv(\"../0.Datasets/QnA.csv\")"
   ]
  },
  {
   "cell_type": "markdown",
   "id": "9bdf8c61-1064-4942-8e16-fcd5fa1ed846",
   "metadata": {},
   "source": [
    "# Split to train test (20%)"
   ]
  },
  {
   "cell_type": "code",
   "execution_count": 18,
   "id": "6ff9bfb7-3370-4785-bfd1-e510e3941f17",
   "metadata": {},
   "outputs": [],
   "source": [
    "train, test = train_test_split(map_df, test_size=0.2, random_state = 425)"
   ]
  },
  {
   "cell_type": "code",
   "execution_count": 19,
   "id": "7ffee024-fd6b-455b-9881-8c3b763f0efc",
   "metadata": {},
   "outputs": [],
   "source": [
    "train.to_csv(\"../0.Datasets/train_test_split/train.csv\")\n",
    "test.to_csv(\"../0.Datasets/train_test_split/test.csv\")"
   ]
  },
  {
   "cell_type": "code",
   "execution_count": null,
   "id": "0f1db277-dc81-45da-8cc4-2b0364254a6b",
   "metadata": {},
   "outputs": [],
   "source": []
  }
 ],
 "metadata": {
  "kernelspec": {
   "display_name": "Python 3",
   "language": "python",
   "name": "python3"
  },
  "language_info": {
   "codemirror_mode": {
    "name": "ipython",
    "version": 3
   },
   "file_extension": ".py",
   "mimetype": "text/x-python",
   "name": "python",
   "nbconvert_exporter": "python",
   "pygments_lexer": "ipython3",
   "version": "3.8.8"
  }
 },
 "nbformat": 4,
 "nbformat_minor": 5
}
