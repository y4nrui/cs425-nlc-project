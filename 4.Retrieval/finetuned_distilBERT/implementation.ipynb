{
 "cells": [
  {
   "cell_type": "markdown",
   "id": "43e9870d-aad2-438e-bb2b-a973321c97a2",
   "metadata": {},
   "source": [
    "# Install/import relevant libraries"
   ]
  },
  {
   "cell_type": "code",
   "execution_count": 2,
   "id": "2233f771-d792-4d3d-94ba-dcdc1267eb35",
   "metadata": {},
   "outputs": [
    {
     "name": "stdout",
     "output_type": "stream",
     "text": [
      "C:\\Users\\yiehy\\OneDrive\\Desktop\\cs425-nlc-project\\4.Retrieval\\finetuned_distilBERT\n"
     ]
    }
   ],
   "source": [
    "import pandas as pd\n",
    "import numpy as np\n",
    "from sentence_transformers import SentenceTransformer\n",
    "import pickle\n",
    "from scipy import spatial\n",
    "import os\n",
    "print(os.getcwd())"
   ]
  },
  {
   "cell_type": "markdown",
   "id": "cc09ee0c-4299-4e7d-9708-bce2ae974d41",
   "metadata": {},
   "source": [
    "# Get embeddings for distilbert"
   ]
  },
  {
   "cell_type": "code",
   "execution_count": 3,
   "id": "8eefe87f-e501-4251-a300-1c6576878a72",
   "metadata": {},
   "outputs": [],
   "source": [
    "qna_df = pd.read_csv(\"../../0.Datasets/QnA.csv\")"
   ]
  },
  {
   "cell_type": "code",
   "execution_count": 4,
   "id": "83fc19b4-c6f3-46f0-9d10-c5c5b398eaa4",
   "metadata": {},
   "outputs": [
    {
     "data": {
      "text/html": [
       "<div>\n",
       "<style scoped>\n",
       "    .dataframe tbody tr th:only-of-type {\n",
       "        vertical-align: middle;\n",
       "    }\n",
       "\n",
       "    .dataframe tbody tr th {\n",
       "        vertical-align: top;\n",
       "    }\n",
       "\n",
       "    .dataframe thead th {\n",
       "        text-align: right;\n",
       "    }\n",
       "</style>\n",
       "<table border=\"1\" class=\"dataframe\">\n",
       "  <thead>\n",
       "    <tr style=\"text-align: right;\">\n",
       "      <th></th>\n",
       "      <th>Unnamed: 0</th>\n",
       "      <th>qid</th>\n",
       "      <th>docid</th>\n",
       "      <th>question</th>\n",
       "      <th>answer</th>\n",
       "    </tr>\n",
       "  </thead>\n",
       "  <tbody>\n",
       "    <tr>\n",
       "      <th>0</th>\n",
       "      <td>0</td>\n",
       "      <td>0</td>\n",
       "      <td>18850</td>\n",
       "      <td>What is considered a business expense on a bus...</td>\n",
       "      <td>The IRS Guidance pertaining to the subject.  I...</td>\n",
       "    </tr>\n",
       "    <tr>\n",
       "      <th>1</th>\n",
       "      <td>1</td>\n",
       "      <td>1</td>\n",
       "      <td>14255</td>\n",
       "      <td>Claiming business expenses for a business with...</td>\n",
       "      <td>Yes you can claim your business deductions if ...</td>\n",
       "    </tr>\n",
       "    <tr>\n",
       "      <th>2</th>\n",
       "      <td>2</td>\n",
       "      <td>2</td>\n",
       "      <td>308938</td>\n",
       "      <td>Transferring money from One business checking ...</td>\n",
       "      <td>You should have separate files for each of the...</td>\n",
       "    </tr>\n",
       "    <tr>\n",
       "      <th>3</th>\n",
       "      <td>3</td>\n",
       "      <td>3</td>\n",
       "      <td>296717</td>\n",
       "      <td>Having a separate bank account for business/in...</td>\n",
       "      <td>Having a separate checking account for the bus...</td>\n",
       "    </tr>\n",
       "    <tr>\n",
       "      <th>4</th>\n",
       "      <td>4</td>\n",
       "      <td>3</td>\n",
       "      <td>100764</td>\n",
       "      <td>Having a separate bank account for business/in...</td>\n",
       "      <td>You don't specify which country you are in, so...</td>\n",
       "    </tr>\n",
       "  </tbody>\n",
       "</table>\n",
       "</div>"
      ],
      "text/plain": [
       "   Unnamed: 0  qid   docid                                           question  \\\n",
       "0           0    0   18850  What is considered a business expense on a bus...   \n",
       "1           1    1   14255  Claiming business expenses for a business with...   \n",
       "2           2    2  308938  Transferring money from One business checking ...   \n",
       "3           3    3  296717  Having a separate bank account for business/in...   \n",
       "4           4    3  100764  Having a separate bank account for business/in...   \n",
       "\n",
       "                                              answer  \n",
       "0  The IRS Guidance pertaining to the subject.  I...  \n",
       "1  Yes you can claim your business deductions if ...  \n",
       "2  You should have separate files for each of the...  \n",
       "3  Having a separate checking account for the bus...  \n",
       "4  You don't specify which country you are in, so...  "
      ]
     },
     "execution_count": 4,
     "metadata": {},
     "output_type": "execute_result"
    }
   ],
   "source": [
    "qna_df.head()"
   ]
  },
  {
   "cell_type": "code",
   "execution_count": 5,
   "id": "ddd9f8a8-45f7-446a-832e-4b163c62f010",
   "metadata": {},
   "outputs": [
    {
     "name": "stdout",
     "output_type": "stream",
     "text": [
      "<class 'pandas.core.frame.DataFrame'>\n",
      "RangeIndex: 17072 entries, 0 to 17071\n",
      "Data columns (total 5 columns):\n",
      " #   Column      Non-Null Count  Dtype \n",
      "---  ------      --------------  ----- \n",
      " 0   Unnamed: 0  17072 non-null  int64 \n",
      " 1   qid         17072 non-null  int64 \n",
      " 2   docid       17072 non-null  int64 \n",
      " 3   question    17072 non-null  object\n",
      " 4   answer      17072 non-null  object\n",
      "dtypes: int64(3), object(2)\n",
      "memory usage: 667.0+ KB\n"
     ]
    }
   ],
   "source": [
    "qna_df.info()"
   ]
  },
  {
   "cell_type": "code",
   "execution_count": 7,
   "id": "ca21d9fc-4c47-4d0b-b4be-91dbe63c4473",
   "metadata": {},
   "outputs": [
    {
     "name": "stderr",
     "output_type": "stream",
     "text": [
      "C:\\Users\\yiehy\\anaconda3\\lib\\site-packages\\transformers\\configuration_utils.py:336: UserWarning: Passing `gradient_checkpointing` to a config initialization is deprecated and will be removed in v5 Transformers. Using `model.gradient_checkpointing_enable()` instead, or if you are using the `Trainer` API, pass `gradient_checkpointing=True` in your `TrainingArguments`.\n",
      "  warnings.warn(\n"
     ]
    }
   ],
   "source": [
    "# model = SentenceTransformer(\"sentence-transformers/msmarco-distilbert-dot-v5\")\n",
    "model = SentenceTransformer(\"../../8.Fine-tuned Models/finetuned-distilBERT-1epoch\")"
   ]
  },
  {
   "cell_type": "code",
   "execution_count": 8,
   "id": "1566ce53-d032-4575-b7d2-6cdc15c57700",
   "metadata": {},
   "outputs": [],
   "source": [
    "# split answers to chunks for model to encode\n",
    "answers_list = qna_df[\"answer\"].tolist()\n",
    "chunk_size = 10\n",
    "chunks = [answers_list[i:(i+chunk_size)] for i in range(0, len(answers_list), chunk_size)]"
   ]
  },
  {
   "cell_type": "code",
   "execution_count": 9,
   "id": "ed4cc246-609c-45b5-a971-88b899a1f607",
   "metadata": {},
   "outputs": [],
   "source": [
    "answers_list = qna_df[\"answer\"].tolist()"
   ]
  },
  {
   "cell_type": "code",
   "execution_count": 11,
   "id": "e90f0829-1b21-4b58-b941-e6a6494edc61",
   "metadata": {},
   "outputs": [],
   "source": [
    "dimension_size = 768 # embedding dimensions from msmarco distilbert documentation\n",
    "sentence_embeddings = np.empty([0,dimension_size], dtype=np.float32)\n",
    "for i,chunk in enumerate(chunks):\n",
    "    if i% chunk_size == 0:\n",
    "        print(i* chunk_size)\n",
    "    # stack it to sentence_embeddings numpy array\n",
    "    sentence_embeddings = np.vstack((sentence_embeddings, model.encode(chunk)))"
   ]
  },
  {
   "cell_type": "code",
   "execution_count": 10,
   "id": "fb3a8472-aeda-431e-a6c4-2568cbf624c2",
   "metadata": {},
   "outputs": [
    {
     "data": {
      "text/plain": [
       "17072"
      ]
     },
     "execution_count": 10,
     "metadata": {},
     "output_type": "execute_result"
    }
   ],
   "source": [
    "len(sentence_embeddings)"
   ]
  },
  {
   "cell_type": "code",
   "execution_count": 11,
   "id": "f944bdfe-43a4-4c2d-a4d6-92a8852bfb02",
   "metadata": {},
   "outputs": [],
   "source": [
    "#save model embeddings\n",
    "with open(\"./answer_embeddings.pkl\", 'wb') as f:\n",
    "    pickle.dump(sentence_embeddings, f, pickle.HIGHEST_PROTOCOL)"
   ]
  },
  {
   "cell_type": "markdown",
   "id": "46284a14-28c7-48a1-a704-11e36f39c53c",
   "metadata": {},
   "source": [
    "# Show top 50 results for a query"
   ]
  },
  {
   "cell_type": "code",
   "execution_count": 12,
   "id": "4ec16e14-dbd1-40eb-92f4-0bd837a74431",
   "metadata": {},
   "outputs": [],
   "source": [
    "# Read embeddings\n",
    "sentence_embeddings = pickle.load(open(\"./answer_embeddings.pkl\", 'rb'))"
   ]
  },
  {
   "cell_type": "code",
   "execution_count": 13,
   "id": "708e2582-95e0-4775-acfb-985052561e04",
   "metadata": {},
   "outputs": [],
   "source": [
    "test_query = \"Should i use a robo advisor or hire a financial advisor?\""
   ]
  },
  {
   "cell_type": "code",
   "execution_count": 14,
   "id": "a2d3e6e5-e0ed-4b31-bb34-da0d5628a9ba",
   "metadata": {},
   "outputs": [
    {
     "name": "stdout",
     "output_type": "stream",
     "text": [
      "========== Rank 1 ==========\n",
      "If your financial needs aren't complex, and mostly limited to portfolio management, consider looking into the newish thing called robo-advisers (proper term is \"Automated investing services\").  The difference is that robo-advisers use software to manage portfolios on a large scale, generating big economy of scale and therefore offering a much cheaper services than personal advisor would - and unless your financial needs are extremely complex, the state of the art of scaled up portfolio management is at the point that a human advisor really doesn't give you any value-add (and - as other answers noted - human advisor can easily bring in downsides such as conflict of interest and lack of fiduciary responsibility).  disclaimer: I indirectly derive my living from a company which derives a very small part of their income from a robo-adviser, therefore there's a possible small conflict of interest in my answer\n",
      "\n",
      "========== Rank 2 ==========\n",
      "If you are looking for an advisor to just build a portfolio and then manage it, a robo-advisor can be beneficial (especially if the alternative is doing it your self, assuming that you are not well versed in the markets). The primary risk with one is that it does not build a portfolio that accurately represents your needs and risk tolerance. Some firms base the number of questions they ask you on sign up based not on what is needed to get a good profile, but on how many before people decide that it is too much hassle and bail. That usually results in poorer profiles. Also a live advisor may be better at really getting at your risk tolerance. Many of day our risk tolerance is one thing but in reality we are not so risk tolerant.  Once the profile is built. The algorithms maintain your portfolio on a day by day basis. If rebalancing opportunities occur they take advantage of it.  The primary benefit of a robo-advisor is lower fees or smaller minimum account balances. The downside is the lack of human interaction and financial advise outside of putting together a portfolio.\n",
      "\n",
      "========== Rank 3 ==========\n",
      "Most individuals do not need a personal financial advisor. If you are soon entering the world of work, your discretionary investments should be focused on index funds that you commit to over the long run. Indeed, the best advice I would give to anyone just starting out would be: For most average young workers, a financial advisor will just give you some version of the information above, but will change you for it. I would not recommend a financial advisor as a necessity until you have seriously complicated taxes. Your taxes will not be complicated. Save your money.\n",
      "\n",
      "========== Rank 4 ==========\n",
      "In my experience financial advisors do not normally assist with budgeting and personal everyday finance. There certainly are people who do that, but you would normally only consult them when you have financial difficulties, especially debt. The more common find of financial advisor is mostly focussed on advising you about savings and investments. A lot work for banks and investment companies. They will usually advise you for free, the downside being that they will only recommend their company's products. This may or may not be a bad thing, depending on the company. Others will charge you a commission on purchases, and their advice will be more neutral. This question will also be interesting: Are all financial advisors compensated in the same way?\n",
      "\n",
      "========== Rank 5 ==========\n",
      "If you don't have the time or interest to manage investments, you need a financial advisor.  Generally speaking, you're better served by an advisor who collects an annual fee based on a percentage of your account value. Advisors who are compensated based on transactions have a vested interest to churn your account, which is often not in your best interest. You also need to be wary of advisors who peddle expensive mutual funds with sales loads (aka kick-backs to the advisor) or annuities. Your advisor's compensation structure should be transparent as well.\n",
      "\n",
      "========== Rank 6 ==========\n",
      "Yes, maybe for themselves, but for you that depends on quite a number of things. But not all advisors are scum, but accept the fact that you are their cash cow and you are there for their takings. Some advisors are true to their professions and advise ethically, trying to get the best for their clients. So search for a good advisor rather than a cheap one. And regarding the mortgage you are talking about, the mortgage provider and the mortgage taker don't deal directly, but use their solicitors. Every party wants the least of legal hassles for their transactions and get the best legal help. The financial advisor maybe both rolled into one or he has legal practitioners in his firm who would do the legal job after he takes care of the financial matters. Seems a cost effective workshop.\n",
      "\n",
      "========== Rank 7 ==========\n",
      "There is no rule of thumb (although some may suggest there is). Everybody will have different goals, investment preferences and risk tolerances. You need to figure this out by yourself by either education yourself in the type of investments you are interested in or by engaging (and paying for) a financial advisor. You should not be taking advice from others unless it is specifically geared for your goals, investment DNA and risk tolerance. The only advice I would give you is to have a plan (whether you develop it yourself or pay a financial advisor to develop one). Also, don't have all your savings sitting in cash, as long-term you will fall behind the eight ball in real returns (allowing for inflation).\n",
      "\n",
      "========== Rank 8 ==========\n",
      "I thought the Finance Buff made a pretty solid argument for a financial advisor the other day: http://thefinancebuff.com/the-average-investor-should-use-an-investment-advisor-how-to-find-one.html But 1.5% is too expensive. The blog post at Finance Buff suggests several alternatives. He also has the great suggestion to use Vanguard's cheap financial planning service if you go with Vanguard. A lot of investing advice fails to consider the human factor. Sure it'd be great to rebalance exactly every 6 months and take precisely the amount of risk to theoretically maximize returns. But, yeah right. It's well-known that in the aggregate individual investors go to cash near market bottoms and then buy near market tops. It's not that they don't know the right thing to do necessarily, it's just that the emotional aspect is stronger than any of us expect. You shouldn't rely on sticking to your investments any more than you rely on sticking to your diet and exercise program ;-) the theoretically optimal solution is not the real-world-people-are-involved optimal solution. My own blog post on this suggests a balanced fund rather than a financial advisor, but I think the right financial advisor could well be a better approach: http://blog.ometer.com/2010/11/10/take-risks-in-life-for-savings-choose-a-balanced-fund/ Anyway, I think people are too quick to think of the main risk as volatility, and to think of investing as simple. Sure in theory it is simple. But the main risk is yourself. Fear at market bottoms, greed at market tops, laziness the rest of the time... so there's potential value in taking yourself out of the picture. The human part is the part that isn't simple. On whether to get a financial advisor in general (not just for investments), see also: What exactly can a financial advisor do for me, and is it worth the money?\n",
      "\n",
      "========== Rank 9 ==========\n",
      "A financial advisor is a service professional.  It is his/her job to do things for you that you could do for yourself, but you're either too busy to do it yourself (and you want to pay somebody else), or you'd rather not. Just like some people hire tax preparers, or maids, or people to change their oil, or re-roof their houses. Me, I choose to self-manage.  I get some advise from Fidelity and Vanguard.  But we hired somebody this year to re-roof our house and someone else to paint it.\n",
      "\n",
      "========== Rank 10 ==========\n",
      "Yes, there is a profession that does exactly what you're looking for.  It's called a fee-only financial advisor. These are professionals who (in the United States) enter into a fiduciary relationship with a client, meaning they are legally required to put your financial interests above all other considerations (such as any behind-the-scenes incentives to promote certain products).  Between that requirement and the fact that they are paid for their time (and not on commission), they have zero incentive to try to sell you anything that you do not need.  Their only job is to help you with your financial situation.  (Of course, some of them may be better than others.) See the profession's website here to find such an advisor near you. (Credit to Marketplace Money, the old name for Marketplace Weekend, for mentioning fee-only advisors at least 87 times per show.)\n",
      "\n",
      "========== Rank 11 ==========\n",
      "Any fee based financial adviser should be able to help you. I don't think you need to worry about finding a 401K specific adviser. I'm not even sure that's a thing. A good place to start is the National Association of Personal Financial Advisors. The reason I specifically mentioned a fee based adviser is that the free ones are working on sales commissions, which may influence them to give advice that is in their own best interest more than yours.\n",
      "\n",
      "========== Rank 12 ==========\n",
      "At 1.4 Million, you can definately afford a professional advisor who would give you the best advice taking into account all your goals and risk appetite.\n",
      "\n",
      "========== Rank 13 ==========\n",
      "Exactly what you do with the money depends on various personal choices you'll have to make for yourself.  Investing your money in Vanguard index funds such as the ones you mentioned is certainly one smart move.  However, I think you're quite right to be suspicious of an advisor with a 1% fee.  In many cases, such advisors are not worth their costs.  The thing to remember is that, typically with that type of fee structure, you always pay the costs, even if the advisor turns out to be wrong and your money doesn't grow. One thing to check is whether the advisor you mentioned is paid only by the fees he charges (a \"fee-only financial planner') , or whether he also makes money via the sales of financial products.  Some advisors earn money by selling you financial products (such as mutual funds), which can create a conflict of interest.  You can read about fee-only financial advisors and choosing a financial advisor on Investopedia.\n",
      "\n",
      "========== Rank 14 ==========\n",
      "Technically, anyone who advises how you should spend or proportion your money is a financial adviser.  A person that does it for money is a Financial Advisor (difference in spelling). Financial Advisors are people that basically build, manage, or advise on your portfolio.  They have a little more institutional knowledge on how/where to invest, given your goals, since they do it on a daily basis. They may know a little more than you since, they deal with many different assets: stocks, ETFs, mutual funds, bonds, insurances (home/health/life), REITs, options, futures, LEAPS, etc. There is risk in everything you do, which is why what they propose is generally according to the risk-level you want to assume.  Since you're younger, your risk level could be a little higher, as you approach retirement, your risk level will be lower.  Risk level should be associated with how likely you're able to reacquire your assets if you lose it all as well as, your likelihood to enjoy the fruits from your investments. Financial Advisors are great, however, be careful about them.  Some are payed on commissions, which are given money for investing in packages that they support.  Basically, they could get paid $$ for putting you in a losing situation.  Also be careful because some announce that they are fee-based - these advisers often receive fees as well as commissions.  Basically, associate the term \"commission\" with \"conflict-of-interest\", so you want a fee-only Advisor, which isn't persuaded to steer you wrong. Another thing worth noting is that some trading companies (like e*trade) has financial services that may be free, depending how much money you have with them.  Generally, $50K is on the lower end to get a Financial Advisors.  There has been corruption in the past, where Financial Advisors are only given a limited number of accounts to manage, that means they took the lower-valued ones and basically ran them into the ground, so they could get newer ones from the lot that were hopefully worth more - the larger their portfolio, the more $$ they could make (higher fees or more commissions) and subjectively less work (less accounts to have to deal with), that's subjective, since the spread of the wealth was accross many markets.\n",
      "\n",
      "========== Rank 15 ==========\n",
      "Others have mentioned the term fiduciary but haven't really gone in to what that is. Despite the name \"financial advisor\" there is no legal (In the US) mandate as to what that means.  Often times a financial advisor is little more than a sales rep whose job it is to sell particular financial instruments.  These people will give you good generic advice such as \"make sure you have a nest egg\" and \"don't spend more than you make\".  However when the rubber hits the road in terms of how to save they will often recommend/insist/pressure a particular asset/security which doesn't necessarily meet your risk/reward preference/tolerance.  Often times the assets they pitch have high fees.  These people won't charge you for their time because their time is a loss leader for the commissions they make on selling their products. In contrast a fiduciary's job responsibility is to look out for your interests.  They shouldn't receive any kind of payment based on what assets you buy.  This means that you have to pay them for their time. The NAPFA website seems to have good ideas on choosing an advisor. http://www.napfa.org/HowtoFindAnAdvisor.asp\n",
      "\n",
      "========== Rank 16 ==========\n",
      "I think the OP is getting lost in designations.  Sounds to me that what he wants is a 'financial advisor' not an 'investment advisor'.  Does he even have investments?  Does he want to be told which securities to buy?   Or is he wanting advice on overall savings, insurance, tax-shelters, retirement planning, mortgages, etc.  Which is a different set of skills - the financial advisor skill set. Accountants don't have that skill set.  They know operating business reporting, taxes and generally how to keep it healthy and growing.  They can do personal tax returns (as a favour to only the owners of the business they keep track of usually). IMO they can deal with the reporting but not the planning or optimization. But IMO the OP should just read up and learn this stuff for himself.  Accreditation mean nothing.  Eg.  the major 'planner' brand teaches factually wrong stuff about RRSPs - which are the backbone of Canadian's finances.\n",
      "\n",
      "========== Rank 17 ==========\n",
      "Whether your financial status is considered \"OK\" depends on your aspirations.  You aren't spending more than you earn and have no debt.  That puts you in the category of OK in my book, but the information in your post indicates that you would benefit from some financial advice--100 grand sounds like a lot of money to have in a bank unless you are on the verge of spending it. Financial advisors come in various shapes and sizes.  Many will charge you a lot for what turns out to be helpful advice in the first meeting, but very little value-added thereafter.  Some don't have the best incentives (they may be incentivized to encourage you to put your money into certain funds, for example). There are many financial advisors (of sorts) that you have access to that won't cost you anything.  For example, if you have a 401(k) at work, I bet there is a representative from the plan administrator that will meet with you for free.  If you open a brokerage account or IRA at any place (Fidelity, Vanguard, etc.) you can easily talk with one of their reps and get all sorts of advice.  My personal take is to meet with anyone who will meet with me for free, but not to pay anyone for this service.  It's too easy to get good advice and paying for it doesn't guarantee that you get better advice. Your financial situation will depend primarily on a few things you have not mentioned here.  For example, How much are you setting aside for retirement and what are your retirement goals?  This is something lots of people can give you advice on, but we don't know what market returns will be going forward so we don't really know.  One bit of advice that may benefit you is how to set aside money for retirement in the most tax advantaged way. How much do you feel that you need saved up for large expenses?  Thinking of starting a family?  How many months worth of income are you comfortable having set aside? What is your tolerance of risk?  If you put your money in risky assets, you may make more, but you may also actually lose money.  Those are the questions a financial advisor will ask about.  Once you have his/her advice--and preferrably after talking to a few advisors--you can make your own decision. Basically, your options are: Rules of thumb: Save only what makes sense to save in banks given your expected needs for cash. Put a lot in tax advantaged accounts (don't give Uncle Sam any gifts). Then look at financial and real investments. There are a number of free resources on the internet.  For example FutureAdvisor.  Or you can hit up the forums at BogleHeads.  Those guys give and receive financial advice as a hobby.  They aren't professionals, but you can get a lot of varying ideas and make up your own mind, which to me is better than (just) asking a professional. BTW, regarding the ESPP: these plans often give you a discount on stock and can therefore be a good idea.  Just be sure you don't hold the stock longer than you need to.  It's generally a bad idea to concentrate your wealth in any single investment, especially one highly correlated with your background risk (i.e., if the company does poorly you will already be worse off because you may lose your job or see fewer advancement opportunities. No need to add losses in your savings to that).  1 Please note: I am neither advocating nor discouraging buying guns, gold, or other controversial real assets.  I'm just giving examples of items some people buy as part of their wealth-preservation strategy.\n",
      "\n",
      "========== Rank 18 ==========\n",
      "I am a Certified Financial Planner and provide tactical advice on everything from budgeting to saving for retirement. You do not have to have any series exams or a CFP to do this work, although it helps give you credibility. As long as you DO NOT provide investment advice, you likely do not need to register as an investment advisor or need any certification.\n",
      "\n",
      "========== Rank 19 ==========\n",
      "Traditional brokers There are tons of players in this market, especially in USA. You have traditional brokers, brokers tied to your bank and a bunch of startups. The easiest is probably a broker tied to your bank, because you probably don't have to wait to fund your brokerage account and can start trading immediately. Often the older/traditional brokers don't have very intuitive interfaces, it's the startups who do a better job at this. But honestly it doesn't really matter, because you can use reporting services that are different from the services you use to execute your trades. Meaning that you only use the interface of your broker to execute trades (buy or sell), and use third party services to monitor your holdings. Monitoring services: Google Finance, Yahoo Finance, Sigfig, Morningstar,... are services allowing you to monitor your holdings. But you can't execute trades with them. Start-ups: Then there are a bunch of startups that offer investment services besides the traditional brokers. Start-up > Robinhood The most ambitious one is Robinhood, which offers the same service as a traditional broker, but completely free (most of the traditional brokers charge a flat fee and/or percentage when buying/selling hodlings) and with an intuitive interface. They're mobile first, but announced they will be launching their service on the web soon. Start-up > Acorns Another popular, mobile-first start-up is Acorns. They offer a lazy-investing service which rounds your everyday purchases and uses the change to invest. It's great when investing is not on your mind, but you still want to invest without realizing it. Start-ups > Robo-advisors Robo-advisors auto-invest your money across a bunch of funds picked based on your risk profile. Because the robo-advisers are fairly new, they often have the most intuitive interfaces. These robo-advisors often don't allow you to pick individual holdings, so these services are best when you want to passively invest. Meaning you don't want to look at it very often, and let them do the investing for you. There are tons of robo-advisor start-ups: Betterment, Wealthfront, Personal Capital, Sigfig, FutureAdvisor,... Also bigger parties jumped on this trend with their offerings: Schwab Intelligent Portfolios, Ally Managed Portfolio, Vanguard Personal Advisor, etc. Summary: It's fun to pick individual stocks, but if you start out it can be overwhelming. Robinhood is probably the best start, they have reduced functionality, but gets you going with an attractive interface. But soon you'll realize it's extremely hard to beat the market. Meaning that hand-picking stocks statistically gives you a worse return than just buying into the general stock market (like S&P500). So you can decide to just buy one fund with a traditional broker that covers the general stock market. Or you can decide to try out one of the many robo-advisors. They haven't been around that long, so it's hard to tell how effective these are and whether they beat the market. If you're young, and you believe in start-ups (who often try to challenge the traditional players), try out one of the robo-advisors. If you want to play a bit and are addicted to your smartphone, try out Robinhood. If you are addicted to your phone, but don't want to check up on your investments all the time, go for Acorns. Of course you can combine all these. Lastly, there are tons of cryptocurrencies which might give you a large return. Tons of startups offer intuitive interfaces to trade cryptocurrencies like Coinbase, Gemini, Kraken. But beware, there is a lot of risk involved in trading cryptocurrencies, it's completely unregulated etc. But definitely check them out. Oh, and you can also invest by giving out loans through LendingClub, Prosper etc. Who can you trust? Above gives you an overview of your options intermingled with some reasoning. But regarding your question \"who can I trust\" in terms of advice, it's up to yourself. Most traditional broker services don't give you any advice at all, you're on your own. Robo-advisors don't give you advice either, but let their proprietary algorithm do the job. Are these reliable? Nobody can tell, they haven't been around long enough, and they need to go through a bear market (a crash) to see how they respond during rough times. Some robo-advisors offer you personal consultancy (I believe Sigfig and PersonalCapital) does this (limited to a few hours per year). But obviously they'll try to promote their robo-advisor services.\n",
      "\n",
      "========== Rank 20 ==========\n",
      "Is my financial status OK?  You have money for emergencies in the bank, you spend less than you earn. Yes, your status is okay. You will have a good standard of living if nothing changes from your status quo. How can I improve it? You are probably paying more in taxes than you would if you made a few changes. If you max out tax advantaged retirement accounts that would reduce the up-front taxes you are paying on your savings. Is now a right time for me to see a financial advisor?  The best time to see a financial advisor is any time that your situation changes. New job? Getting married? Having a child? Got a big promotion or raise? Suddenly thinking about buying a house? Is it worth the money? How would she/he help me? If you pick an advisor who has incentive to help you rather than just pad his/her own pockets with commissions, then the advice is usually worth the money. If there is someone whose time is already paid for, that may be better.  For example, if you get an accountant to help you with your taxes and ask him/her how to best reduce your taxes the next year, the advice is already paid-for in the fee you for the tax help. An advisor should help you minimize the high taxes you are almost certainly paying as a single earner, and minimize the stealth taxes you are paying in inflation (on that $100k sitting in the bank).\n",
      "\n",
      "========== Rank 21 ==========\n",
      "The way this works, as I understand it, is that financial advisers come in two kinds. Some are free to recommend you any financial products they think fit, but many are restricted in what they can recommend. Most advisers who work for finance companies are the second kind, and will only offer you products that their company sells. I believe they should tell you up front if they are the second kind. They should certainly tell you that if you ask. So in essence, your Scotiabank advisor is not necessarily making bad decisions for you - but they are restricted in what they will offer, and will not tell you if there is a better product for you that Scotiabank doesn't sell. In most cases, 'management fees' means something you pay to the actual managers of the fund you buy, not to the person who sells you the fund. You can compare the funds you are invested in yourself, both for performance and for the fees charged. Making frequent unnecessary changes of investment is another way that an advisor can milk you for money, but that is not necessarily restricted to bank-employed advisors. if you think that is happening to you, ask question, and change advisors if you are not happy.\n",
      "\n",
      "========== Rank 22 ==========\n",
      "You need to find a fiduciary advisor pronto. Yes, you are getting a large amount of money, but you'll probably have to deal with higher than average health expenses and lower earning potential for years to come. You need to make sure the $1.2 million lasts you, and for that you need professional advice, not something you read on the Internet. Finding a knowledgeable advisor who has your interests at heart at a reasonable rate is the key here.  These articles are a good start on what to look for: http://www.investopedia.com/articles/financialcareers/08/fiduciary-planner.asp https://www.forbes.com/sites/janetnovack/2013/09/20/6-pointed-questions-to-ask-before-hiring-a-financial-advisor/#2e2b91c489fe http://www.investopedia.com/articles/professionaleducation/11/suitability-fiduciary-standards.asp You should also consider what your earning potential is. You rule out college but at 26, you can have a long productive career and earn way more money than the $1.2 million you are going to get.\n",
      "\n",
      "========== Rank 23 ==========\n",
      "The nature of this question (finding a financial adviser) can make it a conundrum. Those who have little financial experience are often in the greatest need of a financial adviser and at the same time are the least qualified to select one. I'm not putting you or anyone in particular in this category. And of course it's a sliding scale: In general the more capable you are of running your own finances the more prepared you are to answer this question. With that said, I would recommend backing up half a step. Consider advisers other than strictly fee-only advisers. Perhaps you have already considered this decision. But perhaps others reading this have not. My (Ameriprise) adviser charges a monthly (~$50) fee, but also gets percentage-based portions of certain investments. Based on a $150/hr rate that amounts to four hours per year. Does he spend four hours per year on my account? Well so far he does (~2 yrs). But that is determined primarily by how much interaction I choose to have with him. (I suppose I could spend more time asking him questions and less time on this forum. :P) I have never fully understood the gravitation towards fee-based advisers on principle. I guess the theory is they are not making biased decisions about your investments because they don't have as much of a stake in how well your investments to do. I don't necessarily see that as an advantage. It seems they would have less of an incentive to ensure the growth of your investments. Although if you're nearing retirement then growth isn't your biggest concern. Perhaps a fee-based adviser makes more sense in that scenario. Whatever pay structure your adviser uses, it would seem to make sense to consider a successful adviser with a good client base. This implies that the adviser knows what he/she is doing. (But it could also just be a sign that they are good at marketing themselves.) If your adviser has a good base of wealthy clients then choosing a strictly-fee based adviser would mitigate the risk of your adviser having less incentive to consider your portfolio vs that of more wealthy clients. To more directly answer your question I suggest asking several of your adviser candidates for advice on choosing an adviser. I suspect you will get some good advice as well as good insight on the integrity and honesty of the adviser.\n",
      "\n",
      "========== Rank 24 ==========\n",
      "Many of my friends said I should invest my money on stocks or something else, instead of put them in the bank forever. I do not know anything about finance, so my questions are: First let me say that your friends may have the best intentions, but don't trust them. It has been my experience that friends tell you what they would do if they had your money, and not what they would actually do with their money. Now, I don't mean that they would be malicious, or that they are out to get you.  What I do mean, is why would you take advise from someone about what they would do with 100k when they don't have 100k. I am in your financial situation (more or less), and I have friends that make more then I do, and have no savings. Or that will tell you to get an IRA -so-and-so but don't have the means (discipline) to do so. Do not listen to your friends on matters of money. That's just good all around advise. Is my financial status OK? If not, how can I improve it? Any financial situation with no or really low debt is OK. I would say 5% of annual income in unsecured debt, or 2-3 years in annual income in secured debt is a good place to be. That is a really hard mark to hit (it seems). You have hit it. So your good, right now. You may want to \"plan for the future\". Immediate goals that I always tell people, are 6 months of income stuck in a liquid savings account, then start building a solid investment situation, and a decent retirement plan. This protects you from short term situations like loss of job, while doing something for the future.   Is now a right time for me to see a financial advisor? Is it worthy? How would she/he help me? Rather it's worth it or not to use a financial adviser is going to be totally opinion based. Personally I think they are worth it. Others do not. I see it like this. Unless you want to spend all your time looking up money stuff, the adviser is going to have a better grasp of \"money stuff\" then you, because they do spend all their time doing it. That being said there is one really important thing to consider. That is going to be how you pay the adviser. The following are my observations. You will need to make up your own mind.  Free Avoid like the plague. These advisers are usually provided by the bank and make their money off commission or kickbacks. That means they will advise you of the product that makes them the most money. Not you.  Flat Rate These are not a bad option, but they don't have any real incentive to make you money. Usually, they do a decent job of making you money, but again, it's usually better for them to advise you on products that make them money. Per Hour These are my favorite. They charge per hour. Usually they are a small shop, and will walk you through all the advise. They advise what's best for you, because they have to sit there and explain their choices. They can be hard to find, but are generally the best option in my opinion.   % of Money These are like the flat rate advisers to me. They get a percentage of the money you give them to \"manage\". Because they already have your money they are more likely to recommend products that are in their interest. That said, there not all bad. % or Profit These are the best (see notes later). They get a percentage of the money they make for you. They have the most interest in making you money. They only get part of what you get, so there going to make sure you get the biggest pie, so they can get a bigger slice. Notes In the real world, all advisers are likely to get kickbacks on products they recommend. Make sure to keep an eye for that. Also most advisers will use 2-3 of the methods listed above for billing. Something like z% of profit +$x per hour is what I like to see. You will have to look around and see what is available.  Just remember that you are paying someone to make you money (or to advise you on how to make money) so long as what they take leaves you with some profit your in a better situation then your are now. And that's the real goal.\n",
      "\n",
      "========== Rank 25 ==========\n",
      "That your asking is a good first step towards taking control of your future. But truly, you must seek the advice of a personal consultant that is much more in tune with your finances that anyone out here in the public will be.  You can get this type of advice locally, or if you want something online, I suggest oDesk or something similar to find a large pool of people and to efficiently find the right person for suited for your situation.\n",
      "\n",
      "========== Rank 26 ==========\n",
      "There are several types of financial advisors. Some are associated with brokerages and insurance companies and the like. Their services are often free. On the other hand, the advice they give you will generally be strongly biased toward their own company's products, and may be biased toward their own profits rather than your gains. (Remember, anything free is being paid for by someone, and if you don't know who it's generally going to be you.) There are some who are good, but I couldn't give you any advice on finding them. Others are not associated with any of the above, and serve entirely as experts who can suggest ways of distributing your money based on your own needs versus resources versus risk-tolerance, without any affiliation to any particular company.  Consulting these folks does cost you (or, if it's offered as a benefit, your employer) some money, but their fiduciary responsibility is clearly to you rather than to someone else. They aren't likely to suggest you try anything very sexy, but when it comes to your primary long-term savings \"exciting\" is usually not a good thing. The folks I spoke to were of the latter type. They looked at my savings and my plans, talked to me about my risk tolerance and my goals, picked a fairly \"standard\" strategy from their files, ran simulations against it to sanity-check it, and gave me a suggested mix of low-overhead index fund types that takes almost zero effort to maintain (rebalance occasionally between funds), has acceptable levels of risk, and (I admit I've been lucky) has been delivering more than acceptable returns. Nothing exciting, but even though I'm relatively risk-tolerant I'd say excitement is the last thing I need in my long-term savings. I should actually talk to them again some time soon to sanity-check a few things; they can also offer advice on other financial decisions (whether/when I might want to talk to charities about gift annuity plans, whether Roth versus traditional 401(k) makes any difference at all at this point in my career, and so on).\n",
      "\n",
      "========== Rank 27 ==========\n",
      "If you are making that much, don't waste your time here. Pay a few hundred bucks for a consultation with a fee-only certified financial planner. (Not one of the \"free\" services, which make their money via commissions on sales and are thus motivated to direct you to whatever gets them the largest commission.) In fact, in your bracket you might want to consider hiring someone to manage your portfolio for you on an ongoing basis. A good one will start by asking what your goals are, over what timeframe, and will help you determine how you feel about risk and volatility. From that information they will be able to suggest a strategic mix of kinds of investments which is balanced for those constraints.\n",
      "\n",
      "========== Rank 28 ==========\n",
      "I've just recently launched an open source wealth management platform - wealthbot.io ...  \"Webo\" is mostly targeted at RIA's to help the manage multiple portfolios, etc. Take a look at the demo at demo.wealthbot.io, you'll also find links to github, etc. there. It's a rather involved project, but if you are looking for use cases of rebalancing, portfolio accounting, custodian integration, tax loss harvesting, and many other features available at some of the popular robo-advisors, you might find it interesting.\n",
      "\n",
      "========== Rank 29 ==========\n",
      "Another option to a human advisor is FutureAdvisor, a web service that (if it supports your 401k plan) gives personalized algorithmic advice on what you should hold in your 401(k) and other retirement accounts.  If it doesn't support your 401(k) plan just yet you can sign up to be emailed when your plan is added.  [Disclosure: I work here, but I believe in the product and it's designed to solve this exact problem so I'm mentioning it here]  Note from JoeTaxpayer - bolu's disclosure is much appreciated. The fee is $39/yr, with a free trial. Consider that a commissions based advisor won't even take on a $10K level account, and at $100K, you'd be hard pressed to gain by more than his 1% fee. So while I've not dug deeper into this site, a rules-based methodology is likely to be worth the cost if over time it gains you even a fraction of a percent compared to what you'd have done blindly.\n",
      "\n",
      "========== Rank 30 ==========\n",
      "It is only wise to invest in what you understand (ala Warren Buffet style). Depending on how much money you have, you might see fit to consult a good independent financial advisor instead of seeking advice from this website. A famous quote goes: “Those who say, do not know. Those who know, do not say”\n",
      "\n",
      "========== Rank 31 ==========\n",
      "Obviously mate. Mortgage advisors don't have just one client, similarly why should you have only one advisor? it´s an open market. Don't worry about wasting their time, you are not wasting their time if you are considering a mortgage. then, in case you found a better deal with another mortgage advisor then that´s life - someone was better then them.\n",
      "\n",
      "========== Rank 32 ==========\n",
      "I think the other answers raise good points.  But to your question, \"How do I find an honest financial adviser\" ask your friends and family.  See who they talk to and confide in.  Go meet that person, understand what they do and how they view things and if you gel, great.  Honesty and strong ethics exist in individuals regardless of laws. What is it you're trying to accomplish?  You just have some money you want to put aside?  You want to save for something?  You want to start a budget or savings plan?  Your first step may be talking to a tax person, not an investment adviser.  Sometimes the most significant returns are generated when you simply retain more of your earnings and tax people know how to accomplish that.  You're just graduating university, you're just going to get your first job.  You don't need to hunt for the right heavy hitter 30% gains generating financial adviser.  You need to establish your financial foundation.  Crawl, walk, then run. There are some basics (that transcend international borders).  If you don't know much about investing, most (if not all) retirement and individual brokerage type accounts will give you access to some kind of market index fund.  You don't need to multinationally diversify in to high fee funds because \"emerging markets are screaming right now.\"  Typically, over a few years the fees you pay in the more exotic asset classes will eat up the gains you've made compared to a very low fee market index fund. You can open free accounts at a number of financial institutions.  These free accounts at these banks all have a list of zero commission zero load funds, all have something resembling an index fund.  You can open your account for free, deposit your money for free, and buy shares in an index fund for free.\n",
      "\n",
      "========== Rank 33 ==========\n",
      "The other answers are good, but not UK-specific. You need to look for an Independent Financial Advisor (IFA). These are regulated by the FCA and you pay them a time-based fee for their services, they do not take commission on the products they recommend to you.  The Government Money Advice Service page (hat tip to @AndyT in the comments on the question for the link) tells you how to go about finding one of these and what sort of questions to ask. Contrary to the note in the answer by @Harper, in the UK many IFAs do have perfectly nice offices, this is not a sign that should put you off.  Personal recommendations for IFAs are usually the best way to go but failing that there are directories of them and many will have an initial conversation with you for free to ensure you are aligned with each other.\n",
      "\n",
      "========== Rank 34 ==========\n",
      "Be very careful to hold on tight to your money! I agree with paying for an investment advisor, but I would say use at least two to get different viewpoints, and get credentials and references! Don't let relatives convince you to invest in their business, or help them out, or any other such nonsense. Real estate still is one of the best investments out there in my opinion. You could buy a fixer upper and rent it out?\n",
      "\n",
      "========== Rank 35 ==========\n",
      "I would be more than happy to find a good use for your money. ;-) Well, you have a bunch of money far in excess of your regular expenses. The standard things are usually: If you are very confused, it's probably worth spending some of your windfall to hire professional help. It beats you groping in the dark and possibly doing something stupid. But as you've seen, not all \"professionals\" are equal, and finding a good one is another can of worms. If you can find a good one, it's probably worth it. Even better would be for you to take the time and thoroughly educate yourself about investment (by reading books), and then make a knowledgeable decision. Being a casual investor (ie. not full time trader) you will likely arrive, like many do, at a portfolio that is mostly a mix of S&P ETFs and high grade (eg. govt and AAA corporate) bonds, with a small part (5% or so) in individual stock and other more complicated securities. A good financial advisor will likely recommend something similar (I've had good luck with the one at my credit union), and can guide you through the details and technicalities of it all. A word of caution: Since you remark about your car and house, be careful about upgrading your lifestyle. Business is good now and you can afford nicer things, but maybe next year it's not so good. What if you are by then too used to the high life to give it up, and end up under mountains of debt? Humans are naturally optimistic, but be wary of this tendency when making assumptions about what you will be able to afford in the future. That said, if you really have no idea, hey, take a nice vacation, get an art tutor for the kids, spend it (well, ideally not all of it) on something you won't regret. Investments are fickle, any asset can crash tomorrow and ruin your day. But often experiences are easier to judge, and less likely to lose value over time.\n",
      "\n",
      "========== Rank 36 ==========\n",
      "Given what you state you should shop around for an advisor. Think of the time required to pursue your strategies that you list? They already have studied much of what you seek to learn about. Any good investor should understand the basics. This is Canadian based but many of the concepts are universal. Hope you find it helpful. http://www.getsmarteraboutmoney.ca/Pages/default.aspx\n",
      "\n",
      "========== Rank 37 ==========\n",
      "Find a good financial advisor that is willing to teach you and not just interested in making a commission on your net worth. Talk to them and talk some more. Go slow and don't make impulsive buying decisions. If you don't understand it then don't buy it. Think long term - how do I turn this 250K into 2.5M? Congrats on the savings!\n",
      "\n",
      "========== Rank 38 ==========\n",
      "Two things to consider: When it comes to advice, don't be \"Penny wise and Pound foolish\". It is an ongoing debate whether active management vs passive indexes are a better choice, and I am sure others can give good arguments for both sides. I look at it as you are paying for advice. If your adviser will teach you about investing and serve your interests, having his advise will probably prevent you from making some dumb mistakes. A few mistakes (such as jumping in/out of markets based on fear/speculation) can eliminate any savings in fees. However, if you feel confident that you have the resources and can make good decisions, why pay for advise you don't need? EDIT In this case, my opinion is that you don't need a complex plan at this time. The money you would spend on financial advise would not be the best use of the funds.  That said, to your main question, I would delay making any long-term decisions with these funds until you know you are done with your education and on an established career path. This period of your life can be very volatile, and you may find yourself halfway through college and wanting to change majors or start a different path. Give yourself the option to do that by deferring long-term investment decisions until you have more stability. For that reason, I would avoid focusing on retirement savings. As others point out, you are limited in how much you can contribute per year. If you want to start, ROTH is your best bet, but if you put it in don't pull it out. That is a bad habit to get into. Personal finance is as much about developing habits as it is doing math... A low-turnover index fund may be appropriate, but you don't want to end up where you want to buy a house or start a business and your investment has just lost 10%...  I would keep at least half in a liquid, safe account until after graduation. Any debt you incur because you tied up this money will eliminate any investment gains (if any). Good Luck! EDITED to clarify retirement savings\n",
      "\n",
      "========== Rank 39 ==========\n",
      "You may want to look into robo-investors like Wealthfront and Betterment. There are many others, just search for \"robo investor\".\n",
      "\n",
      "========== Rank 40 ==========\n",
      "I think you might be asking the wrong question. You have plenty of capital on the side that can be invested. Instead of asking whether you should get an adviser, you might want to examine what your end goal is. Are you looking to build long term growth of you capital? Are you asking about and adviser because you don't want to handle your money, or is it simply because \"that's what people do?\" I would imagine that the answer to 1. is yes and that the answer to 2. is that you want to handle your money, and you always considered this something best left to the advisers. I shall proceed on these hypothetical assumptions. In my humble opinion, I would do the following: Skip the adviser and the fees that go with it. For a young professional like yourself, especially with an engineering background, you can certainly handle the education required to learn the mechanics of investing. Invest some time to learn the fundamentals of the market such as asset classes, basic terminology ect. You will benefit in several ways. For one, you will learn an invaluable skill and save tens of thousands in fees during your lifetime. Moreover, you will have complete control of your risk profile, allocation, and every penny that belongs to you. I really am not bashing advisers, but no one will care as much about your money as you will. And don't be fooled. The market is efficient. An adviser does not have any more edge in a market than anyone else. And from first hand experience, they rarely outperform benchmarks net of fees. I assume you have made it to this step because you want to manage your own money and financial future. Sounds scary, how should one proceed? Let's assume that $100,000 is \"in play\". And since you are learning the ropes, let's leave $50,000 in cash for now. This leaves $50,000 to start a portfolio. I'd start by building a core position of all the major asset classes in ETF form. This means buying things like SPY or TLT. If you're comfortable, you can start selling monthly calls against these positions to reduce basis and earn some income. The point is, your only limitation at this point is taking time to learn the ropes. The technology is there, the free education is there, and liquidity and product mix is there. Next thing you know you're learning how gamma scalping works, or maybe you're more of a Buffett type.  This is how I view finance in general, and truly hope you break through the initial barrier to controling your own finances.\n",
      "\n",
      "========== Rank 41 ==========\n",
      "Any investment advice that is not targeted to your situation should be avoided.\n",
      "\n",
      "========== Rank 42 ==========\n",
      "An accountant should be able to advise on the tax consequences of different classes of investments/assets/debts (e.g. RRSP, TFSA, mortgage). But I would not ask an accountant which specific securities to hold in these vehicles, or what asset allocation (in terms of geography, capitalization, or class (equity vs fixed income vs derivatives vs structured notes etc). An investment advisor would be better suited to matching your investments to your risk tolerance.\n",
      "\n",
      "========== Rank 43 ==========\n",
      "To evaluate any advice, this lists some of the things to consider: There are good advisors out there. There are also Bernie Madoffs who give the entire industry a black eye. In the end, the best path is to educate yourself, read as much as you can before you invest. Better to lose a bit by staying out of the market than to lose it all by getting scammed.\n",
      "\n",
      "========== Rank 44 ==========\n",
      "If you use a financial planner not only should they be a fiduciary but you should just pay them an hourly rate once a year instead of a percentage unless the percentage is cheaper at this time. To find a good one, go to the National Association of Personal Financial Advisers website, NAPFA.org. Another good resource is Garrett Planning Network: GarrettPlanningNetwork.com.\n",
      "\n",
      "========== Rank 45 ==========\n",
      "You might want to talk with your financial planner about any or all of the following: as well as Some of these offer the guarantee of a minimal amount of interest, as well as the ability to take a loan out against the cash value, without lapsing the policy.  They may also offer certain tax advantages depending upon your jurisdiction and situation.\n",
      "\n",
      "========== Rank 46 ==========\n",
      "Sounds like you are starting an investment club. What you need is an investment club partnership agreement. Have a look at this free document. EDIT Based on OP's comments, it appears that the OP will be acting as an adviser/manager of a private investment fund. If the fund is not open to the public, it may still be treated as a type of investment club, but different rules -- including possibly having to register with the SEC -- may apply (quoted from the first link): If the adviser is compensated for providing the advice regarding the club's investments, the adviser may need to register according to the Investment Advisers Act of 1940. Also, if one person selects investments for the club, that person may have to register as an investment adviser. In general, a person who has $25 million or more in assets under management is required to register with the SEC under the Investment Advisers Act of 1940. A person managing less than $25 million may be required to register under the securities laws of the state or states in which the adviser transacts business.\n",
      "\n",
      "========== Rank 47 ==========\n",
      "You need a license/registration to be a \"conventional\" financial planner.  But as long as your work is limited to budgets, and cash flow analysis, it may be more like accounting. In your shoes, I would consult the local CPA association about what you need (if anything) to do what you're doing.\n",
      "\n",
      "========== Rank 48 ==========\n",
      "I think it's great that you want to contribute. Course Instructor You may want to take a look at becoming an instructor for a course like Dave Ramsey's Financial Peace University. These are commonly offered through churches and other community venues for a fee. This may be a good fit if you want to focus on basic financial literacy, setting up and sticking to a budget, and getting their financial \"house\" in order. It may not be a good fit if you don't want to teach an existing curriculum, or if you find the tenets of the course too unpalatable. A significant number of the people in Dave's audience are close to or in the middle of a financial meltdown, and so his advice includes controversial ideas such as avoiding credit altogether, often because that's how they got into their current mess. Counselor If you want to run your own show, I know of several people who have built their own practice that is run along the lines of a counselor charging hourly rates, and they work with couples who are having money problems. Building a reputation and a network of referring counselors and professionals is key here, and definitely seems like it would require a full-time commitment. I would avoid \"credit counseling\" and the like. Most of these organizations are focused on restructuring credit card debt, not spending signficant time on behavioral change. You don't need a series 7, 63, 65 etc. or even a CFA. I've previously acquired a number of these and can confirm that they are investment credentials that are intended to help you get a job and/or get more business as a broker or conventional financial planner, i.e. salesperson of securities. The licensure process is necessary to protect consumers from advice that serves the investment sales force but is bad for the consumer, and because you must be licensed to provide investment advice. There is a class of fee-only financial planners, but they primarily deal with complex issues that allow them to make money, and often give away basic personal finance advice for free in the form of articles, podcasts, etc.  Charity For part-time or free work, in my area there are also several charity organizations that help people do their taxes and provide basic budgeting and personal finance instruction, but this is very localized and may vary quite a bit depending on where you live. However, if there are none near you, you can always start one! Journalism If you have an interest in writing, there are also people who work as journalists and write columns, books, or newsletters, and it is much easier now to publish and build a network online, either on your own, through a blog or contributing to a website. Speaker at Community events There are also many opportunities to speak to a specific community such as a church or social organization. For example, where I live there are local organizations for Spanish speaking, Polish speaking, elderly, young professional, young mother and retiree groups for example, all of who might be interested in your advice on issues that specifically address their needs. Good luck!\n",
      "\n",
      "========== Rank 49 ==========\n",
      "Whether you use a professional financial planner or not, the basic steps are the same. It seems like you have done some detailed work on step 1, perhaps less detail (but not necessarily insufficient detail) on step 2, and concluded that you don't need to change anything in step 3. That's fine - if you concluded that you don't need to change anything, then you don't need to change anything! What you need to do from now on is There is nothing complicated or difficult about any of this. To paraphrase Charles Dickens, \"Income greater than expenditure - result, happiness. Income less than expenditure - result misery.\"  Talking to a financial planner might encourage you to spend less (though of course you just acquired a new expense, \"buying financial planning advice\"), just like joining to Weight Watchers might encourage you to eat less or exercise more. But in the end, it's you who have to take the action - other people can't do it for you.\n",
      "\n",
      "========== Rank 50 ==========\n",
      "Also, my wealth manager doesn't like to discuss my money with me. To some extent, I understand this because finances are not my forte This is akin to porn surfing all day at your job instead of writing code, fire him ASAP. For now I would stick it in a bank account until you are comfortable and understand the investments you are purchasing.   Here are some options to consider: The last one is tricky.  You might have to interview several in order to find that one gem.  With you being so young it is unlikely any of your friends have a need for such a service.  I would concentrate on asking older work colleagues or friends of your parents for recommendations.  Ask if they are educated by their adviser.   In the end it would really pay for you to educate yourself about finances.  No one can quite do as good as a job as you can in this area.  You recognize that there was a problem with your current guy, that shows wisdom.  If you have an interest in this area, I would recommend attending a Financial Peace University class.  All my kids (about your age and older) are required to take it.  It will help you navigate debt, mortgages, insurance, and investing and will cost you about $100.  If you don't learn enough the first time, and you won't, you can repeat the course as many times as you wish for no additional cost.\n",
      "\n",
      "Wall time: 105 ms\n"
     ]
    }
   ],
   "source": [
    "%%time\n",
    "question_embedding = model.encode(test_query)\n",
    "answer_similiarity = {}\n",
    "for i,embed in enumerate(sentence_embeddings):\n",
    "    answer_similiarity[i]= np.dot(question_embedding, embed)\n",
    "answer_similiarity = {k: v for k, v in sorted(answer_similiarity.items(), key=lambda item: item[1], reverse=True)}\n",
    "top_20_index = list(answer_similiarity)[:50]\n",
    "for i,index in enumerate(top_20_index):\n",
    "    print(f\"========== Rank {i+1} ==========\")\n",
    "    print(answers_list[index])\n",
    "    print()"
   ]
  },
  {
   "cell_type": "markdown",
   "id": "60bfa536-88b3-4cf4-b485-4e05b0ebcabb",
   "metadata": {},
   "source": [
    "# Evaluate test results on dataset"
   ]
  },
  {
   "cell_type": "code",
   "execution_count": 15,
   "id": "20144d67-627f-47d2-9962-de1daca52506",
   "metadata": {},
   "outputs": [
    {
     "name": "stdout",
     "output_type": "stream",
     "text": [
      "<class 'pandas.core.frame.DataFrame'>\n",
      "RangeIndex: 17072 entries, 0 to 17071\n",
      "Data columns (total 5 columns):\n",
      " #   Column      Non-Null Count  Dtype \n",
      "---  ------      --------------  ----- \n",
      " 0   Unnamed: 0  17072 non-null  int64 \n",
      " 1   qid         17072 non-null  int64 \n",
      " 2   docid       17072 non-null  int64 \n",
      " 3   question    17072 non-null  object\n",
      " 4   answer      17072 non-null  object\n",
      "dtypes: int64(3), object(2)\n",
      "memory usage: 667.0+ KB\n"
     ]
    }
   ],
   "source": [
    "qna_df.info()"
   ]
  },
  {
   "cell_type": "code",
   "execution_count": 16,
   "id": "959adac7-4717-4888-8834-4940ba5b322c",
   "metadata": {},
   "outputs": [
    {
     "data": {
      "text/html": [
       "<div>\n",
       "<style scoped>\n",
       "    .dataframe tbody tr th:only-of-type {\n",
       "        vertical-align: middle;\n",
       "    }\n",
       "\n",
       "    .dataframe tbody tr th {\n",
       "        vertical-align: top;\n",
       "    }\n",
       "\n",
       "    .dataframe thead th {\n",
       "        text-align: right;\n",
       "    }\n",
       "</style>\n",
       "<table border=\"1\" class=\"dataframe\">\n",
       "  <thead>\n",
       "    <tr style=\"text-align: right;\">\n",
       "      <th></th>\n",
       "      <th>qid</th>\n",
       "      <th>docid</th>\n",
       "      <th>question</th>\n",
       "      <th>answer</th>\n",
       "    </tr>\n",
       "  </thead>\n",
       "  <tbody>\n",
       "    <tr>\n",
       "      <th>0</th>\n",
       "      <td>0</td>\n",
       "      <td>18850</td>\n",
       "      <td>What is considered a business expense on a bus...</td>\n",
       "      <td>The IRS Guidance pertaining to the subject.  I...</td>\n",
       "    </tr>\n",
       "    <tr>\n",
       "      <th>1</th>\n",
       "      <td>1</td>\n",
       "      <td>14255</td>\n",
       "      <td>Claiming business expenses for a business with...</td>\n",
       "      <td>Yes you can claim your business deductions if ...</td>\n",
       "    </tr>\n",
       "    <tr>\n",
       "      <th>2</th>\n",
       "      <td>2</td>\n",
       "      <td>308938</td>\n",
       "      <td>Transferring money from One business checking ...</td>\n",
       "      <td>You should have separate files for each of the...</td>\n",
       "    </tr>\n",
       "    <tr>\n",
       "      <th>3</th>\n",
       "      <td>3</td>\n",
       "      <td>296717</td>\n",
       "      <td>Having a separate bank account for business/in...</td>\n",
       "      <td>Having a separate checking account for the bus...</td>\n",
       "    </tr>\n",
       "    <tr>\n",
       "      <th>4</th>\n",
       "      <td>3</td>\n",
       "      <td>100764</td>\n",
       "      <td>Having a separate bank account for business/in...</td>\n",
       "      <td>You don't specify which country you are in, so...</td>\n",
       "    </tr>\n",
       "  </tbody>\n",
       "</table>\n",
       "</div>"
      ],
      "text/plain": [
       "   qid   docid                                           question  \\\n",
       "0    0   18850  What is considered a business expense on a bus...   \n",
       "1    1   14255  Claiming business expenses for a business with...   \n",
       "2    2  308938  Transferring money from One business checking ...   \n",
       "3    3  296717  Having a separate bank account for business/in...   \n",
       "4    3  100764  Having a separate bank account for business/in...   \n",
       "\n",
       "                                              answer  \n",
       "0  The IRS Guidance pertaining to the subject.  I...  \n",
       "1  Yes you can claim your business deductions if ...  \n",
       "2  You should have separate files for each of the...  \n",
       "3  Having a separate checking account for the bus...  \n",
       "4  You don't specify which country you are in, so...  "
      ]
     },
     "execution_count": 16,
     "metadata": {},
     "output_type": "execute_result"
    }
   ],
   "source": [
    "qna_df.head().drop(columns=[\"Unnamed: 0\"])"
   ]
  },
  {
   "cell_type": "code",
   "execution_count": 17,
   "id": "5ba0bcb2-b09b-42df-99a4-080e92b0e1c9",
   "metadata": {},
   "outputs": [],
   "source": [
    "question_answer_index_map = {}\n",
    "for _,row in qna_df.iterrows():\n",
    "    if row[\"qid\"] not in question_answer_index_map:\n",
    "        question_answer_index_map[row[\"qid\"]]= []\n",
    "        question_answer_index_map[row[\"qid\"]].append(row[\"docid\"])\n",
    "    else:\n",
    "        question_answer_index_map[row[\"qid\"]].append(row[\"docid\"])"
   ]
  },
  {
   "cell_type": "code",
   "execution_count": 18,
   "id": "4f18d484-f5aa-45a8-a23a-a7dfe771001f",
   "metadata": {},
   "outputs": [],
   "source": [
    "labels = []\n",
    "for v in question_answer_index_map.values():\n",
    "    labels.append(v)"
   ]
  },
  {
   "cell_type": "code",
   "execution_count": 20,
   "id": "bb1fe871-9dee-4732-8ac9-1dd35a74f3e4",
   "metadata": {},
   "outputs": [],
   "source": [
    "question_map = {}\n",
    "label_map = {}\n",
    "for _,row in qna_df.iterrows():\n",
    "    if row[\"qid\"] not in question_map:\n",
    "        question_map[row[\"qid\"]] = row[\"question\"]\n",
    "    if row[\"answer\"] not in label_map:\n",
    "        label_map[row[\"answer\"]] = row[\"docid\"]"
   ]
  },
  {
   "cell_type": "code",
   "execution_count": 21,
   "id": "732e618a-103d-4cc0-8150-0cd4ecffb102",
   "metadata": {},
   "outputs": [
    {
     "data": {
      "text/plain": [
       "6646"
      ]
     },
     "execution_count": 21,
     "metadata": {},
     "output_type": "execute_result"
    }
   ],
   "source": [
    "len(question_map)"
   ]
  },
  {
   "cell_type": "code",
   "execution_count": 22,
   "id": "f2a0d7b9-408d-49e1-8205-6814afcd8558",
   "metadata": {},
   "outputs": [
    {
     "name": "stderr",
     "output_type": "stream",
     "text": [
      "C:\\Users\\yiehy\\anaconda3\\lib\\site-packages\\transformers\\tokenization_utils_base.py:2227: UserWarning: `max_length` is ignored when `padding`=`True`.\n",
      "  warnings.warn(\"`max_length` is ignored when `padding`=`True`.\")\n"
     ]
    },
    {
     "name": "stdout",
     "output_type": "stream",
     "text": [
      "100\n",
      "200\n",
      "300\n",
      "400\n",
      "500\n",
      "600\n",
      "700\n",
      "800\n",
      "900\n",
      "1000\n",
      "1100\n",
      "1200\n",
      "1300\n",
      "1400\n",
      "1500\n",
      "1600\n",
      "1700\n",
      "1800\n",
      "1900\n",
      "2000\n",
      "2100\n",
      "2200\n",
      "2300\n",
      "2400\n",
      "2500\n",
      "2600\n",
      "2700\n",
      "2800\n",
      "2900\n",
      "3000\n",
      "3100\n",
      "3200\n",
      "3300\n",
      "3400\n",
      "3500\n",
      "3600\n",
      "3700\n",
      "3800\n",
      "3900\n",
      "4000\n",
      "4100\n",
      "4200\n",
      "4300\n",
      "4400\n",
      "4500\n",
      "4600\n",
      "4700\n",
      "4800\n",
      "4900\n",
      "5000\n",
      "5100\n",
      "5200\n",
      "5300\n",
      "5400\n",
      "5500\n",
      "5600\n",
      "5700\n",
      "5800\n",
      "5900\n",
      "6000\n",
      "6100\n",
      "6200\n",
      "6300\n",
      "6400\n",
      "6500\n",
      "6600\n"
     ]
    }
   ],
   "source": [
    "predictions = []\n",
    "count=1\n",
    "for k,v in question_map.items():\n",
    "    if count%100==0:\n",
    "        print(count)\n",
    "    question_embedding = model.encode(v)\n",
    "    answer_similiarity = {}\n",
    "    for i,embed in enumerate(sentence_embeddings):\n",
    "        answer_similiarity[i]= np.dot(question_embedding, embed)\n",
    "    answer_similiarity = {k: v for k, v in sorted(answer_similiarity.items(), key=lambda item: item[1], reverse=True)}\n",
    "    response = list(answer_similiarity)[0]\n",
    "    label_index = label_map[answers_list[response]]\n",
    "    predictions.append([label_index])\n",
    "    count+=1"
   ]
  },
  {
   "cell_type": "code",
   "execution_count": 27,
   "id": "baa4289d-e528-46a6-88bc-95abd8bee6d5",
   "metadata": {},
   "outputs": [
    {
     "data": {
      "text/plain": [
       "[[216077], [140977], [296717], [537593], [196463]]"
      ]
     },
     "execution_count": 27,
     "metadata": {},
     "output_type": "execute_result"
    }
   ],
   "source": [
    "predictions[:5]"
   ]
  },
  {
   "cell_type": "code",
   "execution_count": 28,
   "id": "01f096ac-0f64-452e-abd2-3873169d7e1f",
   "metadata": {},
   "outputs": [],
   "source": [
    "#save prediction and results\n",
    "results = {\"labels\":labels,\"predictions\":predictions}\n",
    "with open(\"../../7.Evaluate/finetuned_distilbert_results.pkl\", 'wb') as f:\n",
    "    pickle.dump(results, f, pickle.HIGHEST_PROTOCOL)"
   ]
  },
  {
   "cell_type": "code",
   "execution_count": null,
   "id": "a9d39957-e03c-4807-ab63-a09024d5558e",
   "metadata": {},
   "outputs": [],
   "source": []
  }
 ],
 "metadata": {
  "kernelspec": {
   "display_name": "Python 3",
   "language": "python",
   "name": "python3"
  },
  "language_info": {
   "codemirror_mode": {
    "name": "ipython",
    "version": 3
   },
   "file_extension": ".py",
   "mimetype": "text/x-python",
   "name": "python",
   "nbconvert_exporter": "python",
   "pygments_lexer": "ipython3",
   "version": "3.8.8"
  }
 },
 "nbformat": 4,
 "nbformat_minor": 5
}
