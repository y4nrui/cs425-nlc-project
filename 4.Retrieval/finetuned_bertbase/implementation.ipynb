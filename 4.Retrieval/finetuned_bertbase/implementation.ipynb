{
  "nbformat": 4,
  "nbformat_minor": 5,
  "metadata": {
    "kernelspec": {
      "display_name": "Python 3",
      "language": "python",
      "name": "python3"
    },
    "language_info": {
      "codemirror_mode": {
        "name": "ipython",
        "version": 3
      },
      "file_extension": ".py",
      "mimetype": "text/x-python",
      "name": "python",
      "nbconvert_exporter": "python",
      "pygments_lexer": "ipython3",
      "version": "3.8.8"
    },
    "colab": {
      "name": "implementation.ipynb",
      "provenance": []
    },
    "accelerator": "GPU"
  },
  "cells": [
    {
      "cell_type": "code",
      "metadata": {
        "colab": {
          "base_uri": "https://localhost:8080/"
        },
        "id": "gigGRi9Kle39",
        "outputId": "896c81ce-9319-4b02-847c-e0e164429b4c"
      },
      "source": [
        "!pip install sentence-transformers"
      ],
      "id": "gigGRi9Kle39",
      "execution_count": 1,
      "outputs": [
        {
          "output_type": "stream",
          "name": "stdout",
          "text": [
            "Collecting sentence-transformers\n",
            "  Downloading sentence-transformers-2.1.0.tar.gz (78 kB)\n",
            "\u001b[K     |████████████████████████████████| 78 kB 3.5 MB/s \n",
            "\u001b[?25hCollecting transformers<5.0.0,>=4.6.0\n",
            "  Downloading transformers-4.12.2-py3-none-any.whl (3.1 MB)\n",
            "\u001b[K     |████████████████████████████████| 3.1 MB 16.3 MB/s \n",
            "\u001b[?25hCollecting tokenizers>=0.10.3\n",
            "  Downloading tokenizers-0.10.3-cp37-cp37m-manylinux_2_5_x86_64.manylinux1_x86_64.manylinux_2_12_x86_64.manylinux2010_x86_64.whl (3.3 MB)\n",
            "\u001b[K     |████████████████████████████████| 3.3 MB 27.2 MB/s \n",
            "\u001b[?25hRequirement already satisfied: tqdm in /usr/local/lib/python3.7/dist-packages (from sentence-transformers) (4.62.3)\n",
            "Requirement already satisfied: torch>=1.6.0 in /usr/local/lib/python3.7/dist-packages (from sentence-transformers) (1.9.0+cu111)\n",
            "Requirement already satisfied: torchvision in /usr/local/lib/python3.7/dist-packages (from sentence-transformers) (0.10.0+cu111)\n",
            "Requirement already satisfied: numpy in /usr/local/lib/python3.7/dist-packages (from sentence-transformers) (1.19.5)\n",
            "Requirement already satisfied: scikit-learn in /usr/local/lib/python3.7/dist-packages (from sentence-transformers) (0.22.2.post1)\n",
            "Requirement already satisfied: scipy in /usr/local/lib/python3.7/dist-packages (from sentence-transformers) (1.4.1)\n",
            "Requirement already satisfied: nltk in /usr/local/lib/python3.7/dist-packages (from sentence-transformers) (3.2.5)\n",
            "Collecting sentencepiece\n",
            "  Downloading sentencepiece-0.1.96-cp37-cp37m-manylinux_2_17_x86_64.manylinux2014_x86_64.whl (1.2 MB)\n",
            "\u001b[K     |████████████████████████████████| 1.2 MB 36.0 MB/s \n",
            "\u001b[?25hCollecting huggingface-hub\n",
            "  Downloading huggingface_hub-0.0.19-py3-none-any.whl (56 kB)\n",
            "\u001b[K     |████████████████████████████████| 56 kB 4.2 MB/s \n",
            "\u001b[?25hRequirement already satisfied: typing-extensions in /usr/local/lib/python3.7/dist-packages (from torch>=1.6.0->sentence-transformers) (3.7.4.3)\n",
            "Requirement already satisfied: regex!=2019.12.17 in /usr/local/lib/python3.7/dist-packages (from transformers<5.0.0,>=4.6.0->sentence-transformers) (2019.12.20)\n",
            "Collecting sacremoses\n",
            "  Downloading sacremoses-0.0.46-py3-none-any.whl (895 kB)\n",
            "\u001b[K     |████████████████████████████████| 895 kB 40.1 MB/s \n",
            "\u001b[?25hRequirement already satisfied: packaging>=20.0 in /usr/local/lib/python3.7/dist-packages (from transformers<5.0.0,>=4.6.0->sentence-transformers) (21.0)\n",
            "Requirement already satisfied: requests in /usr/local/lib/python3.7/dist-packages (from transformers<5.0.0,>=4.6.0->sentence-transformers) (2.23.0)\n",
            "Requirement already satisfied: importlib-metadata in /usr/local/lib/python3.7/dist-packages (from transformers<5.0.0,>=4.6.0->sentence-transformers) (4.8.1)\n",
            "Collecting pyyaml>=5.1\n",
            "  Downloading PyYAML-6.0-cp37-cp37m-manylinux_2_5_x86_64.manylinux1_x86_64.manylinux_2_12_x86_64.manylinux2010_x86_64.whl (596 kB)\n",
            "\u001b[K     |████████████████████████████████| 596 kB 47.6 MB/s \n",
            "\u001b[?25hRequirement already satisfied: filelock in /usr/local/lib/python3.7/dist-packages (from transformers<5.0.0,>=4.6.0->sentence-transformers) (3.3.0)\n",
            "Requirement already satisfied: pyparsing>=2.0.2 in /usr/local/lib/python3.7/dist-packages (from packaging>=20.0->transformers<5.0.0,>=4.6.0->sentence-transformers) (2.4.7)\n",
            "Requirement already satisfied: zipp>=0.5 in /usr/local/lib/python3.7/dist-packages (from importlib-metadata->transformers<5.0.0,>=4.6.0->sentence-transformers) (3.6.0)\n",
            "Requirement already satisfied: six in /usr/local/lib/python3.7/dist-packages (from nltk->sentence-transformers) (1.15.0)\n",
            "Requirement already satisfied: urllib3!=1.25.0,!=1.25.1,<1.26,>=1.21.1 in /usr/local/lib/python3.7/dist-packages (from requests->transformers<5.0.0,>=4.6.0->sentence-transformers) (1.24.3)\n",
            "Requirement already satisfied: idna<3,>=2.5 in /usr/local/lib/python3.7/dist-packages (from requests->transformers<5.0.0,>=4.6.0->sentence-transformers) (2.10)\n",
            "Requirement already satisfied: chardet<4,>=3.0.2 in /usr/local/lib/python3.7/dist-packages (from requests->transformers<5.0.0,>=4.6.0->sentence-transformers) (3.0.4)\n",
            "Requirement already satisfied: certifi>=2017.4.17 in /usr/local/lib/python3.7/dist-packages (from requests->transformers<5.0.0,>=4.6.0->sentence-transformers) (2021.5.30)\n",
            "Requirement already satisfied: joblib in /usr/local/lib/python3.7/dist-packages (from sacremoses->transformers<5.0.0,>=4.6.0->sentence-transformers) (1.0.1)\n",
            "Requirement already satisfied: click in /usr/local/lib/python3.7/dist-packages (from sacremoses->transformers<5.0.0,>=4.6.0->sentence-transformers) (7.1.2)\n",
            "Requirement already satisfied: pillow>=5.3.0 in /usr/local/lib/python3.7/dist-packages (from torchvision->sentence-transformers) (7.1.2)\n",
            "Building wheels for collected packages: sentence-transformers\n",
            "  Building wheel for sentence-transformers (setup.py) ... \u001b[?25l\u001b[?25hdone\n",
            "  Created wheel for sentence-transformers: filename=sentence_transformers-2.1.0-py3-none-any.whl size=121000 sha256=747dadca4f2278af60dac5beafc0fc768933fd1c9e3f797c2464533f1e659704\n",
            "  Stored in directory: /root/.cache/pip/wheels/90/f0/bb/ed1add84da70092ea526466eadc2bfb197c4bcb8d4fa5f7bad\n",
            "Successfully built sentence-transformers\n",
            "Installing collected packages: pyyaml, tokenizers, sacremoses, huggingface-hub, transformers, sentencepiece, sentence-transformers\n",
            "  Attempting uninstall: pyyaml\n",
            "    Found existing installation: PyYAML 3.13\n",
            "    Uninstalling PyYAML-3.13:\n",
            "      Successfully uninstalled PyYAML-3.13\n",
            "Successfully installed huggingface-hub-0.0.19 pyyaml-6.0 sacremoses-0.0.46 sentence-transformers-2.1.0 sentencepiece-0.1.96 tokenizers-0.10.3 transformers-4.12.2\n"
          ]
        }
      ]
    },
    {
      "cell_type": "code",
      "metadata": {
        "colab": {
          "base_uri": "https://localhost:8080/"
        },
        "id": "2233f771-d792-4d3d-94ba-dcdc1267eb35",
        "outputId": "dfb92b3f-8c61-45be-b1f8-724201b40713"
      },
      "source": [
        "import pandas as pd\n",
        "import numpy as np\n",
        "from sentence_transformers import SentenceTransformer\n",
        "import pickle\n",
        "from scipy import spatial\n",
        "import os\n",
        "print(os.getcwd())"
      ],
      "id": "2233f771-d792-4d3d-94ba-dcdc1267eb35",
      "execution_count": 2,
      "outputs": [
        {
          "output_type": "stream",
          "name": "stdout",
          "text": [
            "/content\n"
          ]
        }
      ]
    },
    {
      "cell_type": "markdown",
      "metadata": {
        "id": "43e9870d-aad2-438e-bb2b-a973321c97a2"
      },
      "source": [
        "# Install/import relevant libraries"
      ],
      "id": "43e9870d-aad2-438e-bb2b-a973321c97a2"
    },
    {
      "cell_type": "markdown",
      "metadata": {
        "id": "cc09ee0c-4299-4e7d-9708-bce2ae974d41"
      },
      "source": [
        "# Get embeddings for distilbert"
      ],
      "id": "cc09ee0c-4299-4e7d-9708-bce2ae974d41"
    },
    {
      "cell_type": "code",
      "metadata": {
        "id": "8eefe87f-e501-4251-a300-1c6576878a72"
      },
      "source": [
        "# qna_df = pd.read_csv(\"../../0.Datasets/QnA.csv\")\n",
        "qna_df = pd.read_csv(\"./QnA.csv\")"
      ],
      "id": "8eefe87f-e501-4251-a300-1c6576878a72",
      "execution_count": 3,
      "outputs": []
    },
    {
      "cell_type": "code",
      "metadata": {
        "colab": {
          "base_uri": "https://localhost:8080/",
          "height": 204
        },
        "id": "83fc19b4-c6f3-46f0-9d10-c5c5b398eaa4",
        "outputId": "2422c6a1-4d91-4ef0-baed-246bb3553aec"
      },
      "source": [
        "qna_df.head()"
      ],
      "id": "83fc19b4-c6f3-46f0-9d10-c5c5b398eaa4",
      "execution_count": 4,
      "outputs": [
        {
          "output_type": "execute_result",
          "data": {
            "text/html": [
              "<div>\n",
              "<style scoped>\n",
              "    .dataframe tbody tr th:only-of-type {\n",
              "        vertical-align: middle;\n",
              "    }\n",
              "\n",
              "    .dataframe tbody tr th {\n",
              "        vertical-align: top;\n",
              "    }\n",
              "\n",
              "    .dataframe thead th {\n",
              "        text-align: right;\n",
              "    }\n",
              "</style>\n",
              "<table border=\"1\" class=\"dataframe\">\n",
              "  <thead>\n",
              "    <tr style=\"text-align: right;\">\n",
              "      <th></th>\n",
              "      <th>Unnamed: 0</th>\n",
              "      <th>qid</th>\n",
              "      <th>docid</th>\n",
              "      <th>question</th>\n",
              "      <th>answer</th>\n",
              "    </tr>\n",
              "  </thead>\n",
              "  <tbody>\n",
              "    <tr>\n",
              "      <th>0</th>\n",
              "      <td>0</td>\n",
              "      <td>0</td>\n",
              "      <td>18850</td>\n",
              "      <td>What is considered a business expense on a bus...</td>\n",
              "      <td>The IRS Guidance pertaining to the subject.  I...</td>\n",
              "    </tr>\n",
              "    <tr>\n",
              "      <th>1</th>\n",
              "      <td>1</td>\n",
              "      <td>1</td>\n",
              "      <td>14255</td>\n",
              "      <td>Claiming business expenses for a business with...</td>\n",
              "      <td>Yes you can claim your business deductions if ...</td>\n",
              "    </tr>\n",
              "    <tr>\n",
              "      <th>2</th>\n",
              "      <td>2</td>\n",
              "      <td>2</td>\n",
              "      <td>308938</td>\n",
              "      <td>Transferring money from One business checking ...</td>\n",
              "      <td>You should have separate files for each of the...</td>\n",
              "    </tr>\n",
              "    <tr>\n",
              "      <th>3</th>\n",
              "      <td>3</td>\n",
              "      <td>3</td>\n",
              "      <td>296717</td>\n",
              "      <td>Having a separate bank account for business/in...</td>\n",
              "      <td>Having a separate checking account for the bus...</td>\n",
              "    </tr>\n",
              "    <tr>\n",
              "      <th>4</th>\n",
              "      <td>4</td>\n",
              "      <td>3</td>\n",
              "      <td>100764</td>\n",
              "      <td>Having a separate bank account for business/in...</td>\n",
              "      <td>You don't specify which country you are in, so...</td>\n",
              "    </tr>\n",
              "  </tbody>\n",
              "</table>\n",
              "</div>"
            ],
            "text/plain": [
              "   Unnamed: 0  ...                                             answer\n",
              "0           0  ...  The IRS Guidance pertaining to the subject.  I...\n",
              "1           1  ...  Yes you can claim your business deductions if ...\n",
              "2           2  ...  You should have separate files for each of the...\n",
              "3           3  ...  Having a separate checking account for the bus...\n",
              "4           4  ...  You don't specify which country you are in, so...\n",
              "\n",
              "[5 rows x 5 columns]"
            ]
          },
          "metadata": {},
          "execution_count": 4
        }
      ]
    },
    {
      "cell_type": "code",
      "metadata": {
        "colab": {
          "base_uri": "https://localhost:8080/"
        },
        "id": "ddd9f8a8-45f7-446a-832e-4b163c62f010",
        "outputId": "e3670650-e11a-47c2-b288-c3b70e78c8ff"
      },
      "source": [
        "qna_df.info()"
      ],
      "id": "ddd9f8a8-45f7-446a-832e-4b163c62f010",
      "execution_count": 5,
      "outputs": [
        {
          "output_type": "stream",
          "name": "stdout",
          "text": [
            "<class 'pandas.core.frame.DataFrame'>\n",
            "RangeIndex: 17072 entries, 0 to 17071\n",
            "Data columns (total 5 columns):\n",
            " #   Column      Non-Null Count  Dtype \n",
            "---  ------      --------------  ----- \n",
            " 0   Unnamed: 0  17072 non-null  int64 \n",
            " 1   qid         17072 non-null  int64 \n",
            " 2   docid       17072 non-null  int64 \n",
            " 3   question    17072 non-null  object\n",
            " 4   answer      17072 non-null  object\n",
            "dtypes: int64(3), object(2)\n",
            "memory usage: 667.0+ KB\n"
          ]
        }
      ]
    },
    {
      "cell_type": "code",
      "metadata": {
        "id": "mh3ATrdvouF3"
      },
      "source": [
        "from google.colab import drive\n",
        "drive.mount('/content/drive')"
      ],
      "id": "mh3ATrdvouF3",
      "execution_count": null,
      "outputs": []
    },
    {
      "cell_type": "code",
      "metadata": {
        "id": "ca21d9fc-4c47-4d0b-b4be-91dbe63c4473"
      },
      "source": [
        "# model = SentenceTransformer(\"sentence-transformers/msmarco-distilbert-dot-v5\")\n",
        "# model = SentenceTransformer(\"../../7.Fine-tuned Models/finetuned-distilBERT-1epoch\")\n",
        "model = SentenceTransformer(\"./finetuned-bertbase-1epoch\")"
      ],
      "id": "ca21d9fc-4c47-4d0b-b4be-91dbe63c4473",
      "execution_count": 20,
      "outputs": []
    },
    {
      "cell_type": "code",
      "metadata": {
        "id": "1566ce53-d032-4575-b7d2-6cdc15c57700"
      },
      "source": [
        "# split answers to chunks for model to encode\n",
        "answers_list = qna_df[\"answer\"].tolist()\n",
        "chunk_size = 10\n",
        "chunks = [answers_list[i:(i+chunk_size)] for i in range(0, len(answers_list), chunk_size)]"
      ],
      "id": "1566ce53-d032-4575-b7d2-6cdc15c57700",
      "execution_count": 21,
      "outputs": []
    },
    {
      "cell_type": "code",
      "metadata": {
        "id": "ed4cc246-609c-45b5-a971-88b899a1f607"
      },
      "source": [
        "answers_list = qna_df[\"answer\"].tolist()"
      ],
      "id": "ed4cc246-609c-45b5-a971-88b899a1f607",
      "execution_count": 22,
      "outputs": []
    },
    {
      "cell_type": "code",
      "metadata": {
        "colab": {
          "base_uri": "https://localhost:8080/"
        },
        "id": "e90f0829-1b21-4b58-b941-e6a6494edc61",
        "outputId": "84342f4d-9cf8-4a81-8859-0babf176779d"
      },
      "source": [
        "dimension_size = 768 # embedding dimensions from msmarco distilbert documentation\n",
        "sentence_embeddings = np.empty([0,dimension_size], dtype=np.float32)\n",
        "for i,chunk in enumerate(chunks):\n",
        "    if i% chunk_size == 0:\n",
        "        print(i* chunk_size)\n",
        "    # stack it to sentence_embeddings numpy array\n",
        "    sentence_embeddings = np.vstack((sentence_embeddings, model.encode(chunk)))"
      ],
      "id": "e90f0829-1b21-4b58-b941-e6a6494edc61",
      "execution_count": 23,
      "outputs": [
        {
          "output_type": "stream",
          "name": "stdout",
          "text": [
            "0\n",
            "100\n",
            "200\n",
            "300\n",
            "400\n",
            "500\n",
            "600\n",
            "700\n",
            "800\n",
            "900\n",
            "1000\n",
            "1100\n",
            "1200\n",
            "1300\n",
            "1400\n",
            "1500\n",
            "1600\n",
            "1700\n",
            "1800\n",
            "1900\n",
            "2000\n",
            "2100\n",
            "2200\n",
            "2300\n",
            "2400\n",
            "2500\n",
            "2600\n",
            "2700\n",
            "2800\n",
            "2900\n",
            "3000\n",
            "3100\n",
            "3200\n",
            "3300\n",
            "3400\n",
            "3500\n",
            "3600\n",
            "3700\n",
            "3800\n",
            "3900\n",
            "4000\n",
            "4100\n",
            "4200\n",
            "4300\n",
            "4400\n",
            "4500\n",
            "4600\n",
            "4700\n",
            "4800\n",
            "4900\n",
            "5000\n",
            "5100\n",
            "5200\n",
            "5300\n",
            "5400\n",
            "5500\n",
            "5600\n",
            "5700\n",
            "5800\n",
            "5900\n",
            "6000\n",
            "6100\n",
            "6200\n",
            "6300\n",
            "6400\n",
            "6500\n",
            "6600\n",
            "6700\n",
            "6800\n",
            "6900\n",
            "7000\n",
            "7100\n",
            "7200\n",
            "7300\n",
            "7400\n",
            "7500\n",
            "7600\n",
            "7700\n",
            "7800\n",
            "7900\n",
            "8000\n",
            "8100\n",
            "8200\n",
            "8300\n",
            "8400\n",
            "8500\n",
            "8600\n",
            "8700\n",
            "8800\n",
            "8900\n",
            "9000\n",
            "9100\n",
            "9200\n",
            "9300\n",
            "9400\n",
            "9500\n",
            "9600\n",
            "9700\n",
            "9800\n",
            "9900\n",
            "10000\n",
            "10100\n",
            "10200\n",
            "10300\n",
            "10400\n",
            "10500\n",
            "10600\n",
            "10700\n",
            "10800\n",
            "10900\n",
            "11000\n",
            "11100\n",
            "11200\n",
            "11300\n",
            "11400\n",
            "11500\n",
            "11600\n",
            "11700\n",
            "11800\n",
            "11900\n",
            "12000\n",
            "12100\n",
            "12200\n",
            "12300\n",
            "12400\n",
            "12500\n",
            "12600\n",
            "12700\n",
            "12800\n",
            "12900\n",
            "13000\n",
            "13100\n",
            "13200\n",
            "13300\n",
            "13400\n",
            "13500\n",
            "13600\n",
            "13700\n",
            "13800\n",
            "13900\n",
            "14000\n",
            "14100\n",
            "14200\n",
            "14300\n",
            "14400\n",
            "14500\n",
            "14600\n",
            "14700\n",
            "14800\n",
            "14900\n",
            "15000\n",
            "15100\n",
            "15200\n",
            "15300\n",
            "15400\n",
            "15500\n",
            "15600\n",
            "15700\n",
            "15800\n",
            "15900\n",
            "16000\n",
            "16100\n",
            "16200\n",
            "16300\n",
            "16400\n",
            "16500\n",
            "16600\n",
            "16700\n",
            "16800\n",
            "16900\n",
            "17000\n"
          ]
        }
      ]
    },
    {
      "cell_type": "code",
      "metadata": {
        "colab": {
          "base_uri": "https://localhost:8080/"
        },
        "id": "fb3a8472-aeda-431e-a6c4-2568cbf624c2",
        "outputId": "b4467e23-82b9-4618-e690-9ef1417c4480"
      },
      "source": [
        "len(sentence_embeddings)"
      ],
      "id": "fb3a8472-aeda-431e-a6c4-2568cbf624c2",
      "execution_count": 24,
      "outputs": [
        {
          "output_type": "execute_result",
          "data": {
            "text/plain": [
              "17072"
            ]
          },
          "metadata": {},
          "execution_count": 24
        }
      ]
    },
    {
      "cell_type": "code",
      "metadata": {
        "id": "f944bdfe-43a4-4c2d-a4d6-92a8852bfb02"
      },
      "source": [
        "#save model embeddings\n",
        "with open(\"./embeddings.pkl\", 'wb') as f:\n",
        "    pickle.dump(sentence_embeddings, f, pickle.HIGHEST_PROTOCOL)"
      ],
      "id": "f944bdfe-43a4-4c2d-a4d6-92a8852bfb02",
      "execution_count": 25,
      "outputs": []
    },
    {
      "cell_type": "markdown",
      "metadata": {
        "id": "46284a14-28c7-48a1-a704-11e36f39c53c"
      },
      "source": [
        "# Show top 50 results for a query"
      ],
      "id": "46284a14-28c7-48a1-a704-11e36f39c53c"
    },
    {
      "cell_type": "code",
      "metadata": {
        "id": "4ec16e14-dbd1-40eb-92f4-0bd837a74431"
      },
      "source": [
        "# Read embeddings\n",
        "sentence_embeddings = pickle.load(open(\"./embeddings.pkl\", 'rb'))"
      ],
      "id": "4ec16e14-dbd1-40eb-92f4-0bd837a74431",
      "execution_count": null,
      "outputs": []
    },
    {
      "cell_type": "code",
      "metadata": {
        "id": "708e2582-95e0-4775-acfb-985052561e04"
      },
      "source": [
        "test_query = \"Should i use a robo advisor or hire a financial advisor?\""
      ],
      "id": "708e2582-95e0-4775-acfb-985052561e04",
      "execution_count": 26,
      "outputs": []
    },
    {
      "cell_type": "code",
      "metadata": {
        "colab": {
          "base_uri": "https://localhost:8080/"
        },
        "id": "a2d3e6e5-e0ed-4b31-bb34-da0d5628a9ba",
        "outputId": "dae3f69b-fe0f-422f-e700-39ea70c35861"
      },
      "source": [
        "%%time\n",
        "question_embedding = model.encode(test_query)\n",
        "answer_similiarity = {}\n",
        "for i,embed in enumerate(sentence_embeddings):\n",
        "    answer_similiarity[i]= np.dot(question_embedding, embed)\n",
        "answer_similiarity = {k: v for k, v in sorted(answer_similiarity.items(), key=lambda item: item[1], reverse=True)}\n",
        "top_20_index = list(answer_similiarity)[:50]\n",
        "for i,index in enumerate(top_20_index):\n",
        "    print(f\"========== Rank {i+1} ==========\")\n",
        "    print(answers_list[index])\n",
        "    print()"
      ],
      "id": "a2d3e6e5-e0ed-4b31-bb34-da0d5628a9ba",
      "execution_count": 27,
      "outputs": [
        {
          "output_type": "stream",
          "name": "stdout",
          "text": [
            "========== Rank 1 ==========\n",
            "If your financial needs aren't complex, and mostly limited to portfolio management, consider looking into the newish thing called robo-advisers (proper term is \"Automated investing services\").  The difference is that robo-advisers use software to manage portfolios on a large scale, generating big economy of scale and therefore offering a much cheaper services than personal advisor would - and unless your financial needs are extremely complex, the state of the art of scaled up portfolio management is at the point that a human advisor really doesn't give you any value-add (and - as other answers noted - human advisor can easily bring in downsides such as conflict of interest and lack of fiduciary responsibility).  disclaimer: I indirectly derive my living from a company which derives a very small part of their income from a robo-adviser, therefore there's a possible small conflict of interest in my answer\n",
            "\n",
            "========== Rank 2 ==========\n",
            "If you are looking for an advisor to just build a portfolio and then manage it, a robo-advisor can be beneficial (especially if the alternative is doing it your self, assuming that you are not well versed in the markets). The primary risk with one is that it does not build a portfolio that accurately represents your needs and risk tolerance. Some firms base the number of questions they ask you on sign up based not on what is needed to get a good profile, but on how many before people decide that it is too much hassle and bail. That usually results in poorer profiles. Also a live advisor may be better at really getting at your risk tolerance. Many of day our risk tolerance is one thing but in reality we are not so risk tolerant.  Once the profile is built. The algorithms maintain your portfolio on a day by day basis. If rebalancing opportunities occur they take advantage of it.  The primary benefit of a robo-advisor is lower fees or smaller minimum account balances. The downside is the lack of human interaction and financial advise outside of putting together a portfolio.\n",
            "\n",
            "========== Rank 3 ==========\n",
            "Yes, there is a profession that does exactly what you're looking for.  It's called a fee-only financial advisor. These are professionals who (in the United States) enter into a fiduciary relationship with a client, meaning they are legally required to put your financial interests above all other considerations (such as any behind-the-scenes incentives to promote certain products).  Between that requirement and the fact that they are paid for their time (and not on commission), they have zero incentive to try to sell you anything that you do not need.  Their only job is to help you with your financial situation.  (Of course, some of them may be better than others.) See the profession's website here to find such an advisor near you. (Credit to Marketplace Money, the old name for Marketplace Weekend, for mentioning fee-only advisors at least 87 times per show.)\n",
            "\n",
            "========== Rank 4 ==========\n",
            "Most individuals do not need a personal financial advisor. If you are soon entering the world of work, your discretionary investments should be focused on index funds that you commit to over the long run. Indeed, the best advice I would give to anyone just starting out would be: For most average young workers, a financial advisor will just give you some version of the information above, but will change you for it. I would not recommend a financial advisor as a necessity until you have seriously complicated taxes. Your taxes will not be complicated. Save your money.\n",
            "\n",
            "========== Rank 5 ==========\n",
            "At 1.4 Million, you can definately afford a professional advisor who would give you the best advice taking into account all your goals and risk appetite.\n",
            "\n",
            "========== Rank 6 ==========\n",
            "Any fee based financial adviser should be able to help you. I don't think you need to worry about finding a 401K specific adviser. I'm not even sure that's a thing. A good place to start is the National Association of Personal Financial Advisors. The reason I specifically mentioned a fee based adviser is that the free ones are working on sales commissions, which may influence them to give advice that is in their own best interest more than yours.\n",
            "\n",
            "========== Rank 7 ==========\n",
            "If you don't have the time or interest to manage investments, you need a financial advisor.  Generally speaking, you're better served by an advisor who collects an annual fee based on a percentage of your account value. Advisors who are compensated based on transactions have a vested interest to churn your account, which is often not in your best interest. You also need to be wary of advisors who peddle expensive mutual funds with sales loads (aka kick-backs to the advisor) or annuities. Your advisor's compensation structure should be transparent as well.\n",
            "\n",
            "========== Rank 8 ==========\n",
            "Others have mentioned the term fiduciary but haven't really gone in to what that is. Despite the name \"financial advisor\" there is no legal (In the US) mandate as to what that means.  Often times a financial advisor is little more than a sales rep whose job it is to sell particular financial instruments.  These people will give you good generic advice such as \"make sure you have a nest egg\" and \"don't spend more than you make\".  However when the rubber hits the road in terms of how to save they will often recommend/insist/pressure a particular asset/security which doesn't necessarily meet your risk/reward preference/tolerance.  Often times the assets they pitch have high fees.  These people won't charge you for their time because their time is a loss leader for the commissions they make on selling their products. In contrast a fiduciary's job responsibility is to look out for your interests.  They shouldn't receive any kind of payment based on what assets you buy.  This means that you have to pay them for their time. The NAPFA website seems to have good ideas on choosing an advisor. http://www.napfa.org/HowtoFindAnAdvisor.asp\n",
            "\n",
            "========== Rank 9 ==========\n",
            "You need to find a fiduciary advisor pronto. Yes, you are getting a large amount of money, but you'll probably have to deal with higher than average health expenses and lower earning potential for years to come. You need to make sure the $1.2 million lasts you, and for that you need professional advice, not something you read on the Internet. Finding a knowledgeable advisor who has your interests at heart at a reasonable rate is the key here.  These articles are a good start on what to look for: http://www.investopedia.com/articles/financialcareers/08/fiduciary-planner.asp https://www.forbes.com/sites/janetnovack/2013/09/20/6-pointed-questions-to-ask-before-hiring-a-financial-advisor/#2e2b91c489fe http://www.investopedia.com/articles/professionaleducation/11/suitability-fiduciary-standards.asp You should also consider what your earning potential is. You rule out college but at 26, you can have a long productive career and earn way more money than the $1.2 million you are going to get.\n",
            "\n",
            "========== Rank 10 ==========\n",
            "That your asking is a good first step towards taking control of your future. But truly, you must seek the advice of a personal consultant that is much more in tune with your finances that anyone out here in the public will be.  You can get this type of advice locally, or if you want something online, I suggest oDesk or something similar to find a large pool of people and to efficiently find the right person for suited for your situation.\n",
            "\n",
            "========== Rank 11 ==========\n",
            "In my experience financial advisors do not normally assist with budgeting and personal everyday finance. There certainly are people who do that, but you would normally only consult them when you have financial difficulties, especially debt. The more common find of financial advisor is mostly focussed on advising you about savings and investments. A lot work for banks and investment companies. They will usually advise you for free, the downside being that they will only recommend their company's products. This may or may not be a bad thing, depending on the company. Others will charge you a commission on purchases, and their advice will be more neutral. This question will also be interesting: Are all financial advisors compensated in the same way?\n",
            "\n",
            "========== Rank 12 ==========\n",
            "The way this works, as I understand it, is that financial advisers come in two kinds. Some are free to recommend you any financial products they think fit, but many are restricted in what they can recommend. Most advisers who work for finance companies are the second kind, and will only offer you products that their company sells. I believe they should tell you up front if they are the second kind. They should certainly tell you that if you ask. So in essence, your Scotiabank advisor is not necessarily making bad decisions for you - but they are restricted in what they will offer, and will not tell you if there is a better product for you that Scotiabank doesn't sell. In most cases, 'management fees' means something you pay to the actual managers of the fund you buy, not to the person who sells you the fund. You can compare the funds you are invested in yourself, both for performance and for the fees charged. Making frequent unnecessary changes of investment is another way that an advisor can milk you for money, but that is not necessarily restricted to bank-employed advisors. if you think that is happening to you, ask question, and change advisors if you are not happy.\n",
            "\n",
            "========== Rank 13 ==========\n",
            "Whether your financial status is considered \"OK\" depends on your aspirations.  You aren't spending more than you earn and have no debt.  That puts you in the category of OK in my book, but the information in your post indicates that you would benefit from some financial advice--100 grand sounds like a lot of money to have in a bank unless you are on the verge of spending it. Financial advisors come in various shapes and sizes.  Many will charge you a lot for what turns out to be helpful advice in the first meeting, but very little value-added thereafter.  Some don't have the best incentives (they may be incentivized to encourage you to put your money into certain funds, for example). There are many financial advisors (of sorts) that you have access to that won't cost you anything.  For example, if you have a 401(k) at work, I bet there is a representative from the plan administrator that will meet with you for free.  If you open a brokerage account or IRA at any place (Fidelity, Vanguard, etc.) you can easily talk with one of their reps and get all sorts of advice.  My personal take is to meet with anyone who will meet with me for free, but not to pay anyone for this service.  It's too easy to get good advice and paying for it doesn't guarantee that you get better advice. Your financial situation will depend primarily on a few things you have not mentioned here.  For example, How much are you setting aside for retirement and what are your retirement goals?  This is something lots of people can give you advice on, but we don't know what market returns will be going forward so we don't really know.  One bit of advice that may benefit you is how to set aside money for retirement in the most tax advantaged way. How much do you feel that you need saved up for large expenses?  Thinking of starting a family?  How many months worth of income are you comfortable having set aside? What is your tolerance of risk?  If you put your money in risky assets, you may make more, but you may also actually lose money.  Those are the questions a financial advisor will ask about.  Once you have his/her advice--and preferrably after talking to a few advisors--you can make your own decision. Basically, your options are: Rules of thumb: Save only what makes sense to save in banks given your expected needs for cash. Put a lot in tax advantaged accounts (don't give Uncle Sam any gifts). Then look at financial and real investments. There are a number of free resources on the internet.  For example FutureAdvisor.  Or you can hit up the forums at BogleHeads.  Those guys give and receive financial advice as a hobby.  They aren't professionals, but you can get a lot of varying ideas and make up your own mind, which to me is better than (just) asking a professional. BTW, regarding the ESPP: these plans often give you a discount on stock and can therefore be a good idea.  Just be sure you don't hold the stock longer than you need to.  It's generally a bad idea to concentrate your wealth in any single investment, especially one highly correlated with your background risk (i.e., if the company does poorly you will already be worse off because you may lose your job or see fewer advancement opportunities. No need to add losses in your savings to that).  1 Please note: I am neither advocating nor discouraging buying guns, gold, or other controversial real assets.  I'm just giving examples of items some people buy as part of their wealth-preservation strategy.\n",
            "\n",
            "========== Rank 14 ==========\n",
            "Yes, maybe for themselves, but for you that depends on quite a number of things. But not all advisors are scum, but accept the fact that you are their cash cow and you are there for their takings. Some advisors are true to their professions and advise ethically, trying to get the best for their clients. So search for a good advisor rather than a cheap one. And regarding the mortgage you are talking about, the mortgage provider and the mortgage taker don't deal directly, but use their solicitors. Every party wants the least of legal hassles for their transactions and get the best legal help. The financial advisor maybe both rolled into one or he has legal practitioners in his firm who would do the legal job after he takes care of the financial matters. Seems a cost effective workshop.\n",
            "\n",
            "========== Rank 15 ==========\n",
            "I think the OP is getting lost in designations.  Sounds to me that what he wants is a 'financial advisor' not an 'investment advisor'.  Does he even have investments?  Does he want to be told which securities to buy?   Or is he wanting advice on overall savings, insurance, tax-shelters, retirement planning, mortgages, etc.  Which is a different set of skills - the financial advisor skill set. Accountants don't have that skill set.  They know operating business reporting, taxes and generally how to keep it healthy and growing.  They can do personal tax returns (as a favour to only the owners of the business they keep track of usually). IMO they can deal with the reporting but not the planning or optimization. But IMO the OP should just read up and learn this stuff for himself.  Accreditation mean nothing.  Eg.  the major 'planner' brand teaches factually wrong stuff about RRSPs - which are the backbone of Canadian's finances.\n",
            "\n",
            "========== Rank 16 ==========\n",
            "I thought the Finance Buff made a pretty solid argument for a financial advisor the other day: http://thefinancebuff.com/the-average-investor-should-use-an-investment-advisor-how-to-find-one.html But 1.5% is too expensive. The blog post at Finance Buff suggests several alternatives. He also has the great suggestion to use Vanguard's cheap financial planning service if you go with Vanguard. A lot of investing advice fails to consider the human factor. Sure it'd be great to rebalance exactly every 6 months and take precisely the amount of risk to theoretically maximize returns. But, yeah right. It's well-known that in the aggregate individual investors go to cash near market bottoms and then buy near market tops. It's not that they don't know the right thing to do necessarily, it's just that the emotional aspect is stronger than any of us expect. You shouldn't rely on sticking to your investments any more than you rely on sticking to your diet and exercise program ;-) the theoretically optimal solution is not the real-world-people-are-involved optimal solution. My own blog post on this suggests a balanced fund rather than a financial advisor, but I think the right financial advisor could well be a better approach: http://blog.ometer.com/2010/11/10/take-risks-in-life-for-savings-choose-a-balanced-fund/ Anyway, I think people are too quick to think of the main risk as volatility, and to think of investing as simple. Sure in theory it is simple. But the main risk is yourself. Fear at market bottoms, greed at market tops, laziness the rest of the time... so there's potential value in taking yourself out of the picture. The human part is the part that isn't simple. On whether to get a financial advisor in general (not just for investments), see also: What exactly can a financial advisor do for me, and is it worth the money?\n",
            "\n",
            "========== Rank 17 ==========\n",
            "There are several types of financial advisors. Some are associated with brokerages and insurance companies and the like. Their services are often free. On the other hand, the advice they give you will generally be strongly biased toward their own company's products, and may be biased toward their own profits rather than your gains. (Remember, anything free is being paid for by someone, and if you don't know who it's generally going to be you.) There are some who are good, but I couldn't give you any advice on finding them. Others are not associated with any of the above, and serve entirely as experts who can suggest ways of distributing your money based on your own needs versus resources versus risk-tolerance, without any affiliation to any particular company.  Consulting these folks does cost you (or, if it's offered as a benefit, your employer) some money, but their fiduciary responsibility is clearly to you rather than to someone else. They aren't likely to suggest you try anything very sexy, but when it comes to your primary long-term savings \"exciting\" is usually not a good thing. The folks I spoke to were of the latter type. They looked at my savings and my plans, talked to me about my risk tolerance and my goals, picked a fairly \"standard\" strategy from their files, ran simulations against it to sanity-check it, and gave me a suggested mix of low-overhead index fund types that takes almost zero effort to maintain (rebalance occasionally between funds), has acceptable levels of risk, and (I admit I've been lucky) has been delivering more than acceptable returns. Nothing exciting, but even though I'm relatively risk-tolerant I'd say excitement is the last thing I need in my long-term savings. I should actually talk to them again some time soon to sanity-check a few things; they can also offer advice on other financial decisions (whether/when I might want to talk to charities about gift annuity plans, whether Roth versus traditional 401(k) makes any difference at all at this point in my career, and so on).\n",
            "\n",
            "========== Rank 18 ==========\n",
            "A financial advisor is a service professional.  It is his/her job to do things for you that you could do for yourself, but you're either too busy to do it yourself (and you want to pay somebody else), or you'd rather not. Just like some people hire tax preparers, or maids, or people to change their oil, or re-roof their houses. Me, I choose to self-manage.  I get some advise from Fidelity and Vanguard.  But we hired somebody this year to re-roof our house and someone else to paint it.\n",
            "\n",
            "========== Rank 19 ==========\n",
            "Find a good financial advisor that is willing to teach you and not just interested in making a commission on your net worth. Talk to them and talk some more. Go slow and don't make impulsive buying decisions. If you don't understand it then don't buy it. Think long term - how do I turn this 250K into 2.5M? Congrats on the savings!\n",
            "\n",
            "========== Rank 20 ==========\n",
            "You want CFP or CFA who is also a fiduciary, meaning that by law they have to put your interests ahead of their own. Financial planners who are not fiduciaries can, and often do, recommend investment vehicles that earn them the most commission with little regard of your financial goals. If you already have $500,000 to invest and racking up $100,000 a month you probably qualify for most institutions private client programs. That means that the firm/advisor will look at your financial situation and come up with a custom-tailored investment plan for you which should also include tax planning. I would start with whatever financial institutions you already work with - Schwab, your bank etc. Set up a meeting and see what they have to offer. Make sure you interrogate them about their fees, their licenses/certifications and above all if they are a fiduciary.\n",
            "\n",
            "========== Rank 21 ==========\n",
            "If you are making that much, don't waste your time here. Pay a few hundred bucks for a consultation with a fee-only certified financial planner. (Not one of the \"free\" services, which make their money via commissions on sales and are thus motivated to direct you to whatever gets them the largest commission.) In fact, in your bracket you might want to consider hiring someone to manage your portfolio for you on an ongoing basis. A good one will start by asking what your goals are, over what timeframe, and will help you determine how you feel about risk and volatility. From that information they will be able to suggest a strategic mix of kinds of investments which is balanced for those constraints.\n",
            "\n",
            "========== Rank 22 ==========\n",
            "Many of my friends said I should invest my money on stocks or something else, instead of put them in the bank forever. I do not know anything about finance, so my questions are: First let me say that your friends may have the best intentions, but don't trust them. It has been my experience that friends tell you what they would do if they had your money, and not what they would actually do with their money. Now, I don't mean that they would be malicious, or that they are out to get you.  What I do mean, is why would you take advise from someone about what they would do with 100k when they don't have 100k. I am in your financial situation (more or less), and I have friends that make more then I do, and have no savings. Or that will tell you to get an IRA -so-and-so but don't have the means (discipline) to do so. Do not listen to your friends on matters of money. That's just good all around advise. Is my financial status OK? If not, how can I improve it? Any financial situation with no or really low debt is OK. I would say 5% of annual income in unsecured debt, or 2-3 years in annual income in secured debt is a good place to be. That is a really hard mark to hit (it seems). You have hit it. So your good, right now. You may want to \"plan for the future\". Immediate goals that I always tell people, are 6 months of income stuck in a liquid savings account, then start building a solid investment situation, and a decent retirement plan. This protects you from short term situations like loss of job, while doing something for the future.   Is now a right time for me to see a financial advisor? Is it worthy? How would she/he help me? Rather it's worth it or not to use a financial adviser is going to be totally opinion based. Personally I think they are worth it. Others do not. I see it like this. Unless you want to spend all your time looking up money stuff, the adviser is going to have a better grasp of \"money stuff\" then you, because they do spend all their time doing it. That being said there is one really important thing to consider. That is going to be how you pay the adviser. The following are my observations. You will need to make up your own mind.  Free Avoid like the plague. These advisers are usually provided by the bank and make their money off commission or kickbacks. That means they will advise you of the product that makes them the most money. Not you.  Flat Rate These are not a bad option, but they don't have any real incentive to make you money. Usually, they do a decent job of making you money, but again, it's usually better for them to advise you on products that make them money. Per Hour These are my favorite. They charge per hour. Usually they are a small shop, and will walk you through all the advise. They advise what's best for you, because they have to sit there and explain their choices. They can be hard to find, but are generally the best option in my opinion.   % of Money These are like the flat rate advisers to me. They get a percentage of the money you give them to \"manage\". Because they already have your money they are more likely to recommend products that are in their interest. That said, there not all bad. % or Profit These are the best (see notes later). They get a percentage of the money they make for you. They have the most interest in making you money. They only get part of what you get, so there going to make sure you get the biggest pie, so they can get a bigger slice. Notes In the real world, all advisers are likely to get kickbacks on products they recommend. Make sure to keep an eye for that. Also most advisers will use 2-3 of the methods listed above for billing. Something like z% of profit +$x per hour is what I like to see. You will have to look around and see what is available.  Just remember that you are paying someone to make you money (or to advise you on how to make money) so long as what they take leaves you with some profit your in a better situation then your are now. And that's the real goal.\n",
            "\n",
            "========== Rank 23 ==========\n",
            "The nature of this question (finding a financial adviser) can make it a conundrum. Those who have little financial experience are often in the greatest need of a financial adviser and at the same time are the least qualified to select one. I'm not putting you or anyone in particular in this category. And of course it's a sliding scale: In general the more capable you are of running your own finances the more prepared you are to answer this question. With that said, I would recommend backing up half a step. Consider advisers other than strictly fee-only advisers. Perhaps you have already considered this decision. But perhaps others reading this have not. My (Ameriprise) adviser charges a monthly (~$50) fee, but also gets percentage-based portions of certain investments. Based on a $150/hr rate that amounts to four hours per year. Does he spend four hours per year on my account? Well so far he does (~2 yrs). But that is determined primarily by how much interaction I choose to have with him. (I suppose I could spend more time asking him questions and less time on this forum. :P) I have never fully understood the gravitation towards fee-based advisers on principle. I guess the theory is they are not making biased decisions about your investments because they don't have as much of a stake in how well your investments to do. I don't necessarily see that as an advantage. It seems they would have less of an incentive to ensure the growth of your investments. Although if you're nearing retirement then growth isn't your biggest concern. Perhaps a fee-based adviser makes more sense in that scenario. Whatever pay structure your adviser uses, it would seem to make sense to consider a successful adviser with a good client base. This implies that the adviser knows what he/she is doing. (But it could also just be a sign that they are good at marketing themselves.) If your adviser has a good base of wealthy clients then choosing a strictly-fee based adviser would mitigate the risk of your adviser having less incentive to consider your portfolio vs that of more wealthy clients. To more directly answer your question I suggest asking several of your adviser candidates for advice on choosing an adviser. I suspect you will get some good advice as well as good insight on the integrity and honesty of the adviser.\n",
            "\n",
            "========== Rank 24 ==========\n",
            "Traditional brokers There are tons of players in this market, especially in USA. You have traditional brokers, brokers tied to your bank and a bunch of startups. The easiest is probably a broker tied to your bank, because you probably don't have to wait to fund your brokerage account and can start trading immediately. Often the older/traditional brokers don't have very intuitive interfaces, it's the startups who do a better job at this. But honestly it doesn't really matter, because you can use reporting services that are different from the services you use to execute your trades. Meaning that you only use the interface of your broker to execute trades (buy or sell), and use third party services to monitor your holdings. Monitoring services: Google Finance, Yahoo Finance, Sigfig, Morningstar,... are services allowing you to monitor your holdings. But you can't execute trades with them. Start-ups: Then there are a bunch of startups that offer investment services besides the traditional brokers. Start-up > Robinhood The most ambitious one is Robinhood, which offers the same service as a traditional broker, but completely free (most of the traditional brokers charge a flat fee and/or percentage when buying/selling hodlings) and with an intuitive interface. They're mobile first, but announced they will be launching their service on the web soon. Start-up > Acorns Another popular, mobile-first start-up is Acorns. They offer a lazy-investing service which rounds your everyday purchases and uses the change to invest. It's great when investing is not on your mind, but you still want to invest without realizing it. Start-ups > Robo-advisors Robo-advisors auto-invest your money across a bunch of funds picked based on your risk profile. Because the robo-advisers are fairly new, they often have the most intuitive interfaces. These robo-advisors often don't allow you to pick individual holdings, so these services are best when you want to passively invest. Meaning you don't want to look at it very often, and let them do the investing for you. There are tons of robo-advisor start-ups: Betterment, Wealthfront, Personal Capital, Sigfig, FutureAdvisor,... Also bigger parties jumped on this trend with their offerings: Schwab Intelligent Portfolios, Ally Managed Portfolio, Vanguard Personal Advisor, etc. Summary: It's fun to pick individual stocks, but if you start out it can be overwhelming. Robinhood is probably the best start, they have reduced functionality, but gets you going with an attractive interface. But soon you'll realize it's extremely hard to beat the market. Meaning that hand-picking stocks statistically gives you a worse return than just buying into the general stock market (like S&P500). So you can decide to just buy one fund with a traditional broker that covers the general stock market. Or you can decide to try out one of the many robo-advisors. They haven't been around that long, so it's hard to tell how effective these are and whether they beat the market. If you're young, and you believe in start-ups (who often try to challenge the traditional players), try out one of the robo-advisors. If you want to play a bit and are addicted to your smartphone, try out Robinhood. If you are addicted to your phone, but don't want to check up on your investments all the time, go for Acorns. Of course you can combine all these. Lastly, there are tons of cryptocurrencies which might give you a large return. Tons of startups offer intuitive interfaces to trade cryptocurrencies like Coinbase, Gemini, Kraken. But beware, there is a lot of risk involved in trading cryptocurrencies, it's completely unregulated etc. But definitely check them out. Oh, and you can also invest by giving out loans through LendingClub, Prosper etc. Who can you trust? Above gives you an overview of your options intermingled with some reasoning. But regarding your question \"who can I trust\" in terms of advice, it's up to yourself. Most traditional broker services don't give you any advice at all, you're on your own. Robo-advisors don't give you advice either, but let their proprietary algorithm do the job. Are these reliable? Nobody can tell, they haven't been around long enough, and they need to go through a bear market (a crash) to see how they respond during rough times. Some robo-advisors offer you personal consultancy (I believe Sigfig and PersonalCapital) does this (limited to a few hours per year). But obviously they'll try to promote their robo-advisor services.\n",
            "\n",
            "========== Rank 25 ==========\n",
            "In addition to a fee-only advisor, brought up by dg99, you could consider asking your questions on message boards such as Bogleheads.org. I have found the advice amazing, obviously conflict-free, and free.\n",
            "\n",
            "========== Rank 26 ==========\n",
            "If you use a financial planner not only should they be a fiduciary but you should just pay them an hourly rate once a year instead of a percentage unless the percentage is cheaper at this time. To find a good one, go to the National Association of Personal Financial Advisers website, NAPFA.org. Another good resource is Garrett Planning Network: GarrettPlanningNetwork.com.\n",
            "\n",
            "========== Rank 27 ==========\n",
            "To evaluate any advice, this lists some of the things to consider: There are good advisors out there. There are also Bernie Madoffs who give the entire industry a black eye. In the end, the best path is to educate yourself, read as much as you can before you invest. Better to lose a bit by staying out of the market than to lose it all by getting scammed.\n",
            "\n",
            "========== Rank 28 ==========\n",
            "I am a Certified Financial Planner and provide tactical advice on everything from budgeting to saving for retirement. You do not have to have any series exams or a CFP to do this work, although it helps give you credibility. As long as you DO NOT provide investment advice, you likely do not need to register as an investment advisor or need any certification.\n",
            "\n",
            "========== Rank 29 ==========\n",
            "Be very careful to hold on tight to your money! I agree with paying for an investment advisor, but I would say use at least two to get different viewpoints, and get credentials and references! Don't let relatives convince you to invest in their business, or help them out, or any other such nonsense. Real estate still is one of the best investments out there in my opinion. You could buy a fixer upper and rent it out?\n",
            "\n",
            "========== Rank 30 ==========\n",
            "I think the other answers raise good points.  But to your question, \"How do I find an honest financial adviser\" ask your friends and family.  See who they talk to and confide in.  Go meet that person, understand what they do and how they view things and if you gel, great.  Honesty and strong ethics exist in individuals regardless of laws. What is it you're trying to accomplish?  You just have some money you want to put aside?  You want to save for something?  You want to start a budget or savings plan?  Your first step may be talking to a tax person, not an investment adviser.  Sometimes the most significant returns are generated when you simply retain more of your earnings and tax people know how to accomplish that.  You're just graduating university, you're just going to get your first job.  You don't need to hunt for the right heavy hitter 30% gains generating financial adviser.  You need to establish your financial foundation.  Crawl, walk, then run. There are some basics (that transcend international borders).  If you don't know much about investing, most (if not all) retirement and individual brokerage type accounts will give you access to some kind of market index fund.  You don't need to multinationally diversify in to high fee funds because \"emerging markets are screaming right now.\"  Typically, over a few years the fees you pay in the more exotic asset classes will eat up the gains you've made compared to a very low fee market index fund. You can open free accounts at a number of financial institutions.  These free accounts at these banks all have a list of zero commission zero load funds, all have something resembling an index fund.  You can open your account for free, deposit your money for free, and buy shares in an index fund for free.\n",
            "\n",
            "========== Rank 31 ==========\n",
            "Technically, anyone who advises how you should spend or proportion your money is a financial adviser.  A person that does it for money is a Financial Advisor (difference in spelling). Financial Advisors are people that basically build, manage, or advise on your portfolio.  They have a little more institutional knowledge on how/where to invest, given your goals, since they do it on a daily basis. They may know a little more than you since, they deal with many different assets: stocks, ETFs, mutual funds, bonds, insurances (home/health/life), REITs, options, futures, LEAPS, etc. There is risk in everything you do, which is why what they propose is generally according to the risk-level you want to assume.  Since you're younger, your risk level could be a little higher, as you approach retirement, your risk level will be lower.  Risk level should be associated with how likely you're able to reacquire your assets if you lose it all as well as, your likelihood to enjoy the fruits from your investments. Financial Advisors are great, however, be careful about them.  Some are payed on commissions, which are given money for investing in packages that they support.  Basically, they could get paid $$ for putting you in a losing situation.  Also be careful because some announce that they are fee-based - these advisers often receive fees as well as commissions.  Basically, associate the term \"commission\" with \"conflict-of-interest\", so you want a fee-only Advisor, which isn't persuaded to steer you wrong. Another thing worth noting is that some trading companies (like e*trade) has financial services that may be free, depending how much money you have with them.  Generally, $50K is on the lower end to get a Financial Advisors.  There has been corruption in the past, where Financial Advisors are only given a limited number of accounts to manage, that means they took the lower-valued ones and basically ran them into the ground, so they could get newer ones from the lot that were hopefully worth more - the larger their portfolio, the more $$ they could make (higher fees or more commissions) and subjectively less work (less accounts to have to deal with), that's subjective, since the spread of the wealth was accross many markets.\n",
            "\n",
            "========== Rank 32 ==========\n",
            "I would start by talking to a Fee-Only Financial Planner to make sure the portfolio fits with your goals.  You can find a list here: http://www.napfa.org/\n",
            "\n",
            "========== Rank 33 ==========\n",
            "You may want to look into robo-investors like Wealthfront and Betterment. There are many others, just search for \"robo investor\".\n",
            "\n",
            "========== Rank 34 ==========\n",
            "The other answers are good, but not UK-specific. You need to look for an Independent Financial Advisor (IFA). These are regulated by the FCA and you pay them a time-based fee for their services, they do not take commission on the products they recommend to you.  The Government Money Advice Service page (hat tip to @AndyT in the comments on the question for the link) tells you how to go about finding one of these and what sort of questions to ask. Contrary to the note in the answer by @Harper, in the UK many IFAs do have perfectly nice offices, this is not a sign that should put you off.  Personal recommendations for IFAs are usually the best way to go but failing that there are directories of them and many will have an initial conversation with you for free to ensure you are aligned with each other.\n",
            "\n",
            "========== Rank 35 ==========\n",
            "Usually your best bet for this sort of thing is to look for referrals from people you trust. If you have a lawyer or other trusted advisor, ask them.\n",
            "\n",
            "========== Rank 36 ==========\n",
            "The answers you've received already are very good. I truly sympathize with your situation. In general, it makes sense to try to build off of existing relationships. Here are a few ideas: I don't know if you work for a small or large company, or local/state government. But if there is any kind of retirement planning through your workplace, make sure to investigate that. Those people are usually already paid something for their services by your employer, so they should have less of an interest in making money off you directly. One more thought: A no-fee brokerage company e.g. Charles Schwab. They offer a free one hour phone call with an investment adviser if you invest at least $25K. I personally had very good experiences with them. This answer may be too anecdotal and not specifically address the annuity dilemma you mentioned. That annunity dilemma is why you need to find someone you can trust, who is competent (see the credentials for financial advisers mentioned in the other answers), and will work the numbers out with you.\n",
            "\n",
            "========== Rank 37 ==========\n",
            "You want a fee-only advisor.  He charges like an architect or plumber: by the hour or some other \"flat fee\". That is his only compensation. He is not paid on commission at all.  He is not affiliated with any financial services company of any kind.   His office is Starbucks.  He does not have a well lit office like the commission broker down the street.  He does not want you to hand him your money - it stays in the brokerage account of your choice (within reason - some brokerage accounts are terrible and he'll tell you to get out of those).  He never asks for the password to your brokerage account.  Edit: The UK recently outlawed commission brokers.  These guys were competitive \"sales types\" who thrive on commissions, and probably went into other sales jobs.  So right now, everyone is clamoring for the few proper financial advisors available.  High demand is making them expensive.  It may not be cost-effective to hire an advisor; you may need to learn it yourself.  It's not that hard.  Ever hear of a plumber who works totally for free, and makes his money selling you wildly overpriced pipe?  That's what regular \"financial advisors\" are.   They sell products that are deliberately made unnecessarily complex. The purpose is first, to conceal sales commissions and high internal fees; and second to confuse you, so the financial world feels so daunting that you feel like you need their help just to navigate it.   They're trying to fry your brain so you'l just give up and trust them.   Products like whole life and variable annuities are only the poster children for how awful all of their financial products are.  These products exist to fleece the consumer without quite breaking the law.  Of course, everyone goes to see them because they have well lit offices in every town, and they're free and easy to deal with. Don't feel like you need to know everything about finance to invest.  You don't need to understand every complex financial product that the brokerage houses bave dreamed up: they are designed to conceal and confuse, as I discuss above, and you don't want them.  The core of it is fairly simple, and that's all you really need to know.   Look at any smaller university and how they manage their endowments. If whole life, annuities and those complex financial \"products\" actually worked, university endowments would be full of them.   But they're not!  Endowments are generally made of investments you can understand.  Partly because university boards are made of investment bankers who invented those products, and know what a ripoff they are.   Some people refuse to learn anything.  They are done with college and refuse to learn anything more.   I hope that's not you.   Because you should learn the workings of everything you're investing in.    If you don't understand it, don't buy itl  And a fee-only financial advisor won't ask you to.  1000 well-heeled, well-advised university endowments seek the most successful products on the market... And end up choosing products you can understand.  That's good news for you.\n",
            "\n",
            "========== Rank 38 ==========\n",
            "Is my financial status OK?  You have money for emergencies in the bank, you spend less than you earn. Yes, your status is okay. You will have a good standard of living if nothing changes from your status quo. How can I improve it? You are probably paying more in taxes than you would if you made a few changes. If you max out tax advantaged retirement accounts that would reduce the up-front taxes you are paying on your savings. Is now a right time for me to see a financial advisor?  The best time to see a financial advisor is any time that your situation changes. New job? Getting married? Having a child? Got a big promotion or raise? Suddenly thinking about buying a house? Is it worth the money? How would she/he help me? If you pick an advisor who has incentive to help you rather than just pad his/her own pockets with commissions, then the advice is usually worth the money. If there is someone whose time is already paid for, that may be better.  For example, if you get an accountant to help you with your taxes and ask him/her how to best reduce your taxes the next year, the advice is already paid-for in the fee you for the tax help. An advisor should help you minimize the high taxes you are almost certainly paying as a single earner, and minimize the stealth taxes you are paying in inflation (on that $100k sitting in the bank).\n",
            "\n",
            "========== Rank 39 ==========\n",
            "Obviously mate. Mortgage advisors don't have just one client, similarly why should you have only one advisor? it´s an open market. Don't worry about wasting their time, you are not wasting their time if you are considering a mortgage. then, in case you found a better deal with another mortgage advisor then that´s life - someone was better then them.\n",
            "\n",
            "========== Rank 40 ==========\n",
            "Another option to a human advisor is FutureAdvisor, a web service that (if it supports your 401k plan) gives personalized algorithmic advice on what you should hold in your 401(k) and other retirement accounts.  If it doesn't support your 401(k) plan just yet you can sign up to be emailed when your plan is added.  [Disclosure: I work here, but I believe in the product and it's designed to solve this exact problem so I'm mentioning it here]  Note from JoeTaxpayer - bolu's disclosure is much appreciated. The fee is $39/yr, with a free trial. Consider that a commissions based advisor won't even take on a $10K level account, and at $100K, you'd be hard pressed to gain by more than his 1% fee. So while I've not dug deeper into this site, a rules-based methodology is likely to be worth the cost if over time it gains you even a fraction of a percent compared to what you'd have done blindly.\n",
            "\n",
            "========== Rank 41 ==========\n",
            "I am sure there would be many views on the above topic, my take is that DIY takes the following: Now, for many, one or more of the other factors are missing. In this case, it is probably best to go for a financial adviser. There are others who have some of the above in place and are interested but probably cannot spend enough time. For them a middle ground of Mutual Funds probably is a good choice. Here they get to choose the fund they invest in and the fund manager manages the fund. For the people who have the above more or less in place and also are willing to take risk and learn, they probably can do a DIY for a while and find out the actual result. Just my views and opinion.\n",
            "\n",
            "========== Rank 42 ==========\n",
            "There is no rule of thumb (although some may suggest there is). Everybody will have different goals, investment preferences and risk tolerances. You need to figure this out by yourself by either education yourself in the type of investments you are interested in or by engaging (and paying for) a financial advisor. You should not be taking advice from others unless it is specifically geared for your goals, investment DNA and risk tolerance. The only advice I would give you is to have a plan (whether you develop it yourself or pay a financial advisor to develop one). Also, don't have all your savings sitting in cash, as long-term you will fall behind the eight ball in real returns (allowing for inflation).\n",
            "\n",
            "========== Rank 43 ==========\n",
            "Until you get some financial education, you will be vulnerable to people wanting your money.  Once you are educated, you will be able to live a tidy life off this-- which is exactly why this amount was awarded to you, rather than some other amount.    They gave you enough money.  This is not a lottery win.  I mean \"financial counselors\" who will want to help you with strategies to invest your money.  Every one will promise your money will grow.   The latter case describes every full-service broker, e.g. what will happen if you walk into EdwardJones.  This industry has a long tradition of charmingly selling investments which significantly underperform the market, and making their money by kickbacks (sales commissions) from those investments (which is why they significantly underperform.)   They also offer products which are unnecessarily complex meant to confuse customers and hide fees. One mark of trouble is \"early exit\" fees, which they need to recoup the sales commission they already paid out.  Unfortunately, one of those people is you.  You are treating this like a windfall, falling into old, often-repeated cliché of \"lottery-win thinking\".  \"Gosh, there's so much money there, what could go wrong?\"  This always ends in disaster and destitution, on top of your other woes.  It's not a windfall.  They gave you just enough money to live on - barely. Because these lawyers and judges do this all day every day, and they know exactly how much capital will replace a lifelong salary, and if anything you got cheated a bit.  Read on.   You don't want to feel like greedy Scrooge, hoarding every penny.  I get that.  But generous spending won't fix that.  What will is financial education, and once you have real understanding and certainty about your financial situation, you will be able to both provide for yourself and be giving in a sensible manner.   This stuff isn't taught in school.  If it was, there'd be a lot more millionaires, because wealth isn't about luck, it's about intelligent management of money.  Good advisers do exist. They're hard to find.  Good advisors work only one way: for a flat rate or hourly fee.  This is called a \"Fee-only advisor\".  S/he never takes commissions.  Beware of brokers who normally work on commission but will happily take an upfront fee.  Even if they promise to hand you their commission check, they're still recommending you into the same sub-par investments because that's their training! I get the world of finance is extremely confusing and it's hard to know where to start.  Just make one leap of faith with me: You can learn this.  One place it's not confusing: University endowments.  They get windfalls just like you, and they need to manage it to support them for a very long time, just like you.  Endowments are very closely watched by the smartest people in finance -- no lottery fever here. It's agreed by all that there is one best way to invest an endowment.  And it's mandatory by law.  An endowment is a chunk of money (say, $1.2 million) that must fund a purpose (say, a math professorship or \"chair\") in perpetuity.  You're not planning to live quite that long, but when you're in your 20's, the investment strategy is the same.  The endowment is designed to generate income of some amount, on average, over the long term.  You can draw from the endowment even in \"down years\".  The rule of thumb is 4-6% is a sustainable rate that won't overtax the endowment (usually, but you have to keep an eye on it). On $1.2M, that's $48,000 to $72,000 per year.  Not half bad.  See, I told you it could work.  Read Jane Austen?  Mister Darcy, referred to as a gentleman of 10,000 pounds -- meaning his assets were many times that, but they yield income of £10,000 a year.  Same idea.  Keep in mind that you need to pay taxes. But if you plan your investments so you're holding them more than a year, you're in the much lower 0-10-15% capital gains tax bracket.  So, here's where I'd like you to go.   I would say more, but this will give you quite an education by itself.  Say you gave all your money to me.  And said \"Your nonprofit needs an executive director. Fund it. In perpetuity.\"  I'd say \"Thank you\", \"you're right\", and I'd create an endowment and invest it about like this.  That is fairly close to the standard mix you'll find in most endowments, because that is what's considered \"prudent\" under endowment law (UPMIFA). I'd carry all that in a Vanguard or Fidelity account and follow Bogle's advice on limiting fees.  That said, dollar-cost-averaging is not a suicide pact, and bonds are ugly right now (for reason Suze Orman describes) and real estate seems really bubbly right now... so I'd back out of those for now.   I'd aim to draw about $60k/year out of it or 5%, and on average, in the very long term, the capital should grow. I would adjust it downward somewhat if the next few years are a hard recession, to avoid taking too much out of the capital... and resist the urge to take more out in boom years, because that is your hedge against the next recession. Over 7% is not prudent per the law (absent very reasonable reasons). UPMIFA doesn't apply to you, but I'd act as if it did.  A very reasonable reason to take more than 7% would be to shift investment into a house for living in.  I would aim for a duplex/triplex to also have income from the property, if the numbers made sense, which they often don't in California, but that's another question.  At your financial level -- never, never, never give cash to a charity.  You will get marked as a \"soft target\" and every commercial fundraiser on earth will stalk you for the rest of your life. At your level, you open a Donor Advised Fund, and let the Fund do your giving for you.  Once you've funded it (which is tax deductible) you later tell them which charities to fund when.  They screen out fake charities and protect your identity. I discuss DAFs at length here.  Now when \"charities\" harass you for an immediate handout, just tell them that's not how you support charities.\n",
            "\n",
            "========== Rank 44 ==========\n",
            "Do I need an Investment Adviser?  No, but you may want to explore the idea of having one. Is he going to tell me anything that my accountant can't?  Probably. How much expertise are you expecting from your accountant here? Do you think your accountant knows everything within the realms of money from taxes, insurance products, investments and all your choices and what would work or wouldn't? Seems like it could be a tall order to my mind. My accountant did say to come to him for advice on investment/business   issues. So, he is willing, but is he able? Not asking about his   competence, but rather \"is there something that only an Investment   Adviser can provide, by law, that an accountant can't\"? Not that I know though don't forget how much expertise are you expecting here from one person. Is this person intended to answer all your money questions? But isn't that something that my accountant could/should do? Perhaps though how well are you expecting one person to be aware of so much stuff? I want you to know all the tax law so I can minimize taxes, maximize my investment returns, cover me with adequate insurance, and protect my savings seems like a bit much to put on one entity. Do I need either of them? Won't the Internet and sites like this one   suffice? Need no. However, how much time are you prepared to spend learning the basics of strategies that work for you? How much money are you prepared to put into things to learn what works and doesn't? While it is your decision, consider how to what extent do you diagnose your medical issues through the internet versus going to see a doctor? Be careful of how much of a do it yourself approach you want to go here and recognize that there are multiple approaches that may work. The question is which trade-offs are OK for you.\n",
            "\n",
            "========== Rank 45 ==========\n",
            "Alright so you have $12,000 and you want to know what to do with it. The main thing here is, you're new to investments. I suggest you don't do anything quick and start learning about the different kinds of investment options that can be available to you with returns you might appreciate.  The most important questions to ask yourself is what are your life goals? What kind of financial freedom do you want, and how important is this $12,000 dollars to you in achieving your life goals.  My best advice to you and to anyone else who is looking for a place to put their money in big or small amounts when they have earned this money not from an investment but hard work is to find a talented and professional financial advisor. You need to be educated on the options you have, and keep them in lines of what risks you are willing to take and how important that principal investment is to you. Investing your money is not easy at all, and novices tend to lose their money a lot. The same way you would ask a lawyer for law advice, its best to consult a financial planner for advice, or so they can invest that money for you.\n",
            "\n",
            "========== Rank 46 ==========\n",
            "It sounds like the kinds of planners you're talking to might be a poor fit, because they are essentially salespersons selling investments for a commission. Some thoughts on finding a financial planner The good kind of financial planner is going to be able to do a comprehensive plan - look at your whole life, goals, and non-investment issues such as insurance. You should expect to get a document with a Monte Carlo simulation showing your odds of success if you stick to the plan; for investments, you should expect to see a recommended asset allocation and an emphasis on low-cost no-commission (commission is \"load\") funds. See some of the other questions from past posts, for example What exactly can a financial advisor do for me, and is it worth the money? A good place to start for a planner might be http://napfa.org ; there's also a franchise of planners providing hourly advice called the Garrett Planning Network, I helped my mom hire someone from them and she was very happy, though I do think your results would depend mostly on the individual rather than the franchise. Anyway see http://www.garrettplanningnetwork.com/map.html , they do require planners to be fee-only and working on their CFP credential. You should really look for the Certified Financial Planner (CFP) credential. There are a lot of credentials out there, but many of them mean very little, and others might be hard to get but not mean the right thing. Some other meaningful ones include Chartered Financial Analyst (CFA) which would be a solid investment expert, though not necessarily someone knowledgeable in financial planning generally; and IRS Enrolled Agent, which means someone who knows a lot about taxes. A CPA (accountant) would also be pretty meaningful. A law degree (and estate law know-how) is very relevant to many planning situations, too. Some not-very-meaningful certifications include Certified Mutual Fund Specialist (which isn't bogus, but it's much easier to get than CFP or CFA); Registered Investment Adviser (RIA) which mostly means the person is supposed to understand securities fraud laws, but doesn't mean they know a lot about financial planning. There are some pretty bogus certifications out there, many have \"retirement\" or \"senior\" in the name. A good question for any planner is \"Are you a fiduciary?\" which means are they legally required to act in your interests and not their own. Most sales-oriented advisors are not fiduciaries; they wouldn't charge you a big sales commission if they were, and they are not \"on your side\" legally speaking. It's a good idea to check with your state regulators or the SEC to confirm that your advisor is registered and ask if they have had any complaints. (Small advisors usually register with the state and larger ones with the federal SEC). If they are registered, they may still be a salesperson who isn't acting in your interests, but at least they are following the law. You can also see if they've been in trouble in the past. When looking for a planner, one firm I found had a professional looking web site and didn't seem sketchy at all, but the state said they were not properly registered and not in compliance. Other ideas A good book is: http://www.amazon.com/Smart-Simple-Financial-Strategies-People/dp/0743269942 it's very approachable and you'd feel more confident talking to someone maybe with more background information. For companies to work with, stick to the ones that are very consumer-friendly and sell no-load funds. Vanguard is probably the one you'll hear about most. But T. Rowe Price, Fidelity, USAA are some other good names. Fidelity is a bit of a mixture, with some cheap consumer-friendly investments and other products that are less so. Avoid companies that are all about charging commission: pretty much anyone selling an annuity is probably bad news. Annuities have some valid uses but mostly they are a bad deal. Not knowing your specific situation in any detail, it's very likely that 60k is not nearly enough, and that making the right investment choices will make only a small difference. You could invest poorly and maybe end up with 50K when you retire, or invest well and maybe end up with 80-90k. But your goal is probably more like a million dollars, or more, and most of that will come from future savings. This is what a planner can help you figure out in detail. It's virtually certain that any planner who is for real, and not a ripoff salesperson, will talk a lot about how much you need to save and so forth, not just about choosing investments. Don't be afraid to pay for a planner. It's well worth it to pay someone a thousand dollars for a really thorough, fiduciary plan with your interests foremost. The \"free\" planners who get a commission are going to get a whole lot more than a thousand dollars out of you, even though you won't write a check directly. Be sure to convert those mutual fund expense ratios and sales commissions into actual dollar amounts! To summarize: find someone you're paying, not someone getting a commission; look for that CFP credential showing they passed a demanding exam; maybe read a quick and easy book like the one I mentioned just so you know what the advisor is talking about; and don't rush into anything! And btw, I think you ought to be fine with a solid plan. You and your husband have time remaining to work with. Good luck.\n",
            "\n",
            "========== Rank 47 ==========\n",
            "I have money to invest. Where should I put it? Anyone who answers with \"Give it to me, I'll invest it for you, don't worry.\" needs to be avoided. If your financial advisor gives you this line or equivalent, fire him/her and find another. Before you think about where you should put your money, learn about investing. Take courses, read books, consume blogs and videos on investing in stocks, businesses, real estate, and precious metals. Learn what the risks and rewards are for each, and make an informed decision based on what you learned. Find differing opinions on each type of investment and come to your own conclusions for each. I for example, do not understand stocks, and so do not seriously work the stock market.  Mutual funds make money for the folks selling them whether or not the price goes up or down. You assume all the risk while the mutual fund advisor gets the reward. If you find a mutual fund advisor who cannot recommend the purchase of a product he doesn't sell, he's not an advisor, he's a salesman. Investing in business requires you either to intimately understand businesses and how to fund them, or to hire someone who can make an objective evaluation for you. Again this requires training. I have no such training, and avoid investing in businesses. Investing in real estate also requires you to know what to look for in a property that produces cash flow or capital gains. I took a course, read some books, gained experience and have a knowledgeable team at my disposal so my wins are greater than my losses. Do not be fooled by people telling you that higher risk means higher reward. Risks that you understand and have a detailed plan to mitigate are not risks. It is possible to have higher reward without increasing risk. Again, do your own research. The richest people in the world do not own mutual funds or IRAs or RRSPs or TFSAs, they do their own research and invest in the things I mentioned above.\n",
            "\n",
            "========== Rank 48 ==========\n",
            "Exactly what you do with the money depends on various personal choices you'll have to make for yourself.  Investing your money in Vanguard index funds such as the ones you mentioned is certainly one smart move.  However, I think you're quite right to be suspicious of an advisor with a 1% fee.  In many cases, such advisors are not worth their costs.  The thing to remember is that, typically with that type of fee structure, you always pay the costs, even if the advisor turns out to be wrong and your money doesn't grow. One thing to check is whether the advisor you mentioned is paid only by the fees he charges (a \"fee-only financial planner') , or whether he also makes money via the sales of financial products.  Some advisors earn money by selling you financial products (such as mutual funds), which can create a conflict of interest.  You can read about fee-only financial advisors and choosing a financial advisor on Investopedia.\n",
            "\n",
            "========== Rank 49 ==========\n",
            "You need to have them consult with a financial adviser that has a focus on issues for seniors. This is because they are beyond the saving for retirement phase and are now in the making-their-money-last phase. They also have issues related to health insurance, IRA RMDs, long term care insurance. The adviser will need to review what they have and determine how to make sure it is what they need. It is great idea for you to go along with them so you can understand what needs to be done. You will want an adviser that charges you a fee for making the plan, not one that makes a commission based on what products you buy or invest in.\n",
            "\n",
            "========== Rank 50 ==========\n",
            "Given what you state you should shop around for an advisor. Think of the time required to pursue your strategies that you list? They already have studied much of what you seek to learn about. Any good investor should understand the basics. This is Canadian based but many of the concepts are universal. Hope you find it helpful. http://www.getsmarteraboutmoney.ca/Pages/default.aspx\n",
            "\n",
            "CPU times: user 85.9 ms, sys: 6.03 ms, total: 91.9 ms\n",
            "Wall time: 92.9 ms\n"
          ]
        }
      ]
    },
    {
      "cell_type": "code",
      "metadata": {
        "colab": {
          "base_uri": "https://localhost:8080/",
          "height": 1000
        },
        "id": "e5952b31-4db0-4493-ab5a-c7d5969e2f68",
        "outputId": "b9c3a590-0766-406f-f36a-ed69bd34458c"
      },
      "source": [
        "# Save answer\n",
        "df = pd.DataFrame(columns=['Rank', 'Index', 'Answer'])\n",
        "for i,index in enumerate(top_20_index):\n",
        "    print(f\"========== Rank {i+1} ==========\")\n",
        "    print(answers_list[index])\n",
        "    print()\n",
        "    df = df.append({'Rank': i+1, 'Index': index, 'Answer': answers_list[index]}, ignore_index=True)\n",
        "\n",
        "df.to_csv('finetuned_bertbase_answers.csv', index=False)\n",
        "df.head()"
      ],
      "id": "e5952b31-4db0-4493-ab5a-c7d5969e2f68",
      "execution_count": 28,
      "outputs": [
        {
          "output_type": "stream",
          "name": "stdout",
          "text": [
            "========== Rank 1 ==========\n",
            "If your financial needs aren't complex, and mostly limited to portfolio management, consider looking into the newish thing called robo-advisers (proper term is \"Automated investing services\").  The difference is that robo-advisers use software to manage portfolios on a large scale, generating big economy of scale and therefore offering a much cheaper services than personal advisor would - and unless your financial needs are extremely complex, the state of the art of scaled up portfolio management is at the point that a human advisor really doesn't give you any value-add (and - as other answers noted - human advisor can easily bring in downsides such as conflict of interest and lack of fiduciary responsibility).  disclaimer: I indirectly derive my living from a company which derives a very small part of their income from a robo-adviser, therefore there's a possible small conflict of interest in my answer\n",
            "\n",
            "========== Rank 2 ==========\n",
            "If you are looking for an advisor to just build a portfolio and then manage it, a robo-advisor can be beneficial (especially if the alternative is doing it your self, assuming that you are not well versed in the markets). The primary risk with one is that it does not build a portfolio that accurately represents your needs and risk tolerance. Some firms base the number of questions they ask you on sign up based not on what is needed to get a good profile, but on how many before people decide that it is too much hassle and bail. That usually results in poorer profiles. Also a live advisor may be better at really getting at your risk tolerance. Many of day our risk tolerance is one thing but in reality we are not so risk tolerant.  Once the profile is built. The algorithms maintain your portfolio on a day by day basis. If rebalancing opportunities occur they take advantage of it.  The primary benefit of a robo-advisor is lower fees or smaller minimum account balances. The downside is the lack of human interaction and financial advise outside of putting together a portfolio.\n",
            "\n",
            "========== Rank 3 ==========\n",
            "Yes, there is a profession that does exactly what you're looking for.  It's called a fee-only financial advisor. These are professionals who (in the United States) enter into a fiduciary relationship with a client, meaning they are legally required to put your financial interests above all other considerations (such as any behind-the-scenes incentives to promote certain products).  Between that requirement and the fact that they are paid for their time (and not on commission), they have zero incentive to try to sell you anything that you do not need.  Their only job is to help you with your financial situation.  (Of course, some of them may be better than others.) See the profession's website here to find such an advisor near you. (Credit to Marketplace Money, the old name for Marketplace Weekend, for mentioning fee-only advisors at least 87 times per show.)\n",
            "\n",
            "========== Rank 4 ==========\n",
            "Most individuals do not need a personal financial advisor. If you are soon entering the world of work, your discretionary investments should be focused on index funds that you commit to over the long run. Indeed, the best advice I would give to anyone just starting out would be: For most average young workers, a financial advisor will just give you some version of the information above, but will change you for it. I would not recommend a financial advisor as a necessity until you have seriously complicated taxes. Your taxes will not be complicated. Save your money.\n",
            "\n",
            "========== Rank 5 ==========\n",
            "At 1.4 Million, you can definately afford a professional advisor who would give you the best advice taking into account all your goals and risk appetite.\n",
            "\n",
            "========== Rank 6 ==========\n",
            "Any fee based financial adviser should be able to help you. I don't think you need to worry about finding a 401K specific adviser. I'm not even sure that's a thing. A good place to start is the National Association of Personal Financial Advisors. The reason I specifically mentioned a fee based adviser is that the free ones are working on sales commissions, which may influence them to give advice that is in their own best interest more than yours.\n",
            "\n",
            "========== Rank 7 ==========\n",
            "If you don't have the time or interest to manage investments, you need a financial advisor.  Generally speaking, you're better served by an advisor who collects an annual fee based on a percentage of your account value. Advisors who are compensated based on transactions have a vested interest to churn your account, which is often not in your best interest. You also need to be wary of advisors who peddle expensive mutual funds with sales loads (aka kick-backs to the advisor) or annuities. Your advisor's compensation structure should be transparent as well.\n",
            "\n",
            "========== Rank 8 ==========\n",
            "Others have mentioned the term fiduciary but haven't really gone in to what that is. Despite the name \"financial advisor\" there is no legal (In the US) mandate as to what that means.  Often times a financial advisor is little more than a sales rep whose job it is to sell particular financial instruments.  These people will give you good generic advice such as \"make sure you have a nest egg\" and \"don't spend more than you make\".  However when the rubber hits the road in terms of how to save they will often recommend/insist/pressure a particular asset/security which doesn't necessarily meet your risk/reward preference/tolerance.  Often times the assets they pitch have high fees.  These people won't charge you for their time because their time is a loss leader for the commissions they make on selling their products. In contrast a fiduciary's job responsibility is to look out for your interests.  They shouldn't receive any kind of payment based on what assets you buy.  This means that you have to pay them for their time. The NAPFA website seems to have good ideas on choosing an advisor. http://www.napfa.org/HowtoFindAnAdvisor.asp\n",
            "\n",
            "========== Rank 9 ==========\n",
            "You need to find a fiduciary advisor pronto. Yes, you are getting a large amount of money, but you'll probably have to deal with higher than average health expenses and lower earning potential for years to come. You need to make sure the $1.2 million lasts you, and for that you need professional advice, not something you read on the Internet. Finding a knowledgeable advisor who has your interests at heart at a reasonable rate is the key here.  These articles are a good start on what to look for: http://www.investopedia.com/articles/financialcareers/08/fiduciary-planner.asp https://www.forbes.com/sites/janetnovack/2013/09/20/6-pointed-questions-to-ask-before-hiring-a-financial-advisor/#2e2b91c489fe http://www.investopedia.com/articles/professionaleducation/11/suitability-fiduciary-standards.asp You should also consider what your earning potential is. You rule out college but at 26, you can have a long productive career and earn way more money than the $1.2 million you are going to get.\n",
            "\n",
            "========== Rank 10 ==========\n",
            "That your asking is a good first step towards taking control of your future. But truly, you must seek the advice of a personal consultant that is much more in tune with your finances that anyone out here in the public will be.  You can get this type of advice locally, or if you want something online, I suggest oDesk or something similar to find a large pool of people and to efficiently find the right person for suited for your situation.\n",
            "\n",
            "========== Rank 11 ==========\n",
            "In my experience financial advisors do not normally assist with budgeting and personal everyday finance. There certainly are people who do that, but you would normally only consult them when you have financial difficulties, especially debt. The more common find of financial advisor is mostly focussed on advising you about savings and investments. A lot work for banks and investment companies. They will usually advise you for free, the downside being that they will only recommend their company's products. This may or may not be a bad thing, depending on the company. Others will charge you a commission on purchases, and their advice will be more neutral. This question will also be interesting: Are all financial advisors compensated in the same way?\n",
            "\n",
            "========== Rank 12 ==========\n",
            "The way this works, as I understand it, is that financial advisers come in two kinds. Some are free to recommend you any financial products they think fit, but many are restricted in what they can recommend. Most advisers who work for finance companies are the second kind, and will only offer you products that their company sells. I believe they should tell you up front if they are the second kind. They should certainly tell you that if you ask. So in essence, your Scotiabank advisor is not necessarily making bad decisions for you - but they are restricted in what they will offer, and will not tell you if there is a better product for you that Scotiabank doesn't sell. In most cases, 'management fees' means something you pay to the actual managers of the fund you buy, not to the person who sells you the fund. You can compare the funds you are invested in yourself, both for performance and for the fees charged. Making frequent unnecessary changes of investment is another way that an advisor can milk you for money, but that is not necessarily restricted to bank-employed advisors. if you think that is happening to you, ask question, and change advisors if you are not happy.\n",
            "\n",
            "========== Rank 13 ==========\n",
            "Whether your financial status is considered \"OK\" depends on your aspirations.  You aren't spending more than you earn and have no debt.  That puts you in the category of OK in my book, but the information in your post indicates that you would benefit from some financial advice--100 grand sounds like a lot of money to have in a bank unless you are on the verge of spending it. Financial advisors come in various shapes and sizes.  Many will charge you a lot for what turns out to be helpful advice in the first meeting, but very little value-added thereafter.  Some don't have the best incentives (they may be incentivized to encourage you to put your money into certain funds, for example). There are many financial advisors (of sorts) that you have access to that won't cost you anything.  For example, if you have a 401(k) at work, I bet there is a representative from the plan administrator that will meet with you for free.  If you open a brokerage account or IRA at any place (Fidelity, Vanguard, etc.) you can easily talk with one of their reps and get all sorts of advice.  My personal take is to meet with anyone who will meet with me for free, but not to pay anyone for this service.  It's too easy to get good advice and paying for it doesn't guarantee that you get better advice. Your financial situation will depend primarily on a few things you have not mentioned here.  For example, How much are you setting aside for retirement and what are your retirement goals?  This is something lots of people can give you advice on, but we don't know what market returns will be going forward so we don't really know.  One bit of advice that may benefit you is how to set aside money for retirement in the most tax advantaged way. How much do you feel that you need saved up for large expenses?  Thinking of starting a family?  How many months worth of income are you comfortable having set aside? What is your tolerance of risk?  If you put your money in risky assets, you may make more, but you may also actually lose money.  Those are the questions a financial advisor will ask about.  Once you have his/her advice--and preferrably after talking to a few advisors--you can make your own decision. Basically, your options are: Rules of thumb: Save only what makes sense to save in banks given your expected needs for cash. Put a lot in tax advantaged accounts (don't give Uncle Sam any gifts). Then look at financial and real investments. There are a number of free resources on the internet.  For example FutureAdvisor.  Or you can hit up the forums at BogleHeads.  Those guys give and receive financial advice as a hobby.  They aren't professionals, but you can get a lot of varying ideas and make up your own mind, which to me is better than (just) asking a professional. BTW, regarding the ESPP: these plans often give you a discount on stock and can therefore be a good idea.  Just be sure you don't hold the stock longer than you need to.  It's generally a bad idea to concentrate your wealth in any single investment, especially one highly correlated with your background risk (i.e., if the company does poorly you will already be worse off because you may lose your job or see fewer advancement opportunities. No need to add losses in your savings to that).  1 Please note: I am neither advocating nor discouraging buying guns, gold, or other controversial real assets.  I'm just giving examples of items some people buy as part of their wealth-preservation strategy.\n",
            "\n",
            "========== Rank 14 ==========\n",
            "Yes, maybe for themselves, but for you that depends on quite a number of things. But not all advisors are scum, but accept the fact that you are their cash cow and you are there for their takings. Some advisors are true to their professions and advise ethically, trying to get the best for their clients. So search for a good advisor rather than a cheap one. And regarding the mortgage you are talking about, the mortgage provider and the mortgage taker don't deal directly, but use their solicitors. Every party wants the least of legal hassles for their transactions and get the best legal help. The financial advisor maybe both rolled into one or he has legal practitioners in his firm who would do the legal job after he takes care of the financial matters. Seems a cost effective workshop.\n",
            "\n",
            "========== Rank 15 ==========\n",
            "I think the OP is getting lost in designations.  Sounds to me that what he wants is a 'financial advisor' not an 'investment advisor'.  Does he even have investments?  Does he want to be told which securities to buy?   Or is he wanting advice on overall savings, insurance, tax-shelters, retirement planning, mortgages, etc.  Which is a different set of skills - the financial advisor skill set. Accountants don't have that skill set.  They know operating business reporting, taxes and generally how to keep it healthy and growing.  They can do personal tax returns (as a favour to only the owners of the business they keep track of usually). IMO they can deal with the reporting but not the planning or optimization. But IMO the OP should just read up and learn this stuff for himself.  Accreditation mean nothing.  Eg.  the major 'planner' brand teaches factually wrong stuff about RRSPs - which are the backbone of Canadian's finances.\n",
            "\n",
            "========== Rank 16 ==========\n",
            "I thought the Finance Buff made a pretty solid argument for a financial advisor the other day: http://thefinancebuff.com/the-average-investor-should-use-an-investment-advisor-how-to-find-one.html But 1.5% is too expensive. The blog post at Finance Buff suggests several alternatives. He also has the great suggestion to use Vanguard's cheap financial planning service if you go with Vanguard. A lot of investing advice fails to consider the human factor. Sure it'd be great to rebalance exactly every 6 months and take precisely the amount of risk to theoretically maximize returns. But, yeah right. It's well-known that in the aggregate individual investors go to cash near market bottoms and then buy near market tops. It's not that they don't know the right thing to do necessarily, it's just that the emotional aspect is stronger than any of us expect. You shouldn't rely on sticking to your investments any more than you rely on sticking to your diet and exercise program ;-) the theoretically optimal solution is not the real-world-people-are-involved optimal solution. My own blog post on this suggests a balanced fund rather than a financial advisor, but I think the right financial advisor could well be a better approach: http://blog.ometer.com/2010/11/10/take-risks-in-life-for-savings-choose-a-balanced-fund/ Anyway, I think people are too quick to think of the main risk as volatility, and to think of investing as simple. Sure in theory it is simple. But the main risk is yourself. Fear at market bottoms, greed at market tops, laziness the rest of the time... so there's potential value in taking yourself out of the picture. The human part is the part that isn't simple. On whether to get a financial advisor in general (not just for investments), see also: What exactly can a financial advisor do for me, and is it worth the money?\n",
            "\n",
            "========== Rank 17 ==========\n",
            "There are several types of financial advisors. Some are associated with brokerages and insurance companies and the like. Their services are often free. On the other hand, the advice they give you will generally be strongly biased toward their own company's products, and may be biased toward their own profits rather than your gains. (Remember, anything free is being paid for by someone, and if you don't know who it's generally going to be you.) There are some who are good, but I couldn't give you any advice on finding them. Others are not associated with any of the above, and serve entirely as experts who can suggest ways of distributing your money based on your own needs versus resources versus risk-tolerance, without any affiliation to any particular company.  Consulting these folks does cost you (or, if it's offered as a benefit, your employer) some money, but their fiduciary responsibility is clearly to you rather than to someone else. They aren't likely to suggest you try anything very sexy, but when it comes to your primary long-term savings \"exciting\" is usually not a good thing. The folks I spoke to were of the latter type. They looked at my savings and my plans, talked to me about my risk tolerance and my goals, picked a fairly \"standard\" strategy from their files, ran simulations against it to sanity-check it, and gave me a suggested mix of low-overhead index fund types that takes almost zero effort to maintain (rebalance occasionally between funds), has acceptable levels of risk, and (I admit I've been lucky) has been delivering more than acceptable returns. Nothing exciting, but even though I'm relatively risk-tolerant I'd say excitement is the last thing I need in my long-term savings. I should actually talk to them again some time soon to sanity-check a few things; they can also offer advice on other financial decisions (whether/when I might want to talk to charities about gift annuity plans, whether Roth versus traditional 401(k) makes any difference at all at this point in my career, and so on).\n",
            "\n",
            "========== Rank 18 ==========\n",
            "A financial advisor is a service professional.  It is his/her job to do things for you that you could do for yourself, but you're either too busy to do it yourself (and you want to pay somebody else), or you'd rather not. Just like some people hire tax preparers, or maids, or people to change their oil, or re-roof their houses. Me, I choose to self-manage.  I get some advise from Fidelity and Vanguard.  But we hired somebody this year to re-roof our house and someone else to paint it.\n",
            "\n",
            "========== Rank 19 ==========\n",
            "Find a good financial advisor that is willing to teach you and not just interested in making a commission on your net worth. Talk to them and talk some more. Go slow and don't make impulsive buying decisions. If you don't understand it then don't buy it. Think long term - how do I turn this 250K into 2.5M? Congrats on the savings!\n",
            "\n",
            "========== Rank 20 ==========\n",
            "You want CFP or CFA who is also a fiduciary, meaning that by law they have to put your interests ahead of their own. Financial planners who are not fiduciaries can, and often do, recommend investment vehicles that earn them the most commission with little regard of your financial goals. If you already have $500,000 to invest and racking up $100,000 a month you probably qualify for most institutions private client programs. That means that the firm/advisor will look at your financial situation and come up with a custom-tailored investment plan for you which should also include tax planning. I would start with whatever financial institutions you already work with - Schwab, your bank etc. Set up a meeting and see what they have to offer. Make sure you interrogate them about their fees, their licenses/certifications and above all if they are a fiduciary.\n",
            "\n",
            "========== Rank 21 ==========\n",
            "If you are making that much, don't waste your time here. Pay a few hundred bucks for a consultation with a fee-only certified financial planner. (Not one of the \"free\" services, which make their money via commissions on sales and are thus motivated to direct you to whatever gets them the largest commission.) In fact, in your bracket you might want to consider hiring someone to manage your portfolio for you on an ongoing basis. A good one will start by asking what your goals are, over what timeframe, and will help you determine how you feel about risk and volatility. From that information they will be able to suggest a strategic mix of kinds of investments which is balanced for those constraints.\n",
            "\n",
            "========== Rank 22 ==========\n",
            "Many of my friends said I should invest my money on stocks or something else, instead of put them in the bank forever. I do not know anything about finance, so my questions are: First let me say that your friends may have the best intentions, but don't trust them. It has been my experience that friends tell you what they would do if they had your money, and not what they would actually do with their money. Now, I don't mean that they would be malicious, or that they are out to get you.  What I do mean, is why would you take advise from someone about what they would do with 100k when they don't have 100k. I am in your financial situation (more or less), and I have friends that make more then I do, and have no savings. Or that will tell you to get an IRA -so-and-so but don't have the means (discipline) to do so. Do not listen to your friends on matters of money. That's just good all around advise. Is my financial status OK? If not, how can I improve it? Any financial situation with no or really low debt is OK. I would say 5% of annual income in unsecured debt, or 2-3 years in annual income in secured debt is a good place to be. That is a really hard mark to hit (it seems). You have hit it. So your good, right now. You may want to \"plan for the future\". Immediate goals that I always tell people, are 6 months of income stuck in a liquid savings account, then start building a solid investment situation, and a decent retirement plan. This protects you from short term situations like loss of job, while doing something for the future.   Is now a right time for me to see a financial advisor? Is it worthy? How would she/he help me? Rather it's worth it or not to use a financial adviser is going to be totally opinion based. Personally I think they are worth it. Others do not. I see it like this. Unless you want to spend all your time looking up money stuff, the adviser is going to have a better grasp of \"money stuff\" then you, because they do spend all their time doing it. That being said there is one really important thing to consider. That is going to be how you pay the adviser. The following are my observations. You will need to make up your own mind.  Free Avoid like the plague. These advisers are usually provided by the bank and make their money off commission or kickbacks. That means they will advise you of the product that makes them the most money. Not you.  Flat Rate These are not a bad option, but they don't have any real incentive to make you money. Usually, they do a decent job of making you money, but again, it's usually better for them to advise you on products that make them money. Per Hour These are my favorite. They charge per hour. Usually they are a small shop, and will walk you through all the advise. They advise what's best for you, because they have to sit there and explain their choices. They can be hard to find, but are generally the best option in my opinion.   % of Money These are like the flat rate advisers to me. They get a percentage of the money you give them to \"manage\". Because they already have your money they are more likely to recommend products that are in their interest. That said, there not all bad. % or Profit These are the best (see notes later). They get a percentage of the money they make for you. They have the most interest in making you money. They only get part of what you get, so there going to make sure you get the biggest pie, so they can get a bigger slice. Notes In the real world, all advisers are likely to get kickbacks on products they recommend. Make sure to keep an eye for that. Also most advisers will use 2-3 of the methods listed above for billing. Something like z% of profit +$x per hour is what I like to see. You will have to look around and see what is available.  Just remember that you are paying someone to make you money (or to advise you on how to make money) so long as what they take leaves you with some profit your in a better situation then your are now. And that's the real goal.\n",
            "\n",
            "========== Rank 23 ==========\n",
            "The nature of this question (finding a financial adviser) can make it a conundrum. Those who have little financial experience are often in the greatest need of a financial adviser and at the same time are the least qualified to select one. I'm not putting you or anyone in particular in this category. And of course it's a sliding scale: In general the more capable you are of running your own finances the more prepared you are to answer this question. With that said, I would recommend backing up half a step. Consider advisers other than strictly fee-only advisers. Perhaps you have already considered this decision. But perhaps others reading this have not. My (Ameriprise) adviser charges a monthly (~$50) fee, but also gets percentage-based portions of certain investments. Based on a $150/hr rate that amounts to four hours per year. Does he spend four hours per year on my account? Well so far he does (~2 yrs). But that is determined primarily by how much interaction I choose to have with him. (I suppose I could spend more time asking him questions and less time on this forum. :P) I have never fully understood the gravitation towards fee-based advisers on principle. I guess the theory is they are not making biased decisions about your investments because they don't have as much of a stake in how well your investments to do. I don't necessarily see that as an advantage. It seems they would have less of an incentive to ensure the growth of your investments. Although if you're nearing retirement then growth isn't your biggest concern. Perhaps a fee-based adviser makes more sense in that scenario. Whatever pay structure your adviser uses, it would seem to make sense to consider a successful adviser with a good client base. This implies that the adviser knows what he/she is doing. (But it could also just be a sign that they are good at marketing themselves.) If your adviser has a good base of wealthy clients then choosing a strictly-fee based adviser would mitigate the risk of your adviser having less incentive to consider your portfolio vs that of more wealthy clients. To more directly answer your question I suggest asking several of your adviser candidates for advice on choosing an adviser. I suspect you will get some good advice as well as good insight on the integrity and honesty of the adviser.\n",
            "\n",
            "========== Rank 24 ==========\n",
            "Traditional brokers There are tons of players in this market, especially in USA. You have traditional brokers, brokers tied to your bank and a bunch of startups. The easiest is probably a broker tied to your bank, because you probably don't have to wait to fund your brokerage account and can start trading immediately. Often the older/traditional brokers don't have very intuitive interfaces, it's the startups who do a better job at this. But honestly it doesn't really matter, because you can use reporting services that are different from the services you use to execute your trades. Meaning that you only use the interface of your broker to execute trades (buy or sell), and use third party services to monitor your holdings. Monitoring services: Google Finance, Yahoo Finance, Sigfig, Morningstar,... are services allowing you to monitor your holdings. But you can't execute trades with them. Start-ups: Then there are a bunch of startups that offer investment services besides the traditional brokers. Start-up > Robinhood The most ambitious one is Robinhood, which offers the same service as a traditional broker, but completely free (most of the traditional brokers charge a flat fee and/or percentage when buying/selling hodlings) and with an intuitive interface. They're mobile first, but announced they will be launching their service on the web soon. Start-up > Acorns Another popular, mobile-first start-up is Acorns. They offer a lazy-investing service which rounds your everyday purchases and uses the change to invest. It's great when investing is not on your mind, but you still want to invest without realizing it. Start-ups > Robo-advisors Robo-advisors auto-invest your money across a bunch of funds picked based on your risk profile. Because the robo-advisers are fairly new, they often have the most intuitive interfaces. These robo-advisors often don't allow you to pick individual holdings, so these services are best when you want to passively invest. Meaning you don't want to look at it very often, and let them do the investing for you. There are tons of robo-advisor start-ups: Betterment, Wealthfront, Personal Capital, Sigfig, FutureAdvisor,... Also bigger parties jumped on this trend with their offerings: Schwab Intelligent Portfolios, Ally Managed Portfolio, Vanguard Personal Advisor, etc. Summary: It's fun to pick individual stocks, but if you start out it can be overwhelming. Robinhood is probably the best start, they have reduced functionality, but gets you going with an attractive interface. But soon you'll realize it's extremely hard to beat the market. Meaning that hand-picking stocks statistically gives you a worse return than just buying into the general stock market (like S&P500). So you can decide to just buy one fund with a traditional broker that covers the general stock market. Or you can decide to try out one of the many robo-advisors. They haven't been around that long, so it's hard to tell how effective these are and whether they beat the market. If you're young, and you believe in start-ups (who often try to challenge the traditional players), try out one of the robo-advisors. If you want to play a bit and are addicted to your smartphone, try out Robinhood. If you are addicted to your phone, but don't want to check up on your investments all the time, go for Acorns. Of course you can combine all these. Lastly, there are tons of cryptocurrencies which might give you a large return. Tons of startups offer intuitive interfaces to trade cryptocurrencies like Coinbase, Gemini, Kraken. But beware, there is a lot of risk involved in trading cryptocurrencies, it's completely unregulated etc. But definitely check them out. Oh, and you can also invest by giving out loans through LendingClub, Prosper etc. Who can you trust? Above gives you an overview of your options intermingled with some reasoning. But regarding your question \"who can I trust\" in terms of advice, it's up to yourself. Most traditional broker services don't give you any advice at all, you're on your own. Robo-advisors don't give you advice either, but let their proprietary algorithm do the job. Are these reliable? Nobody can tell, they haven't been around long enough, and they need to go through a bear market (a crash) to see how they respond during rough times. Some robo-advisors offer you personal consultancy (I believe Sigfig and PersonalCapital) does this (limited to a few hours per year). But obviously they'll try to promote their robo-advisor services.\n",
            "\n",
            "========== Rank 25 ==========\n",
            "In addition to a fee-only advisor, brought up by dg99, you could consider asking your questions on message boards such as Bogleheads.org. I have found the advice amazing, obviously conflict-free, and free.\n",
            "\n",
            "========== Rank 26 ==========\n",
            "If you use a financial planner not only should they be a fiduciary but you should just pay them an hourly rate once a year instead of a percentage unless the percentage is cheaper at this time. To find a good one, go to the National Association of Personal Financial Advisers website, NAPFA.org. Another good resource is Garrett Planning Network: GarrettPlanningNetwork.com.\n",
            "\n",
            "========== Rank 27 ==========\n",
            "To evaluate any advice, this lists some of the things to consider: There are good advisors out there. There are also Bernie Madoffs who give the entire industry a black eye. In the end, the best path is to educate yourself, read as much as you can before you invest. Better to lose a bit by staying out of the market than to lose it all by getting scammed.\n",
            "\n",
            "========== Rank 28 ==========\n",
            "I am a Certified Financial Planner and provide tactical advice on everything from budgeting to saving for retirement. You do not have to have any series exams or a CFP to do this work, although it helps give you credibility. As long as you DO NOT provide investment advice, you likely do not need to register as an investment advisor or need any certification.\n",
            "\n",
            "========== Rank 29 ==========\n",
            "Be very careful to hold on tight to your money! I agree with paying for an investment advisor, but I would say use at least two to get different viewpoints, and get credentials and references! Don't let relatives convince you to invest in their business, or help them out, or any other such nonsense. Real estate still is one of the best investments out there in my opinion. You could buy a fixer upper and rent it out?\n",
            "\n",
            "========== Rank 30 ==========\n",
            "I think the other answers raise good points.  But to your question, \"How do I find an honest financial adviser\" ask your friends and family.  See who they talk to and confide in.  Go meet that person, understand what they do and how they view things and if you gel, great.  Honesty and strong ethics exist in individuals regardless of laws. What is it you're trying to accomplish?  You just have some money you want to put aside?  You want to save for something?  You want to start a budget or savings plan?  Your first step may be talking to a tax person, not an investment adviser.  Sometimes the most significant returns are generated when you simply retain more of your earnings and tax people know how to accomplish that.  You're just graduating university, you're just going to get your first job.  You don't need to hunt for the right heavy hitter 30% gains generating financial adviser.  You need to establish your financial foundation.  Crawl, walk, then run. There are some basics (that transcend international borders).  If you don't know much about investing, most (if not all) retirement and individual brokerage type accounts will give you access to some kind of market index fund.  You don't need to multinationally diversify in to high fee funds because \"emerging markets are screaming right now.\"  Typically, over a few years the fees you pay in the more exotic asset classes will eat up the gains you've made compared to a very low fee market index fund. You can open free accounts at a number of financial institutions.  These free accounts at these banks all have a list of zero commission zero load funds, all have something resembling an index fund.  You can open your account for free, deposit your money for free, and buy shares in an index fund for free.\n",
            "\n",
            "========== Rank 31 ==========\n",
            "Technically, anyone who advises how you should spend or proportion your money is a financial adviser.  A person that does it for money is a Financial Advisor (difference in spelling). Financial Advisors are people that basically build, manage, or advise on your portfolio.  They have a little more institutional knowledge on how/where to invest, given your goals, since they do it on a daily basis. They may know a little more than you since, they deal with many different assets: stocks, ETFs, mutual funds, bonds, insurances (home/health/life), REITs, options, futures, LEAPS, etc. There is risk in everything you do, which is why what they propose is generally according to the risk-level you want to assume.  Since you're younger, your risk level could be a little higher, as you approach retirement, your risk level will be lower.  Risk level should be associated with how likely you're able to reacquire your assets if you lose it all as well as, your likelihood to enjoy the fruits from your investments. Financial Advisors are great, however, be careful about them.  Some are payed on commissions, which are given money for investing in packages that they support.  Basically, they could get paid $$ for putting you in a losing situation.  Also be careful because some announce that they are fee-based - these advisers often receive fees as well as commissions.  Basically, associate the term \"commission\" with \"conflict-of-interest\", so you want a fee-only Advisor, which isn't persuaded to steer you wrong. Another thing worth noting is that some trading companies (like e*trade) has financial services that may be free, depending how much money you have with them.  Generally, $50K is on the lower end to get a Financial Advisors.  There has been corruption in the past, where Financial Advisors are only given a limited number of accounts to manage, that means they took the lower-valued ones and basically ran them into the ground, so they could get newer ones from the lot that were hopefully worth more - the larger their portfolio, the more $$ they could make (higher fees or more commissions) and subjectively less work (less accounts to have to deal with), that's subjective, since the spread of the wealth was accross many markets.\n",
            "\n",
            "========== Rank 32 ==========\n",
            "I would start by talking to a Fee-Only Financial Planner to make sure the portfolio fits with your goals.  You can find a list here: http://www.napfa.org/\n",
            "\n",
            "========== Rank 33 ==========\n",
            "You may want to look into robo-investors like Wealthfront and Betterment. There are many others, just search for \"robo investor\".\n",
            "\n",
            "========== Rank 34 ==========\n",
            "The other answers are good, but not UK-specific. You need to look for an Independent Financial Advisor (IFA). These are regulated by the FCA and you pay them a time-based fee for their services, they do not take commission on the products they recommend to you.  The Government Money Advice Service page (hat tip to @AndyT in the comments on the question for the link) tells you how to go about finding one of these and what sort of questions to ask. Contrary to the note in the answer by @Harper, in the UK many IFAs do have perfectly nice offices, this is not a sign that should put you off.  Personal recommendations for IFAs are usually the best way to go but failing that there are directories of them and many will have an initial conversation with you for free to ensure you are aligned with each other.\n",
            "\n",
            "========== Rank 35 ==========\n",
            "Usually your best bet for this sort of thing is to look for referrals from people you trust. If you have a lawyer or other trusted advisor, ask them.\n",
            "\n",
            "========== Rank 36 ==========\n",
            "The answers you've received already are very good. I truly sympathize with your situation. In general, it makes sense to try to build off of existing relationships. Here are a few ideas: I don't know if you work for a small or large company, or local/state government. But if there is any kind of retirement planning through your workplace, make sure to investigate that. Those people are usually already paid something for their services by your employer, so they should have less of an interest in making money off you directly. One more thought: A no-fee brokerage company e.g. Charles Schwab. They offer a free one hour phone call with an investment adviser if you invest at least $25K. I personally had very good experiences with them. This answer may be too anecdotal and not specifically address the annuity dilemma you mentioned. That annunity dilemma is why you need to find someone you can trust, who is competent (see the credentials for financial advisers mentioned in the other answers), and will work the numbers out with you.\n",
            "\n",
            "========== Rank 37 ==========\n",
            "You want a fee-only advisor.  He charges like an architect or plumber: by the hour or some other \"flat fee\". That is his only compensation. He is not paid on commission at all.  He is not affiliated with any financial services company of any kind.   His office is Starbucks.  He does not have a well lit office like the commission broker down the street.  He does not want you to hand him your money - it stays in the brokerage account of your choice (within reason - some brokerage accounts are terrible and he'll tell you to get out of those).  He never asks for the password to your brokerage account.  Edit: The UK recently outlawed commission brokers.  These guys were competitive \"sales types\" who thrive on commissions, and probably went into other sales jobs.  So right now, everyone is clamoring for the few proper financial advisors available.  High demand is making them expensive.  It may not be cost-effective to hire an advisor; you may need to learn it yourself.  It's not that hard.  Ever hear of a plumber who works totally for free, and makes his money selling you wildly overpriced pipe?  That's what regular \"financial advisors\" are.   They sell products that are deliberately made unnecessarily complex. The purpose is first, to conceal sales commissions and high internal fees; and second to confuse you, so the financial world feels so daunting that you feel like you need their help just to navigate it.   They're trying to fry your brain so you'l just give up and trust them.   Products like whole life and variable annuities are only the poster children for how awful all of their financial products are.  These products exist to fleece the consumer without quite breaking the law.  Of course, everyone goes to see them because they have well lit offices in every town, and they're free and easy to deal with. Don't feel like you need to know everything about finance to invest.  You don't need to understand every complex financial product that the brokerage houses bave dreamed up: they are designed to conceal and confuse, as I discuss above, and you don't want them.  The core of it is fairly simple, and that's all you really need to know.   Look at any smaller university and how they manage their endowments. If whole life, annuities and those complex financial \"products\" actually worked, university endowments would be full of them.   But they're not!  Endowments are generally made of investments you can understand.  Partly because university boards are made of investment bankers who invented those products, and know what a ripoff they are.   Some people refuse to learn anything.  They are done with college and refuse to learn anything more.   I hope that's not you.   Because you should learn the workings of everything you're investing in.    If you don't understand it, don't buy itl  And a fee-only financial advisor won't ask you to.  1000 well-heeled, well-advised university endowments seek the most successful products on the market... And end up choosing products you can understand.  That's good news for you.\n",
            "\n",
            "========== Rank 38 ==========\n",
            "Is my financial status OK?  You have money for emergencies in the bank, you spend less than you earn. Yes, your status is okay. You will have a good standard of living if nothing changes from your status quo. How can I improve it? You are probably paying more in taxes than you would if you made a few changes. If you max out tax advantaged retirement accounts that would reduce the up-front taxes you are paying on your savings. Is now a right time for me to see a financial advisor?  The best time to see a financial advisor is any time that your situation changes. New job? Getting married? Having a child? Got a big promotion or raise? Suddenly thinking about buying a house? Is it worth the money? How would she/he help me? If you pick an advisor who has incentive to help you rather than just pad his/her own pockets with commissions, then the advice is usually worth the money. If there is someone whose time is already paid for, that may be better.  For example, if you get an accountant to help you with your taxes and ask him/her how to best reduce your taxes the next year, the advice is already paid-for in the fee you for the tax help. An advisor should help you minimize the high taxes you are almost certainly paying as a single earner, and minimize the stealth taxes you are paying in inflation (on that $100k sitting in the bank).\n",
            "\n",
            "========== Rank 39 ==========\n",
            "Obviously mate. Mortgage advisors don't have just one client, similarly why should you have only one advisor? it´s an open market. Don't worry about wasting their time, you are not wasting their time if you are considering a mortgage. then, in case you found a better deal with another mortgage advisor then that´s life - someone was better then them.\n",
            "\n",
            "========== Rank 40 ==========\n",
            "Another option to a human advisor is FutureAdvisor, a web service that (if it supports your 401k plan) gives personalized algorithmic advice on what you should hold in your 401(k) and other retirement accounts.  If it doesn't support your 401(k) plan just yet you can sign up to be emailed when your plan is added.  [Disclosure: I work here, but I believe in the product and it's designed to solve this exact problem so I'm mentioning it here]  Note from JoeTaxpayer - bolu's disclosure is much appreciated. The fee is $39/yr, with a free trial. Consider that a commissions based advisor won't even take on a $10K level account, and at $100K, you'd be hard pressed to gain by more than his 1% fee. So while I've not dug deeper into this site, a rules-based methodology is likely to be worth the cost if over time it gains you even a fraction of a percent compared to what you'd have done blindly.\n",
            "\n",
            "========== Rank 41 ==========\n",
            "I am sure there would be many views on the above topic, my take is that DIY takes the following: Now, for many, one or more of the other factors are missing. In this case, it is probably best to go for a financial adviser. There are others who have some of the above in place and are interested but probably cannot spend enough time. For them a middle ground of Mutual Funds probably is a good choice. Here they get to choose the fund they invest in and the fund manager manages the fund. For the people who have the above more or less in place and also are willing to take risk and learn, they probably can do a DIY for a while and find out the actual result. Just my views and opinion.\n",
            "\n",
            "========== Rank 42 ==========\n",
            "There is no rule of thumb (although some may suggest there is). Everybody will have different goals, investment preferences and risk tolerances. You need to figure this out by yourself by either education yourself in the type of investments you are interested in or by engaging (and paying for) a financial advisor. You should not be taking advice from others unless it is specifically geared for your goals, investment DNA and risk tolerance. The only advice I would give you is to have a plan (whether you develop it yourself or pay a financial advisor to develop one). Also, don't have all your savings sitting in cash, as long-term you will fall behind the eight ball in real returns (allowing for inflation).\n",
            "\n",
            "========== Rank 43 ==========\n",
            "Until you get some financial education, you will be vulnerable to people wanting your money.  Once you are educated, you will be able to live a tidy life off this-- which is exactly why this amount was awarded to you, rather than some other amount.    They gave you enough money.  This is not a lottery win.  I mean \"financial counselors\" who will want to help you with strategies to invest your money.  Every one will promise your money will grow.   The latter case describes every full-service broker, e.g. what will happen if you walk into EdwardJones.  This industry has a long tradition of charmingly selling investments which significantly underperform the market, and making their money by kickbacks (sales commissions) from those investments (which is why they significantly underperform.)   They also offer products which are unnecessarily complex meant to confuse customers and hide fees. One mark of trouble is \"early exit\" fees, which they need to recoup the sales commission they already paid out.  Unfortunately, one of those people is you.  You are treating this like a windfall, falling into old, often-repeated cliché of \"lottery-win thinking\".  \"Gosh, there's so much money there, what could go wrong?\"  This always ends in disaster and destitution, on top of your other woes.  It's not a windfall.  They gave you just enough money to live on - barely. Because these lawyers and judges do this all day every day, and they know exactly how much capital will replace a lifelong salary, and if anything you got cheated a bit.  Read on.   You don't want to feel like greedy Scrooge, hoarding every penny.  I get that.  But generous spending won't fix that.  What will is financial education, and once you have real understanding and certainty about your financial situation, you will be able to both provide for yourself and be giving in a sensible manner.   This stuff isn't taught in school.  If it was, there'd be a lot more millionaires, because wealth isn't about luck, it's about intelligent management of money.  Good advisers do exist. They're hard to find.  Good advisors work only one way: for a flat rate or hourly fee.  This is called a \"Fee-only advisor\".  S/he never takes commissions.  Beware of brokers who normally work on commission but will happily take an upfront fee.  Even if they promise to hand you their commission check, they're still recommending you into the same sub-par investments because that's their training! I get the world of finance is extremely confusing and it's hard to know where to start.  Just make one leap of faith with me: You can learn this.  One place it's not confusing: University endowments.  They get windfalls just like you, and they need to manage it to support them for a very long time, just like you.  Endowments are very closely watched by the smartest people in finance -- no lottery fever here. It's agreed by all that there is one best way to invest an endowment.  And it's mandatory by law.  An endowment is a chunk of money (say, $1.2 million) that must fund a purpose (say, a math professorship or \"chair\") in perpetuity.  You're not planning to live quite that long, but when you're in your 20's, the investment strategy is the same.  The endowment is designed to generate income of some amount, on average, over the long term.  You can draw from the endowment even in \"down years\".  The rule of thumb is 4-6% is a sustainable rate that won't overtax the endowment (usually, but you have to keep an eye on it). On $1.2M, that's $48,000 to $72,000 per year.  Not half bad.  See, I told you it could work.  Read Jane Austen?  Mister Darcy, referred to as a gentleman of 10,000 pounds -- meaning his assets were many times that, but they yield income of £10,000 a year.  Same idea.  Keep in mind that you need to pay taxes. But if you plan your investments so you're holding them more than a year, you're in the much lower 0-10-15% capital gains tax bracket.  So, here's where I'd like you to go.   I would say more, but this will give you quite an education by itself.  Say you gave all your money to me.  And said \"Your nonprofit needs an executive director. Fund it. In perpetuity.\"  I'd say \"Thank you\", \"you're right\", and I'd create an endowment and invest it about like this.  That is fairly close to the standard mix you'll find in most endowments, because that is what's considered \"prudent\" under endowment law (UPMIFA). I'd carry all that in a Vanguard or Fidelity account and follow Bogle's advice on limiting fees.  That said, dollar-cost-averaging is not a suicide pact, and bonds are ugly right now (for reason Suze Orman describes) and real estate seems really bubbly right now... so I'd back out of those for now.   I'd aim to draw about $60k/year out of it or 5%, and on average, in the very long term, the capital should grow. I would adjust it downward somewhat if the next few years are a hard recession, to avoid taking too much out of the capital... and resist the urge to take more out in boom years, because that is your hedge against the next recession. Over 7% is not prudent per the law (absent very reasonable reasons). UPMIFA doesn't apply to you, but I'd act as if it did.  A very reasonable reason to take more than 7% would be to shift investment into a house for living in.  I would aim for a duplex/triplex to also have income from the property, if the numbers made sense, which they often don't in California, but that's another question.  At your financial level -- never, never, never give cash to a charity.  You will get marked as a \"soft target\" and every commercial fundraiser on earth will stalk you for the rest of your life. At your level, you open a Donor Advised Fund, and let the Fund do your giving for you.  Once you've funded it (which is tax deductible) you later tell them which charities to fund when.  They screen out fake charities and protect your identity. I discuss DAFs at length here.  Now when \"charities\" harass you for an immediate handout, just tell them that's not how you support charities.\n",
            "\n",
            "========== Rank 44 ==========\n",
            "Do I need an Investment Adviser?  No, but you may want to explore the idea of having one. Is he going to tell me anything that my accountant can't?  Probably. How much expertise are you expecting from your accountant here? Do you think your accountant knows everything within the realms of money from taxes, insurance products, investments and all your choices and what would work or wouldn't? Seems like it could be a tall order to my mind. My accountant did say to come to him for advice on investment/business   issues. So, he is willing, but is he able? Not asking about his   competence, but rather \"is there something that only an Investment   Adviser can provide, by law, that an accountant can't\"? Not that I know though don't forget how much expertise are you expecting here from one person. Is this person intended to answer all your money questions? But isn't that something that my accountant could/should do? Perhaps though how well are you expecting one person to be aware of so much stuff? I want you to know all the tax law so I can minimize taxes, maximize my investment returns, cover me with adequate insurance, and protect my savings seems like a bit much to put on one entity. Do I need either of them? Won't the Internet and sites like this one   suffice? Need no. However, how much time are you prepared to spend learning the basics of strategies that work for you? How much money are you prepared to put into things to learn what works and doesn't? While it is your decision, consider how to what extent do you diagnose your medical issues through the internet versus going to see a doctor? Be careful of how much of a do it yourself approach you want to go here and recognize that there are multiple approaches that may work. The question is which trade-offs are OK for you.\n",
            "\n",
            "========== Rank 45 ==========\n",
            "Alright so you have $12,000 and you want to know what to do with it. The main thing here is, you're new to investments. I suggest you don't do anything quick and start learning about the different kinds of investment options that can be available to you with returns you might appreciate.  The most important questions to ask yourself is what are your life goals? What kind of financial freedom do you want, and how important is this $12,000 dollars to you in achieving your life goals.  My best advice to you and to anyone else who is looking for a place to put their money in big or small amounts when they have earned this money not from an investment but hard work is to find a talented and professional financial advisor. You need to be educated on the options you have, and keep them in lines of what risks you are willing to take and how important that principal investment is to you. Investing your money is not easy at all, and novices tend to lose their money a lot. The same way you would ask a lawyer for law advice, its best to consult a financial planner for advice, or so they can invest that money for you.\n",
            "\n",
            "========== Rank 46 ==========\n",
            "It sounds like the kinds of planners you're talking to might be a poor fit, because they are essentially salespersons selling investments for a commission. Some thoughts on finding a financial planner The good kind of financial planner is going to be able to do a comprehensive plan - look at your whole life, goals, and non-investment issues such as insurance. You should expect to get a document with a Monte Carlo simulation showing your odds of success if you stick to the plan; for investments, you should expect to see a recommended asset allocation and an emphasis on low-cost no-commission (commission is \"load\") funds. See some of the other questions from past posts, for example What exactly can a financial advisor do for me, and is it worth the money? A good place to start for a planner might be http://napfa.org ; there's also a franchise of planners providing hourly advice called the Garrett Planning Network, I helped my mom hire someone from them and she was very happy, though I do think your results would depend mostly on the individual rather than the franchise. Anyway see http://www.garrettplanningnetwork.com/map.html , they do require planners to be fee-only and working on their CFP credential. You should really look for the Certified Financial Planner (CFP) credential. There are a lot of credentials out there, but many of them mean very little, and others might be hard to get but not mean the right thing. Some other meaningful ones include Chartered Financial Analyst (CFA) which would be a solid investment expert, though not necessarily someone knowledgeable in financial planning generally; and IRS Enrolled Agent, which means someone who knows a lot about taxes. A CPA (accountant) would also be pretty meaningful. A law degree (and estate law know-how) is very relevant to many planning situations, too. Some not-very-meaningful certifications include Certified Mutual Fund Specialist (which isn't bogus, but it's much easier to get than CFP or CFA); Registered Investment Adviser (RIA) which mostly means the person is supposed to understand securities fraud laws, but doesn't mean they know a lot about financial planning. There are some pretty bogus certifications out there, many have \"retirement\" or \"senior\" in the name. A good question for any planner is \"Are you a fiduciary?\" which means are they legally required to act in your interests and not their own. Most sales-oriented advisors are not fiduciaries; they wouldn't charge you a big sales commission if they were, and they are not \"on your side\" legally speaking. It's a good idea to check with your state regulators or the SEC to confirm that your advisor is registered and ask if they have had any complaints. (Small advisors usually register with the state and larger ones with the federal SEC). If they are registered, they may still be a salesperson who isn't acting in your interests, but at least they are following the law. You can also see if they've been in trouble in the past. When looking for a planner, one firm I found had a professional looking web site and didn't seem sketchy at all, but the state said they were not properly registered and not in compliance. Other ideas A good book is: http://www.amazon.com/Smart-Simple-Financial-Strategies-People/dp/0743269942 it's very approachable and you'd feel more confident talking to someone maybe with more background information. For companies to work with, stick to the ones that are very consumer-friendly and sell no-load funds. Vanguard is probably the one you'll hear about most. But T. Rowe Price, Fidelity, USAA are some other good names. Fidelity is a bit of a mixture, with some cheap consumer-friendly investments and other products that are less so. Avoid companies that are all about charging commission: pretty much anyone selling an annuity is probably bad news. Annuities have some valid uses but mostly they are a bad deal. Not knowing your specific situation in any detail, it's very likely that 60k is not nearly enough, and that making the right investment choices will make only a small difference. You could invest poorly and maybe end up with 50K when you retire, or invest well and maybe end up with 80-90k. But your goal is probably more like a million dollars, or more, and most of that will come from future savings. This is what a planner can help you figure out in detail. It's virtually certain that any planner who is for real, and not a ripoff salesperson, will talk a lot about how much you need to save and so forth, not just about choosing investments. Don't be afraid to pay for a planner. It's well worth it to pay someone a thousand dollars for a really thorough, fiduciary plan with your interests foremost. The \"free\" planners who get a commission are going to get a whole lot more than a thousand dollars out of you, even though you won't write a check directly. Be sure to convert those mutual fund expense ratios and sales commissions into actual dollar amounts! To summarize: find someone you're paying, not someone getting a commission; look for that CFP credential showing they passed a demanding exam; maybe read a quick and easy book like the one I mentioned just so you know what the advisor is talking about; and don't rush into anything! And btw, I think you ought to be fine with a solid plan. You and your husband have time remaining to work with. Good luck.\n",
            "\n",
            "========== Rank 47 ==========\n",
            "I have money to invest. Where should I put it? Anyone who answers with \"Give it to me, I'll invest it for you, don't worry.\" needs to be avoided. If your financial advisor gives you this line or equivalent, fire him/her and find another. Before you think about where you should put your money, learn about investing. Take courses, read books, consume blogs and videos on investing in stocks, businesses, real estate, and precious metals. Learn what the risks and rewards are for each, and make an informed decision based on what you learned. Find differing opinions on each type of investment and come to your own conclusions for each. I for example, do not understand stocks, and so do not seriously work the stock market.  Mutual funds make money for the folks selling them whether or not the price goes up or down. You assume all the risk while the mutual fund advisor gets the reward. If you find a mutual fund advisor who cannot recommend the purchase of a product he doesn't sell, he's not an advisor, he's a salesman. Investing in business requires you either to intimately understand businesses and how to fund them, or to hire someone who can make an objective evaluation for you. Again this requires training. I have no such training, and avoid investing in businesses. Investing in real estate also requires you to know what to look for in a property that produces cash flow or capital gains. I took a course, read some books, gained experience and have a knowledgeable team at my disposal so my wins are greater than my losses. Do not be fooled by people telling you that higher risk means higher reward. Risks that you understand and have a detailed plan to mitigate are not risks. It is possible to have higher reward without increasing risk. Again, do your own research. The richest people in the world do not own mutual funds or IRAs or RRSPs or TFSAs, they do their own research and invest in the things I mentioned above.\n",
            "\n",
            "========== Rank 48 ==========\n",
            "Exactly what you do with the money depends on various personal choices you'll have to make for yourself.  Investing your money in Vanguard index funds such as the ones you mentioned is certainly one smart move.  However, I think you're quite right to be suspicious of an advisor with a 1% fee.  In many cases, such advisors are not worth their costs.  The thing to remember is that, typically with that type of fee structure, you always pay the costs, even if the advisor turns out to be wrong and your money doesn't grow. One thing to check is whether the advisor you mentioned is paid only by the fees he charges (a \"fee-only financial planner') , or whether he also makes money via the sales of financial products.  Some advisors earn money by selling you financial products (such as mutual funds), which can create a conflict of interest.  You can read about fee-only financial advisors and choosing a financial advisor on Investopedia.\n",
            "\n",
            "========== Rank 49 ==========\n",
            "You need to have them consult with a financial adviser that has a focus on issues for seniors. This is because they are beyond the saving for retirement phase and are now in the making-their-money-last phase. They also have issues related to health insurance, IRA RMDs, long term care insurance. The adviser will need to review what they have and determine how to make sure it is what they need. It is great idea for you to go along with them so you can understand what needs to be done. You will want an adviser that charges you a fee for making the plan, not one that makes a commission based on what products you buy or invest in.\n",
            "\n",
            "========== Rank 50 ==========\n",
            "Given what you state you should shop around for an advisor. Think of the time required to pursue your strategies that you list? They already have studied much of what you seek to learn about. Any good investor should understand the basics. This is Canadian based but many of the concepts are universal. Hope you find it helpful. http://www.getsmarteraboutmoney.ca/Pages/default.aspx\n",
            "\n"
          ]
        },
        {
          "output_type": "execute_result",
          "data": {
            "text/html": [
              "<div>\n",
              "<style scoped>\n",
              "    .dataframe tbody tr th:only-of-type {\n",
              "        vertical-align: middle;\n",
              "    }\n",
              "\n",
              "    .dataframe tbody tr th {\n",
              "        vertical-align: top;\n",
              "    }\n",
              "\n",
              "    .dataframe thead th {\n",
              "        text-align: right;\n",
              "    }\n",
              "</style>\n",
              "<table border=\"1\" class=\"dataframe\">\n",
              "  <thead>\n",
              "    <tr style=\"text-align: right;\">\n",
              "      <th></th>\n",
              "      <th>Rank</th>\n",
              "      <th>Index</th>\n",
              "      <th>Answer</th>\n",
              "    </tr>\n",
              "  </thead>\n",
              "  <tbody>\n",
              "    <tr>\n",
              "      <th>0</th>\n",
              "      <td>1</td>\n",
              "      <td>8079</td>\n",
              "      <td>If your financial needs aren't complex, and mo...</td>\n",
              "    </tr>\n",
              "    <tr>\n",
              "      <th>1</th>\n",
              "      <td>2</td>\n",
              "      <td>601</td>\n",
              "      <td>If you are looking for an advisor to just buil...</td>\n",
              "    </tr>\n",
              "    <tr>\n",
              "      <th>2</th>\n",
              "      <td>3</td>\n",
              "      <td>10050</td>\n",
              "      <td>Yes, there is a profession that does exactly w...</td>\n",
              "    </tr>\n",
              "    <tr>\n",
              "      <th>3</th>\n",
              "      <td>4</td>\n",
              "      <td>8080</td>\n",
              "      <td>Most individuals do not need a personal financ...</td>\n",
              "    </tr>\n",
              "    <tr>\n",
              "      <th>4</th>\n",
              "      <td>5</td>\n",
              "      <td>7148</td>\n",
              "      <td>At 1.4 Million, you can definately afford a pr...</td>\n",
              "    </tr>\n",
              "  </tbody>\n",
              "</table>\n",
              "</div>"
            ],
            "text/plain": [
              "  Rank  Index                                             Answer\n",
              "0    1   8079  If your financial needs aren't complex, and mo...\n",
              "1    2    601  If you are looking for an advisor to just buil...\n",
              "2    3  10050  Yes, there is a profession that does exactly w...\n",
              "3    4   8080  Most individuals do not need a personal financ...\n",
              "4    5   7148  At 1.4 Million, you can definately afford a pr..."
            ]
          },
          "metadata": {},
          "execution_count": 28
        }
      ]
    },
    {
      "cell_type": "code",
      "metadata": {
        "id": "20144d67-627f-47d2-9962-de1daca52506"
      },
      "source": [
        ""
      ],
      "id": "20144d67-627f-47d2-9962-de1daca52506",
      "execution_count": null,
      "outputs": []
    },
    {
      "cell_type": "code",
      "metadata": {
        "id": "959adac7-4717-4888-8834-4940ba5b322c"
      },
      "source": [
        ""
      ],
      "id": "959adac7-4717-4888-8834-4940ba5b322c",
      "execution_count": null,
      "outputs": []
    },
    {
      "cell_type": "code",
      "metadata": {
        "id": "5ba0bcb2-b09b-42df-99a4-080e92b0e1c9"
      },
      "source": [
        ""
      ],
      "id": "5ba0bcb2-b09b-42df-99a4-080e92b0e1c9",
      "execution_count": null,
      "outputs": []
    },
    {
      "cell_type": "code",
      "metadata": {
        "id": "4f18d484-f5aa-45a8-a23a-a7dfe771001f"
      },
      "source": [
        ""
      ],
      "id": "4f18d484-f5aa-45a8-a23a-a7dfe771001f",
      "execution_count": null,
      "outputs": []
    },
    {
      "cell_type": "code",
      "metadata": {
        "id": "d76dae36-2ce7-4bed-9ec2-c55dfe533c85"
      },
      "source": [
        ""
      ],
      "id": "d76dae36-2ce7-4bed-9ec2-c55dfe533c85",
      "execution_count": null,
      "outputs": []
    },
    {
      "cell_type": "code",
      "metadata": {
        "id": "bb1fe871-9dee-4732-8ac9-1dd35a74f3e4"
      },
      "source": [
        ""
      ],
      "id": "bb1fe871-9dee-4732-8ac9-1dd35a74f3e4",
      "execution_count": null,
      "outputs": []
    },
    {
      "cell_type": "code",
      "metadata": {
        "id": "732e618a-103d-4cc0-8150-0cd4ecffb102"
      },
      "source": [
        ""
      ],
      "id": "732e618a-103d-4cc0-8150-0cd4ecffb102",
      "execution_count": null,
      "outputs": []
    }
  ]
}